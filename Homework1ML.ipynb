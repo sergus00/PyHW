{
 "cells": [
  {
   "cell_type": "code",
   "execution_count": 311,
   "metadata": {
    "collapsed": true
   },
   "outputs": [],
   "source": [
    "import numpy as np\n",
    "import pandas as pd"
   ]
  },
  {
   "cell_type": "markdown",
   "metadata": {},
   "source": [
    "**1\\.** Как создать pd.Series из листа, numpy array и словаря(dict)? (★☆☆)"
   ]
  },
  {
   "cell_type": "code",
   "execution_count": 312,
   "metadata": {
    "collapsed": true
   },
   "outputs": [
    {
     "name": "stdout",
     "output_type": "stream",
     "text": [
      "0     a\n",
      "1     b\n",
      "2     c\n",
      "3     e\n",
      "4     d\n",
      "5     f\n",
      "6     g\n",
      "7     h\n",
      "8     i\n",
      "9     j\n",
      "10    k\n",
      "11    l\n",
      "12    m\n",
      "13    n\n",
      "14    o\n",
      "15    p\n",
      "16    q\n",
      "17    r\n",
      "18    s\n",
      "19    t\n",
      "20    u\n",
      "21    v\n",
      "22    w\n",
      "23    x\n",
      "24    y\n",
      "25    z\n",
      "dtype: object\n",
      "0      0\n",
      "1      1\n",
      "2      2\n",
      "3      3\n",
      "4      4\n",
      "5      5\n",
      "6      6\n",
      "7      7\n",
      "8      8\n",
      "9      9\n",
      "10    10\n",
      "11    11\n",
      "12    12\n",
      "13    13\n",
      "14    14\n",
      "15    15\n",
      "16    16\n",
      "17    17\n",
      "18    18\n",
      "19    19\n",
      "20    20\n",
      "21    21\n",
      "22    22\n",
      "23    23\n",
      "24    24\n",
      "25    25\n",
      "dtype: int32\n",
      "a     0\n",
      "b     1\n",
      "c     2\n",
      "e     3\n",
      "d     4\n",
      "f     5\n",
      "g     6\n",
      "h     7\n",
      "i     8\n",
      "j     9\n",
      "k    10\n",
      "l    11\n",
      "m    12\n",
      "n    13\n",
      "o    14\n",
      "p    15\n",
      "q    16\n",
      "r    17\n",
      "s    18\n",
      "t    19\n",
      "u    20\n",
      "v    21\n",
      "w    22\n",
      "x    23\n",
      "y    24\n",
      "z    25\n",
      "dtype: int64\n"
     ]
    }
   ],
   "source": [
    "mylist = list('abcedfghijklmnopqrstuvwxyz')\n",
    "myarr = np.arange(26)\n",
    "mydict = dict(zip(mylist, myarr))\n",
    "\n",
    "print(pd.Series(mylist))\n",
    "print(pd.Series(myarr))\n",
    "print(pd.Series(mydict))"
   ]
  },
  {
   "cell_type": "markdown",
   "metadata": {},
   "source": [
    "**2\\.** Как сделать превратить индексы из датафрейма в колонку? (★☆☆)"
   ]
  },
  {
   "cell_type": "code",
   "execution_count": 313,
   "metadata": {
    "collapsed": true
   },
   "outputs": [
    {
     "data": {
      "text/plain": "   0  index\n0  a      0\n1  b      1\n2  c      2",
      "text/html": "<div>\n<style scoped>\n    .dataframe tbody tr th:only-of-type {\n        vertical-align: middle;\n    }\n\n    .dataframe tbody tr th {\n        vertical-align: top;\n    }\n\n    .dataframe thead th {\n        text-align: right;\n    }\n</style>\n<table border=\"1\" class=\"dataframe\">\n  <thead>\n    <tr style=\"text-align: right;\">\n      <th></th>\n      <th>0</th>\n      <th>index</th>\n    </tr>\n  </thead>\n  <tbody>\n    <tr>\n      <th>0</th>\n      <td>a</td>\n      <td>0</td>\n    </tr>\n    <tr>\n      <th>1</th>\n      <td>b</td>\n      <td>1</td>\n    </tr>\n    <tr>\n      <th>2</th>\n      <td>c</td>\n      <td>2</td>\n    </tr>\n  </tbody>\n</table>\n</div>"
     },
     "execution_count": 313,
     "metadata": {},
     "output_type": "execute_result"
    }
   ],
   "source": [
    "df=pd.DataFrame(['a', 'b', 'c'])\n",
    "\n",
    "df['index'] = df.index\n",
    "df"
   ]
  },
  {
   "cell_type": "markdown",
   "metadata": {},
   "source": [
    "**3\\.** Как из нескольких pd.Series сделать один датафрейм? (★★☆)\n",
    "\n",
    "(hint: pd.concat или словарь с колонками)"
   ]
  },
  {
   "cell_type": "code",
   "execution_count": 314,
   "metadata": {
    "collapsed": true
   },
   "outputs": [
    {
     "data": {
      "text/plain": "   0   1   2\n0  a  aa  44\n1  b  b1  55\n2  c  c2  66",
      "text/html": "<div>\n<style scoped>\n    .dataframe tbody tr th:only-of-type {\n        vertical-align: middle;\n    }\n\n    .dataframe tbody tr th {\n        vertical-align: top;\n    }\n\n    .dataframe thead th {\n        text-align: right;\n    }\n</style>\n<table border=\"1\" class=\"dataframe\">\n  <thead>\n    <tr style=\"text-align: right;\">\n      <th></th>\n      <th>0</th>\n      <th>1</th>\n      <th>2</th>\n    </tr>\n  </thead>\n  <tbody>\n    <tr>\n      <th>0</th>\n      <td>a</td>\n      <td>aa</td>\n      <td>44</td>\n    </tr>\n    <tr>\n      <th>1</th>\n      <td>b</td>\n      <td>b1</td>\n      <td>55</td>\n    </tr>\n    <tr>\n      <th>2</th>\n      <td>c</td>\n      <td>c2</td>\n      <td>66</td>\n    </tr>\n  </tbody>\n</table>\n</div>"
     },
     "execution_count": 314,
     "metadata": {},
     "output_type": "execute_result"
    }
   ],
   "source": [
    "df1=pd.Series(['a', 'b', 'c'])\n",
    "df2=pd.Series(['aa', 'b1', 'c2'])\n",
    "df3=pd.Series(['44', '55', '66'])\n",
    "\n",
    "pd.concat([df1, df2, df3], axis=1)"
   ]
  },
  {
   "cell_type": "markdown",
   "metadata": {},
   "source": [
    "**4\\.** Как получить строки из series A, которые не содержатся в series B? (★★☆)"
   ]
  },
  {
   "cell_type": "code",
   "execution_count": 315,
   "metadata": {
    "collapsed": true
   },
   "outputs": [
    {
     "data": {
      "text/plain": "1    b\n2    c\ndtype: object"
     },
     "execution_count": 315,
     "metadata": {},
     "output_type": "execute_result"
    }
   ],
   "source": [
    "df1=pd.Series(['a', 'b', 'c'])\n",
    "df2=pd.Series(['a', 'b1', 'c2'])\n",
    "\n",
    "df1[~df1.isin(df2)]"
   ]
  },
  {
   "cell_type": "markdown",
   "metadata": {},
   "source": [
    "**5\\.** Как получить из series/dataframe минимум, 25й персентиль, медиану, 75тый персентиль, максимум? (★☆☆)\n",
    "\n",
    "(hint: использовать одну команду)"
   ]
  },
  {
   "cell_type": "code",
   "execution_count": 316,
   "metadata": {
    "collapsed": true
   },
   "outputs": [
    {
     "data": {
      "text/plain": "array([32., 54., 76., 98.])"
     },
     "execution_count": 316,
     "metadata": {},
     "output_type": "execute_result"
    }
   ],
   "source": [
    "df1=pd.Series(np.arange(10, 99))\n",
    "\n",
    "np.percentile(df1, [25, 50, 75, 100])"
   ]
  },
  {
   "cell_type": "markdown",
   "metadata": {},
   "source": [
    "**6\\.** Как получить частоту\\долю для всех уникальных объектов в series? (★☆☆)"
   ]
  },
  {
   "cell_type": "code",
   "execution_count": 317,
   "metadata": {
    "collapsed": true
   },
   "outputs": [
    {
     "data": {
      "text/plain": "(array(['a', 'b', 'c', 'g', 'u', 'v'], dtype=object),\n array([5, 2, 3, 1, 1, 1], dtype=int64))"
     },
     "execution_count": 317,
     "metadata": {},
     "output_type": "execute_result"
    }
   ],
   "source": [
    "df1=pd.Series(['a', 'b', 'c', 'g', 'v', 'a', 'a', 'a', 'u', 'a', 'b', 'c', 'c'])\n",
    "\n",
    "np.unique(df1, return_counts=True)"
   ]
  },
  {
   "cell_type": "markdown",
   "metadata": {},
   "source": [
    "**7\\.** Как оставить только топ-2 самых часто встречающихся значений, а все остальные значения заменить на 'other'?  (★★☆)"
   ]
  },
  {
   "cell_type": "code",
   "execution_count": 318,
   "metadata": {
    "collapsed": true
   },
   "outputs": [
    {
     "data": {
      "text/plain": "0         a\n1     other\n2         c\n3     other\n4     other\n5         a\n6         a\n7         a\n8     other\n9         a\n10    other\n11        c\n12        c\ndtype: object"
     },
     "execution_count": 318,
     "metadata": {},
     "output_type": "execute_result"
    }
   ],
   "source": [
    "df1=pd.Series(['a', 'b', 'c', 'g', 'v', 'a', 'a', 'a', 'u', 'a', 'b', 'c', 'c'])\n",
    "\n",
    "a = df1.value_counts()[:2].index.tolist()\n",
    "df1[~df1.isin(a) ] = 'other'\n",
    "df1"
   ]
  },
  {
   "cell_type": "markdown",
   "metadata": {},
   "source": [
    "**8\\.** Как разбить колонку с числовыми значениями на 10 групп одинакового размера?  (★★☆)\n",
    "\n",
    "(hint: pd.qcut)"
   ]
  },
  {
   "cell_type": "code",
   "execution_count": 319,
   "metadata": {
    "collapsed": true
   },
   "outputs": [
    {
     "data": {
      "text/plain": "0      (0.553, 0.594]\n1      (0.311, 0.475]\n2      (0.207, 0.311]\n3      (0.475, 0.518]\n4      (0.667, 0.701]\n5      (0.594, 0.667]\n6      (0.518, 0.553]\n7      (0.701, 0.839]\n8      (0.475, 0.518]\n9       (0.839, 0.85]\n10     (0.311, 0.475]\n11    (0.0716, 0.207]\n12      (0.839, 0.85]\n13     (0.207, 0.311]\n14     (0.701, 0.839]\n15    (0.0716, 0.207]\n16     (0.594, 0.667]\n17     (0.518, 0.553]\n18     (0.553, 0.594]\n19     (0.667, 0.701]\ndtype: category\nCategories (10, interval[float64]): [(0.0716, 0.207] < (0.207, 0.311] < (0.311, 0.475] < (0.475, 0.518] ... (0.594, 0.667] < (0.667, 0.701] < (0.701, 0.839] < (0.839, 0.85]]"
     },
     "execution_count": 319,
     "metadata": {},
     "output_type": "execute_result"
    }
   ],
   "source": [
    "s = pd.Series(np.random.random(20))\n",
    "pd.qcut(s, 10)"
   ]
  },
  {
   "cell_type": "markdown",
   "metadata": {},
   "source": [
    "**9\\.** Как найти позиции чисел, которые делятся на 3 без остатка из series?  (★★☆)\n",
    "\n",
    "(можно с помощью numpy и с помощью pandas)"
   ]
  },
  {
   "cell_type": "code",
   "execution_count": 320,
   "metadata": {
    "collapsed": true
   },
   "outputs": [
    {
     "data": {
      "text/plain": "Int64Index([2, 5], dtype='int64')"
     },
     "execution_count": 320,
     "metadata": {},
     "output_type": "execute_result"
    }
   ],
   "source": [
    "s = pd.Series([1, 2, 3, 4, 5, 6, 7])\n",
    "\n",
    "s[s % 3 == 0].index"
   ]
  },
  {
   "cell_type": "markdown",
   "metadata": {},
   "source": [
    "**10\\.** Как извлечь из series строки по индексам?  (★☆☆)"
   ]
  },
  {
   "cell_type": "code",
   "execution_count": 321,
   "metadata": {
    "collapsed": true
   },
   "outputs": [
    {
     "data": {
      "text/plain": "0     a\n4     e\n8     i\n14    o\n20    u\ndtype: object"
     },
     "execution_count": 321,
     "metadata": {},
     "output_type": "execute_result"
    }
   ],
   "source": [
    "s = pd.Series(list('abcdefghijklmnopqrstuvwxyz'))\n",
    "pos = [0, 4, 8, 14, 20]\n",
    "\n",
    "s[pos]"
   ]
  },
  {
   "cell_type": "markdown",
   "metadata": {},
   "source": [
    "**11\\.** Как сделать stack двух series вертикально и горизонтально? (★☆☆)\n",
    "\n",
    "(hint: pd.append, pd.concat)"
   ]
  },
  {
   "cell_type": "code",
   "execution_count": 322,
   "metadata": {
    "collapsed": true
   },
   "outputs": [
    {
     "name": "stdout",
     "output_type": "stream",
     "text": [
      "0    0\n",
      "1    1\n",
      "2    2\n",
      "3    3\n",
      "4    4\n",
      "0    a\n",
      "1    b\n",
      "2    c\n",
      "3    d\n",
      "4    e\n",
      "dtype: object\n",
      "   0  1\n",
      "0  0  a\n",
      "1  1  b\n",
      "2  2  c\n",
      "3  3  d\n",
      "4  4  e\n"
     ]
    }
   ],
   "source": [
    "s1 = pd.Series(range(5))\n",
    "s2 = pd.Series(list('abcde'))\n",
    "\n",
    "print(pd.concat([s1, s2]))\n",
    "print(pd.concat([s1, s2], axis=1))"
   ]
  },
  {
   "cell_type": "markdown",
   "metadata": {},
   "source": [
    "**12\\.** Как получить позиции строк из series A из другого series B? (★☆☆)\n",
    "\n",
    "(можно с помощью numpy и с помощью pandas)"
   ]
  },
  {
   "cell_type": "code",
   "execution_count": 323,
   "metadata": {
    "collapsed": true
   },
   "outputs": [
    {
     "data": {
      "text/plain": "array([5, 4, 0, 8], dtype=int64)"
     },
     "execution_count": 323,
     "metadata": {},
     "output_type": "execute_result"
    }
   ],
   "source": [
    "s1 = pd.Series([10, 9, 6, 5, 3, 1, 12, 8, 13])\n",
    "s2 = pd.Series([1, 3, 10, 13])\n",
    "\n",
    "s1 = pd.Series(s1.index, s1.values)\n",
    "s1[s2].values"
   ]
  },
  {
   "cell_type": "markdown",
   "metadata": {},
   "source": [
    "**13\\.** Как вычислить среднеквадратическую ошибку для истинных и предсказанных значений? (★★☆)"
   ]
  },
  {
   "cell_type": "code",
   "execution_count": 324,
   "metadata": {
    "collapsed": true
   },
   "outputs": [
    {
     "data": {
      "text/plain": "0.34260969679339404"
     },
     "execution_count": 324,
     "metadata": {},
     "output_type": "execute_result"
    }
   ],
   "source": [
    "truth = pd.Series(range(10))\n",
    "pred = pd.Series(range(10)) + np.random.random(10)\n",
    "\n",
    "((truth - pred) ** 2).mean()"
   ]
  },
  {
   "cell_type": "markdown",
   "metadata": {},
   "source": [
    "**14\\.** Как конвертировать каждый первый элемент строке в series в верхний регистр? (★★☆)"
   ]
  },
  {
   "cell_type": "code",
   "execution_count": 325,
   "metadata": {
    "collapsed": true
   },
   "outputs": [
    {
     "data": {
      "text/plain": "0     How\n1      To\n2    Kick\n3    Ass?\ndtype: object"
     },
     "execution_count": 325,
     "metadata": {},
     "output_type": "execute_result"
    }
   ],
   "source": [
    "s = pd.Series(['how', 'to', 'kick', 'ass?'])\n",
    "\n",
    "s.str.capitalize()"
   ]
  },
  {
   "cell_type": "markdown",
   "metadata": {},
   "source": [
    "**15\\.** Как посчитать количество символов в каждой строке? (★★☆)"
   ]
  },
  {
   "cell_type": "code",
   "execution_count": 326,
   "metadata": {
    "collapsed": true
   },
   "outputs": [
    {
     "data": {
      "text/plain": "0    3\n1    2\n2    4\n3    4\ndtype: int64"
     },
     "execution_count": 326,
     "metadata": {},
     "output_type": "execute_result"
    }
   ],
   "source": [
    "s = pd.Series(['how', 'to', 'kick', 'ass?'])\n",
    "\n",
    "s.str.len()"
   ]
  },
  {
   "cell_type": "markdown",
   "metadata": {},
   "source": [
    "**16\\.** Как преобразовать даты в виде строк в timeseries?  (★☆☆)\n",
    "\n",
    "(hint: pd.to_datetime)"
   ]
  },
  {
   "cell_type": "code",
   "execution_count": 327,
   "metadata": {
    "collapsed": true
   },
   "outputs": [
    {
     "data": {
      "text/plain": "0   2010-01-01 00:00:00\n1   2011-02-02 00:00:00\n2   2012-03-03 00:00:00\n3   2013-04-04 00:00:00\n4   2014-05-05 00:00:00\n5   2015-06-06 12:20:00\ndtype: datetime64[ns]"
     },
     "execution_count": 327,
     "metadata": {},
     "output_type": "execute_result"
    }
   ],
   "source": [
    "s = pd.Series(['01 Jan 2010', '02-02-2011', '20120303', '2013/04/04', '2014-05-05', '2015-06-06T12:20'])\n",
    "\n",
    "pd.to_datetime(s)"
   ]
  },
  {
   "cell_type": "markdown",
   "metadata": {},
   "source": [
    "**17\\.** Как получить день месяца, номер недели, день года и день недели из даты в виде строки? (★★☆)"
   ]
  },
  {
   "cell_type": "code",
   "execution_count": 328,
   "metadata": {
    "collapsed": true
   },
   "outputs": [
    {
     "name": "stdout",
     "output_type": "stream",
     "text": [
      "Date:  0    1\n",
      "1    2\n",
      "2    3\n",
      "3    4\n",
      "4    5\n",
      "5    6\n",
      "dtype: int64\n",
      "Week number:  0    53\n",
      "1     5\n",
      "2     9\n",
      "3    14\n",
      "4    19\n",
      "5    23\n",
      "dtype: int64\n",
      "Day number of year:  0      1\n",
      "1     33\n",
      "2     63\n",
      "3     94\n",
      "4    125\n",
      "5    157\n",
      "dtype: int64\n",
      "Day of week:  0    4\n",
      "1    2\n",
      "2    5\n",
      "3    3\n",
      "4    0\n",
      "5    5\n",
      "dtype: int64\n"
     ]
    },
    {
     "name": "stderr",
     "output_type": "stream",
     "text": [
      "<ipython-input-328-3b1c1bec8473>:7: FutureWarning: Series.dt.weekofyear and Series.dt.week have been deprecated.  Please use Series.dt.isocalendar().week instead.\n",
      "  print(\"Week number: \", date.dt.weekofyear)\n"
     ]
    }
   ],
   "source": [
    "s = pd.Series(['01 Jan 2010', '02-02-2011', '20120303', '2013/04/04', '2014-05-05', '2015-06-06T12:20'])\n",
    "\n",
    "date = pd.to_datetime(s)\n",
    "\n",
    "print(\"Date: \", date.dt.day)\n",
    "\n",
    "print(\"Week number: \", date.dt.weekofyear)\n",
    "\n",
    "print(\"Day number of year: \", date.dt.dayofyear)\n",
    "\n",
    "print(\"Day of week: \", date.dt.dayofweek)"
   ]
  },
  {
   "cell_type": "markdown",
   "metadata": {},
   "source": [
    "**18\\.** Как конвертировать дату из формата месяц-год в формат год-месяц-первое число? (★★☆)\n",
    "\n",
    "(hint: .strftime('%Y-%m-%d'))"
   ]
  },
  {
   "cell_type": "code",
   "execution_count": 329,
   "metadata": {
    "collapsed": true
   },
   "outputs": [
    {
     "data": {
      "text/plain": "0    2017-01-01\n1    2019-02-01\n2    2012-03-01\ndtype: object"
     },
     "execution_count": 329,
     "metadata": {},
     "output_type": "execute_result"
    }
   ],
   "source": [
    "s = pd.Series(['Jan 2017', 'Feb 2019', 'Mar 2012'])\n",
    "\n",
    "d = pd.to_datetime(s).dt.strftime('%Y-%m-%d')\n",
    "d"
   ]
  },
  {
   "cell_type": "markdown",
   "metadata": {},
   "source": [
    "**19\\.** Как отфильтровать слова, содержащие не менее 2 гласных? (★★☆)"
   ]
  },
  {
   "cell_type": "code",
   "execution_count": 330,
   "metadata": {
    "collapsed": true
   },
   "outputs": [
    {
     "data": {
      "text/plain": "0     Kitty\n3    Python\n4     Money\ndtype: object"
     },
     "execution_count": 330,
     "metadata": {},
     "output_type": "execute_result"
    }
   ],
   "source": [
    "s = pd.Series(['Kitty', 'Cat', 'Plan', 'Python', 'Money'])\n",
    "\n",
    "s_l = s.str.lower()\n",
    "s[s_l.str.count('a|e|i|o|u|y') >= 2]"
   ]
  },
  {
   "cell_type": "markdown",
   "metadata": {},
   "source": [
    "**20\\.** Заполните все пропущенные даты от минимальной до максимальной, значения при этом дожны быть равны предыдущей не пропущеной дате (★★★)"
   ]
  },
  {
   "cell_type": "code",
   "execution_count": 331,
   "metadata": {
    "collapsed": true
   },
   "outputs": [
    {
     "data": {
      "text/plain": "2000-01-01     1.0\n2000-01-02     1.0\n2000-01-03    10.0\n2000-01-04    10.0\n2000-01-05    10.0\n2000-01-06     3.0\n2000-01-07     3.0\n2000-01-08     NaN\nFreq: D, dtype: float64"
     },
     "execution_count": 331,
     "metadata": {},
     "output_type": "execute_result"
    }
   ],
   "source": [
    "s = pd.Series([1,10,3,np.nan], index=pd.to_datetime(['2000-01-01', '2000-01-03', '2000-01-06', '2000-01-08']))\n",
    "\n",
    "s.resample('D').pad()"
   ]
  },
  {
   "cell_type": "markdown",
   "metadata": {},
   "source": [
    "**21\\.** Считайте файл из CSV-файла по строчно и добавьте считанные строки в датафрейм (файл data/BostonHousing.csv)?  (★★☆)\n",
    "\n",
    "(hint: csv reader)"
   ]
  },
  {
   "cell_type": "code",
   "execution_count": 332,
   "metadata": {
    "collapsed": true
   },
   "outputs": [
    {
     "data": {
      "text/plain": "        crim  zn  indus chas    nox     rm   age     dis rad  tax ptratio  \\\n0    0.00632  18   2.31    0  0.538  6.575  65.2    4.09   1  296    15.3   \n1    0.02731   0   7.07    0  0.469  6.421  78.9  4.9671   2  242    17.8   \n2    0.02729   0   7.07    0  0.469  7.185  61.1  4.9671   2  242    17.8   \n3    0.03237   0   2.18    0  0.458  6.998  45.8  6.0622   3  222    18.7   \n4    0.06905   0   2.18    0  0.458  7.147  54.2  6.0622   3  222    18.7   \n..       ...  ..    ...  ...    ...    ...   ...     ...  ..  ...     ...   \n501  0.06263   0  11.93    0  0.573  6.593  69.1  2.4786   1  273      21   \n502  0.04527   0  11.93    0  0.573   6.12  76.7  2.2875   1  273      21   \n503  0.06076   0  11.93    0  0.573  6.976    91  2.1675   1  273      21   \n504  0.10959   0  11.93    0  0.573  6.794  89.3  2.3889   1  273      21   \n505  0.04741   0  11.93    0  0.573   6.03  80.8   2.505   1  273      21   \n\n          b lstat  medv  \n0     396.9  4.98    24  \n1     396.9  9.14  21.6  \n2    392.83  4.03  34.7  \n3    394.63  2.94  33.4  \n4     396.9  5.33  36.2  \n..      ...   ...   ...  \n501  391.99  9.67  22.4  \n502   396.9  9.08  20.6  \n503   396.9  5.64  23.9  \n504  393.45  6.48    22  \n505   396.9  7.88  11.9  \n\n[506 rows x 14 columns]",
      "text/html": "<div>\n<style scoped>\n    .dataframe tbody tr th:only-of-type {\n        vertical-align: middle;\n    }\n\n    .dataframe tbody tr th {\n        vertical-align: top;\n    }\n\n    .dataframe thead th {\n        text-align: right;\n    }\n</style>\n<table border=\"1\" class=\"dataframe\">\n  <thead>\n    <tr style=\"text-align: right;\">\n      <th></th>\n      <th>crim</th>\n      <th>zn</th>\n      <th>indus</th>\n      <th>chas</th>\n      <th>nox</th>\n      <th>rm</th>\n      <th>age</th>\n      <th>dis</th>\n      <th>rad</th>\n      <th>tax</th>\n      <th>ptratio</th>\n      <th>b</th>\n      <th>lstat</th>\n      <th>medv</th>\n    </tr>\n  </thead>\n  <tbody>\n    <tr>\n      <th>0</th>\n      <td>0.00632</td>\n      <td>18</td>\n      <td>2.31</td>\n      <td>0</td>\n      <td>0.538</td>\n      <td>6.575</td>\n      <td>65.2</td>\n      <td>4.09</td>\n      <td>1</td>\n      <td>296</td>\n      <td>15.3</td>\n      <td>396.9</td>\n      <td>4.98</td>\n      <td>24</td>\n    </tr>\n    <tr>\n      <th>1</th>\n      <td>0.02731</td>\n      <td>0</td>\n      <td>7.07</td>\n      <td>0</td>\n      <td>0.469</td>\n      <td>6.421</td>\n      <td>78.9</td>\n      <td>4.9671</td>\n      <td>2</td>\n      <td>242</td>\n      <td>17.8</td>\n      <td>396.9</td>\n      <td>9.14</td>\n      <td>21.6</td>\n    </tr>\n    <tr>\n      <th>2</th>\n      <td>0.02729</td>\n      <td>0</td>\n      <td>7.07</td>\n      <td>0</td>\n      <td>0.469</td>\n      <td>7.185</td>\n      <td>61.1</td>\n      <td>4.9671</td>\n      <td>2</td>\n      <td>242</td>\n      <td>17.8</td>\n      <td>392.83</td>\n      <td>4.03</td>\n      <td>34.7</td>\n    </tr>\n    <tr>\n      <th>3</th>\n      <td>0.03237</td>\n      <td>0</td>\n      <td>2.18</td>\n      <td>0</td>\n      <td>0.458</td>\n      <td>6.998</td>\n      <td>45.8</td>\n      <td>6.0622</td>\n      <td>3</td>\n      <td>222</td>\n      <td>18.7</td>\n      <td>394.63</td>\n      <td>2.94</td>\n      <td>33.4</td>\n    </tr>\n    <tr>\n      <th>4</th>\n      <td>0.06905</td>\n      <td>0</td>\n      <td>2.18</td>\n      <td>0</td>\n      <td>0.458</td>\n      <td>7.147</td>\n      <td>54.2</td>\n      <td>6.0622</td>\n      <td>3</td>\n      <td>222</td>\n      <td>18.7</td>\n      <td>396.9</td>\n      <td>5.33</td>\n      <td>36.2</td>\n    </tr>\n    <tr>\n      <th>...</th>\n      <td>...</td>\n      <td>...</td>\n      <td>...</td>\n      <td>...</td>\n      <td>...</td>\n      <td>...</td>\n      <td>...</td>\n      <td>...</td>\n      <td>...</td>\n      <td>...</td>\n      <td>...</td>\n      <td>...</td>\n      <td>...</td>\n      <td>...</td>\n    </tr>\n    <tr>\n      <th>501</th>\n      <td>0.06263</td>\n      <td>0</td>\n      <td>11.93</td>\n      <td>0</td>\n      <td>0.573</td>\n      <td>6.593</td>\n      <td>69.1</td>\n      <td>2.4786</td>\n      <td>1</td>\n      <td>273</td>\n      <td>21</td>\n      <td>391.99</td>\n      <td>9.67</td>\n      <td>22.4</td>\n    </tr>\n    <tr>\n      <th>502</th>\n      <td>0.04527</td>\n      <td>0</td>\n      <td>11.93</td>\n      <td>0</td>\n      <td>0.573</td>\n      <td>6.12</td>\n      <td>76.7</td>\n      <td>2.2875</td>\n      <td>1</td>\n      <td>273</td>\n      <td>21</td>\n      <td>396.9</td>\n      <td>9.08</td>\n      <td>20.6</td>\n    </tr>\n    <tr>\n      <th>503</th>\n      <td>0.06076</td>\n      <td>0</td>\n      <td>11.93</td>\n      <td>0</td>\n      <td>0.573</td>\n      <td>6.976</td>\n      <td>91</td>\n      <td>2.1675</td>\n      <td>1</td>\n      <td>273</td>\n      <td>21</td>\n      <td>396.9</td>\n      <td>5.64</td>\n      <td>23.9</td>\n    </tr>\n    <tr>\n      <th>504</th>\n      <td>0.10959</td>\n      <td>0</td>\n      <td>11.93</td>\n      <td>0</td>\n      <td>0.573</td>\n      <td>6.794</td>\n      <td>89.3</td>\n      <td>2.3889</td>\n      <td>1</td>\n      <td>273</td>\n      <td>21</td>\n      <td>393.45</td>\n      <td>6.48</td>\n      <td>22</td>\n    </tr>\n    <tr>\n      <th>505</th>\n      <td>0.04741</td>\n      <td>0</td>\n      <td>11.93</td>\n      <td>0</td>\n      <td>0.573</td>\n      <td>6.03</td>\n      <td>80.8</td>\n      <td>2.505</td>\n      <td>1</td>\n      <td>273</td>\n      <td>21</td>\n      <td>396.9</td>\n      <td>7.88</td>\n      <td>11.9</td>\n    </tr>\n  </tbody>\n</table>\n<p>506 rows × 14 columns</p>\n</div>"
     },
     "execution_count": 332,
     "metadata": {},
     "output_type": "execute_result"
    }
   ],
   "source": [
    "from csv import reader\n",
    "with open('BostonHousing.csv', newline='') as file:\n",
    "    r = reader(file)\n",
    "    index = data = None\n",
    "    for row in r:\n",
    "        if data is None:\n",
    "            index = row\n",
    "            data = []\n",
    "        else:\n",
    "            data.append(row)\n",
    "\n",
    "df = pd.DataFrame(data, columns=index)\n",
    "df"
   ]
  },
  {
   "cell_type": "markdown",
   "metadata": {},
   "source": [
    "**22\\.** Как изменить значения столбца при импорте csv в фрейм данных?\n",
    "Импортируйте датасет с помощью pd.read_csv, но колонку 'medv' (median house value) измените так, что если value < 25 = ‘Low’ и если > 25 = ‘High’.  (★★☆)\n",
    "\n",
    "(hint: pd.read_csv(....., converts={}))"
   ]
  },
  {
   "cell_type": "code",
   "execution_count": 333,
   "metadata": {
    "collapsed": true
   },
   "outputs": [
    {
     "data": {
      "text/plain": "        crim    zn  indus  chas    nox     rm   age     dis  rad  tax  \\\n0    0.00632  18.0   2.31     0  0.538  6.575  65.2  4.0900    1  296   \n1    0.02731   0.0   7.07     0  0.469  6.421  78.9  4.9671    2  242   \n2    0.02729   0.0   7.07     0  0.469  7.185  61.1  4.9671    2  242   \n3    0.03237   0.0   2.18     0  0.458  6.998  45.8  6.0622    3  222   \n4    0.06905   0.0   2.18     0  0.458  7.147  54.2  6.0622    3  222   \n..       ...   ...    ...   ...    ...    ...   ...     ...  ...  ...   \n501  0.06263   0.0  11.93     0  0.573  6.593  69.1  2.4786    1  273   \n502  0.04527   0.0  11.93     0  0.573  6.120  76.7  2.2875    1  273   \n503  0.06076   0.0  11.93     0  0.573  6.976  91.0  2.1675    1  273   \n504  0.10959   0.0  11.93     0  0.573  6.794  89.3  2.3889    1  273   \n505  0.04741   0.0  11.93     0  0.573  6.030  80.8  2.5050    1  273   \n\n     ptratio       b  lstat  medv  \n0       15.3  396.90   4.98   Low  \n1       17.8  396.90   9.14   Low  \n2       17.8  392.83   4.03  High  \n3       18.7  394.63   2.94  High  \n4       18.7  396.90   5.33  High  \n..       ...     ...    ...   ...  \n501     21.0  391.99   9.67   Low  \n502     21.0  396.90   9.08   Low  \n503     21.0  396.90   5.64   Low  \n504     21.0  393.45   6.48   Low  \n505     21.0  396.90   7.88   Low  \n\n[506 rows x 14 columns]",
      "text/html": "<div>\n<style scoped>\n    .dataframe tbody tr th:only-of-type {\n        vertical-align: middle;\n    }\n\n    .dataframe tbody tr th {\n        vertical-align: top;\n    }\n\n    .dataframe thead th {\n        text-align: right;\n    }\n</style>\n<table border=\"1\" class=\"dataframe\">\n  <thead>\n    <tr style=\"text-align: right;\">\n      <th></th>\n      <th>crim</th>\n      <th>zn</th>\n      <th>indus</th>\n      <th>chas</th>\n      <th>nox</th>\n      <th>rm</th>\n      <th>age</th>\n      <th>dis</th>\n      <th>rad</th>\n      <th>tax</th>\n      <th>ptratio</th>\n      <th>b</th>\n      <th>lstat</th>\n      <th>medv</th>\n    </tr>\n  </thead>\n  <tbody>\n    <tr>\n      <th>0</th>\n      <td>0.00632</td>\n      <td>18.0</td>\n      <td>2.31</td>\n      <td>0</td>\n      <td>0.538</td>\n      <td>6.575</td>\n      <td>65.2</td>\n      <td>4.0900</td>\n      <td>1</td>\n      <td>296</td>\n      <td>15.3</td>\n      <td>396.90</td>\n      <td>4.98</td>\n      <td>Low</td>\n    </tr>\n    <tr>\n      <th>1</th>\n      <td>0.02731</td>\n      <td>0.0</td>\n      <td>7.07</td>\n      <td>0</td>\n      <td>0.469</td>\n      <td>6.421</td>\n      <td>78.9</td>\n      <td>4.9671</td>\n      <td>2</td>\n      <td>242</td>\n      <td>17.8</td>\n      <td>396.90</td>\n      <td>9.14</td>\n      <td>Low</td>\n    </tr>\n    <tr>\n      <th>2</th>\n      <td>0.02729</td>\n      <td>0.0</td>\n      <td>7.07</td>\n      <td>0</td>\n      <td>0.469</td>\n      <td>7.185</td>\n      <td>61.1</td>\n      <td>4.9671</td>\n      <td>2</td>\n      <td>242</td>\n      <td>17.8</td>\n      <td>392.83</td>\n      <td>4.03</td>\n      <td>High</td>\n    </tr>\n    <tr>\n      <th>3</th>\n      <td>0.03237</td>\n      <td>0.0</td>\n      <td>2.18</td>\n      <td>0</td>\n      <td>0.458</td>\n      <td>6.998</td>\n      <td>45.8</td>\n      <td>6.0622</td>\n      <td>3</td>\n      <td>222</td>\n      <td>18.7</td>\n      <td>394.63</td>\n      <td>2.94</td>\n      <td>High</td>\n    </tr>\n    <tr>\n      <th>4</th>\n      <td>0.06905</td>\n      <td>0.0</td>\n      <td>2.18</td>\n      <td>0</td>\n      <td>0.458</td>\n      <td>7.147</td>\n      <td>54.2</td>\n      <td>6.0622</td>\n      <td>3</td>\n      <td>222</td>\n      <td>18.7</td>\n      <td>396.90</td>\n      <td>5.33</td>\n      <td>High</td>\n    </tr>\n    <tr>\n      <th>...</th>\n      <td>...</td>\n      <td>...</td>\n      <td>...</td>\n      <td>...</td>\n      <td>...</td>\n      <td>...</td>\n      <td>...</td>\n      <td>...</td>\n      <td>...</td>\n      <td>...</td>\n      <td>...</td>\n      <td>...</td>\n      <td>...</td>\n      <td>...</td>\n    </tr>\n    <tr>\n      <th>501</th>\n      <td>0.06263</td>\n      <td>0.0</td>\n      <td>11.93</td>\n      <td>0</td>\n      <td>0.573</td>\n      <td>6.593</td>\n      <td>69.1</td>\n      <td>2.4786</td>\n      <td>1</td>\n      <td>273</td>\n      <td>21.0</td>\n      <td>391.99</td>\n      <td>9.67</td>\n      <td>Low</td>\n    </tr>\n    <tr>\n      <th>502</th>\n      <td>0.04527</td>\n      <td>0.0</td>\n      <td>11.93</td>\n      <td>0</td>\n      <td>0.573</td>\n      <td>6.120</td>\n      <td>76.7</td>\n      <td>2.2875</td>\n      <td>1</td>\n      <td>273</td>\n      <td>21.0</td>\n      <td>396.90</td>\n      <td>9.08</td>\n      <td>Low</td>\n    </tr>\n    <tr>\n      <th>503</th>\n      <td>0.06076</td>\n      <td>0.0</td>\n      <td>11.93</td>\n      <td>0</td>\n      <td>0.573</td>\n      <td>6.976</td>\n      <td>91.0</td>\n      <td>2.1675</td>\n      <td>1</td>\n      <td>273</td>\n      <td>21.0</td>\n      <td>396.90</td>\n      <td>5.64</td>\n      <td>Low</td>\n    </tr>\n    <tr>\n      <th>504</th>\n      <td>0.10959</td>\n      <td>0.0</td>\n      <td>11.93</td>\n      <td>0</td>\n      <td>0.573</td>\n      <td>6.794</td>\n      <td>89.3</td>\n      <td>2.3889</td>\n      <td>1</td>\n      <td>273</td>\n      <td>21.0</td>\n      <td>393.45</td>\n      <td>6.48</td>\n      <td>Low</td>\n    </tr>\n    <tr>\n      <th>505</th>\n      <td>0.04741</td>\n      <td>0.0</td>\n      <td>11.93</td>\n      <td>0</td>\n      <td>0.573</td>\n      <td>6.030</td>\n      <td>80.8</td>\n      <td>2.5050</td>\n      <td>1</td>\n      <td>273</td>\n      <td>21.0</td>\n      <td>396.90</td>\n      <td>7.88</td>\n      <td>Low</td>\n    </tr>\n  </tbody>\n</table>\n<p>506 rows × 14 columns</p>\n</div>"
     },
     "execution_count": 333,
     "metadata": {},
     "output_type": "execute_result"
    }
   ],
   "source": [
    "pd.read_csv('.\\BostonHousing.csv',\n",
    "            converters={'medv': lambda medved: 'Low' if float(medved) < 25 else 'High'})"
   ]
  },
  {
   "cell_type": "markdown",
   "metadata": {},
   "source": [
    "**23\\.** Как импортировать только указанные столбцы('crim' и 'medv') и только n строк из CSV-файла?  (★☆☆)"
   ]
  },
  {
   "cell_type": "code",
   "execution_count": 334,
   "metadata": {
    "collapsed": true
   },
   "outputs": [
    {
     "data": {
      "text/plain": "      crim  medv\n0  0.00632  24.0\n1  0.02731  21.6\n2  0.02729  34.7\n3  0.03237  33.4\n4  0.06905  36.2\n5  0.02985  28.7\n6  0.08829  22.9\n7  0.14455  27.1\n8  0.21124  16.5\n9  0.17004  18.9",
      "text/html": "<div>\n<style scoped>\n    .dataframe tbody tr th:only-of-type {\n        vertical-align: middle;\n    }\n\n    .dataframe tbody tr th {\n        vertical-align: top;\n    }\n\n    .dataframe thead th {\n        text-align: right;\n    }\n</style>\n<table border=\"1\" class=\"dataframe\">\n  <thead>\n    <tr style=\"text-align: right;\">\n      <th></th>\n      <th>crim</th>\n      <th>medv</th>\n    </tr>\n  </thead>\n  <tbody>\n    <tr>\n      <th>0</th>\n      <td>0.00632</td>\n      <td>24.0</td>\n    </tr>\n    <tr>\n      <th>1</th>\n      <td>0.02731</td>\n      <td>21.6</td>\n    </tr>\n    <tr>\n      <th>2</th>\n      <td>0.02729</td>\n      <td>34.7</td>\n    </tr>\n    <tr>\n      <th>3</th>\n      <td>0.03237</td>\n      <td>33.4</td>\n    </tr>\n    <tr>\n      <th>4</th>\n      <td>0.06905</td>\n      <td>36.2</td>\n    </tr>\n    <tr>\n      <th>5</th>\n      <td>0.02985</td>\n      <td>28.7</td>\n    </tr>\n    <tr>\n      <th>6</th>\n      <td>0.08829</td>\n      <td>22.9</td>\n    </tr>\n    <tr>\n      <th>7</th>\n      <td>0.14455</td>\n      <td>27.1</td>\n    </tr>\n    <tr>\n      <th>8</th>\n      <td>0.21124</td>\n      <td>16.5</td>\n    </tr>\n    <tr>\n      <th>9</th>\n      <td>0.17004</td>\n      <td>18.9</td>\n    </tr>\n  </tbody>\n</table>\n</div>"
     },
     "execution_count": 334,
     "metadata": {},
     "output_type": "execute_result"
    }
   ],
   "source": [
    "n = 10\n",
    "pd.read_csv('.\\BostonHousing.csv', usecols=['crim', 'medv'], nrows=n)"
   ]
  },
  {
   "cell_type": "markdown",
   "metadata": {},
   "source": [
    "**24\\.** Как получить кол-во строк, кол-во столбцов, тип столбцов, кол-во столбцов с таким типом данных, итоговую статистику каждого столбца датафрейма?  (★☆☆)"
   ]
  },
  {
   "cell_type": "code",
   "execution_count": 335,
   "metadata": {
    "collapsed": true
   },
   "outputs": [
    {
     "name": "stdout",
     "output_type": "stream",
     "text": [
      "(93, 27)\n",
      "Manufacturer           object\n",
      "Model                  object\n",
      "Type                   object\n",
      "Min.Price             float64\n",
      "Price                 float64\n",
      "Max.Price             float64\n",
      "MPG.city              float64\n",
      "MPG.highway           float64\n",
      "AirBags                object\n",
      "DriveTrain             object\n",
      "Cylinders              object\n",
      "EngineSize            float64\n",
      "Horsepower            float64\n",
      "RPM                   float64\n",
      "Rev.per.mile          float64\n",
      "Man.trans.avail        object\n",
      "Fuel.tank.capacity    float64\n",
      "Passengers            float64\n",
      "Length                float64\n",
      "Wheelbase             float64\n",
      "Width                 float64\n",
      "Turn.circle           float64\n",
      "Rear.seat.room        float64\n",
      "Luggage.room          float64\n",
      "Weight                float64\n",
      "Origin                 object\n",
      "Make                   object\n",
      "dtype: object\n",
      "float64    18\n",
      "object      9\n",
      "dtype: int64\n"
     ]
    },
    {
     "data": {
      "text/plain": "       Min.Price      Price  Max.Price   MPG.city  MPG.highway  EngineSize  \\\ncount  86.000000  91.000000  88.000000  84.000000    91.000000   91.000000   \nmean   17.118605  19.616484  21.459091  22.404762    29.065934    2.658242   \nstd     8.828290   9.724280  10.696563   5.841520     5.370293    1.045845   \nmin     6.700000   7.400000   7.900000  15.000000    20.000000    1.000000   \n25%    10.825000  12.350000  14.575000  18.000000    26.000000    1.800000   \n50%    14.600000  17.700000  19.150000  21.000000    28.000000    2.300000   \n75%    20.250000  23.500000  24.825000  25.000000    31.000000    3.250000   \nmax    45.400000  61.900000  80.000000  46.000000    50.000000    5.700000   \n\n       Horsepower          RPM  Rev.per.mile  Fuel.tank.capacity  Passengers  \\\ncount   86.000000    90.000000     87.000000           85.000000   91.000000   \nmean   144.000000  5276.666667   2355.000000           16.683529    5.076923   \nstd     53.455204   605.554811    486.916616            3.375748    1.045953   \nmin     55.000000  3800.000000   1320.000000            9.200000    2.000000   \n25%    100.750000  4800.000000   2017.500000           14.500000    4.000000   \n50%    140.000000  5200.000000   2360.000000           16.500000    5.000000   \n75%    170.000000  5787.500000   2565.000000           19.000000    6.000000   \nmax    300.000000  6500.000000   3755.000000           27.000000    8.000000   \n\n           Length   Wheelbase      Width  Turn.circle  Rear.seat.room  \\\ncount   89.000000   92.000000  87.000000    88.000000       89.000000   \nmean   182.865169  103.956522  69.448276    38.954545       27.853933   \nstd     14.792651    6.856317   3.778023     3.304157        3.018129   \nmin    141.000000   90.000000  60.000000    32.000000       19.000000   \n25%    174.000000   98.000000  67.000000    36.000000       26.000000   \n50%    181.000000  103.000000  69.000000    39.000000       27.500000   \n75%    192.000000  110.000000  72.000000    42.000000       30.000000   \nmax    219.000000  119.000000  78.000000    45.000000       36.000000   \n\n       Luggage.room       Weight  \ncount     74.000000    86.000000  \nmean      13.986486  3104.593023  \nstd        3.120824   600.129993  \nmin        6.000000  1695.000000  \n25%       12.000000  2647.500000  \n50%       14.000000  3085.000000  \n75%       16.000000  3567.500000  \nmax       22.000000  4105.000000  ",
      "text/html": "<div>\n<style scoped>\n    .dataframe tbody tr th:only-of-type {\n        vertical-align: middle;\n    }\n\n    .dataframe tbody tr th {\n        vertical-align: top;\n    }\n\n    .dataframe thead th {\n        text-align: right;\n    }\n</style>\n<table border=\"1\" class=\"dataframe\">\n  <thead>\n    <tr style=\"text-align: right;\">\n      <th></th>\n      <th>Min.Price</th>\n      <th>Price</th>\n      <th>Max.Price</th>\n      <th>MPG.city</th>\n      <th>MPG.highway</th>\n      <th>EngineSize</th>\n      <th>Horsepower</th>\n      <th>RPM</th>\n      <th>Rev.per.mile</th>\n      <th>Fuel.tank.capacity</th>\n      <th>Passengers</th>\n      <th>Length</th>\n      <th>Wheelbase</th>\n      <th>Width</th>\n      <th>Turn.circle</th>\n      <th>Rear.seat.room</th>\n      <th>Luggage.room</th>\n      <th>Weight</th>\n    </tr>\n  </thead>\n  <tbody>\n    <tr>\n      <th>count</th>\n      <td>86.000000</td>\n      <td>91.000000</td>\n      <td>88.000000</td>\n      <td>84.000000</td>\n      <td>91.000000</td>\n      <td>91.000000</td>\n      <td>86.000000</td>\n      <td>90.000000</td>\n      <td>87.000000</td>\n      <td>85.000000</td>\n      <td>91.000000</td>\n      <td>89.000000</td>\n      <td>92.000000</td>\n      <td>87.000000</td>\n      <td>88.000000</td>\n      <td>89.000000</td>\n      <td>74.000000</td>\n      <td>86.000000</td>\n    </tr>\n    <tr>\n      <th>mean</th>\n      <td>17.118605</td>\n      <td>19.616484</td>\n      <td>21.459091</td>\n      <td>22.404762</td>\n      <td>29.065934</td>\n      <td>2.658242</td>\n      <td>144.000000</td>\n      <td>5276.666667</td>\n      <td>2355.000000</td>\n      <td>16.683529</td>\n      <td>5.076923</td>\n      <td>182.865169</td>\n      <td>103.956522</td>\n      <td>69.448276</td>\n      <td>38.954545</td>\n      <td>27.853933</td>\n      <td>13.986486</td>\n      <td>3104.593023</td>\n    </tr>\n    <tr>\n      <th>std</th>\n      <td>8.828290</td>\n      <td>9.724280</td>\n      <td>10.696563</td>\n      <td>5.841520</td>\n      <td>5.370293</td>\n      <td>1.045845</td>\n      <td>53.455204</td>\n      <td>605.554811</td>\n      <td>486.916616</td>\n      <td>3.375748</td>\n      <td>1.045953</td>\n      <td>14.792651</td>\n      <td>6.856317</td>\n      <td>3.778023</td>\n      <td>3.304157</td>\n      <td>3.018129</td>\n      <td>3.120824</td>\n      <td>600.129993</td>\n    </tr>\n    <tr>\n      <th>min</th>\n      <td>6.700000</td>\n      <td>7.400000</td>\n      <td>7.900000</td>\n      <td>15.000000</td>\n      <td>20.000000</td>\n      <td>1.000000</td>\n      <td>55.000000</td>\n      <td>3800.000000</td>\n      <td>1320.000000</td>\n      <td>9.200000</td>\n      <td>2.000000</td>\n      <td>141.000000</td>\n      <td>90.000000</td>\n      <td>60.000000</td>\n      <td>32.000000</td>\n      <td>19.000000</td>\n      <td>6.000000</td>\n      <td>1695.000000</td>\n    </tr>\n    <tr>\n      <th>25%</th>\n      <td>10.825000</td>\n      <td>12.350000</td>\n      <td>14.575000</td>\n      <td>18.000000</td>\n      <td>26.000000</td>\n      <td>1.800000</td>\n      <td>100.750000</td>\n      <td>4800.000000</td>\n      <td>2017.500000</td>\n      <td>14.500000</td>\n      <td>4.000000</td>\n      <td>174.000000</td>\n      <td>98.000000</td>\n      <td>67.000000</td>\n      <td>36.000000</td>\n      <td>26.000000</td>\n      <td>12.000000</td>\n      <td>2647.500000</td>\n    </tr>\n    <tr>\n      <th>50%</th>\n      <td>14.600000</td>\n      <td>17.700000</td>\n      <td>19.150000</td>\n      <td>21.000000</td>\n      <td>28.000000</td>\n      <td>2.300000</td>\n      <td>140.000000</td>\n      <td>5200.000000</td>\n      <td>2360.000000</td>\n      <td>16.500000</td>\n      <td>5.000000</td>\n      <td>181.000000</td>\n      <td>103.000000</td>\n      <td>69.000000</td>\n      <td>39.000000</td>\n      <td>27.500000</td>\n      <td>14.000000</td>\n      <td>3085.000000</td>\n    </tr>\n    <tr>\n      <th>75%</th>\n      <td>20.250000</td>\n      <td>23.500000</td>\n      <td>24.825000</td>\n      <td>25.000000</td>\n      <td>31.000000</td>\n      <td>3.250000</td>\n      <td>170.000000</td>\n      <td>5787.500000</td>\n      <td>2565.000000</td>\n      <td>19.000000</td>\n      <td>6.000000</td>\n      <td>192.000000</td>\n      <td>110.000000</td>\n      <td>72.000000</td>\n      <td>42.000000</td>\n      <td>30.000000</td>\n      <td>16.000000</td>\n      <td>3567.500000</td>\n    </tr>\n    <tr>\n      <th>max</th>\n      <td>45.400000</td>\n      <td>61.900000</td>\n      <td>80.000000</td>\n      <td>46.000000</td>\n      <td>50.000000</td>\n      <td>5.700000</td>\n      <td>300.000000</td>\n      <td>6500.000000</td>\n      <td>3755.000000</td>\n      <td>27.000000</td>\n      <td>8.000000</td>\n      <td>219.000000</td>\n      <td>119.000000</td>\n      <td>78.000000</td>\n      <td>45.000000</td>\n      <td>36.000000</td>\n      <td>22.000000</td>\n      <td>4105.000000</td>\n    </tr>\n  </tbody>\n</table>\n</div>"
     },
     "execution_count": 335,
     "metadata": {},
     "output_type": "execute_result"
    }
   ],
   "source": [
    "df = pd.read_csv('https://raw.githubusercontent.com/selva86/datasets/master/Cars93_miss.csv')\n",
    "\n",
    "#  number of rows and columns\n",
    "print(df.shape)\n",
    "# datatypes\n",
    "print(df.dtypes)\n",
    "# how many columns under each dtype\n",
    "print(df.dtypes.value_counts())\n",
    "# summary statistics\n",
    "df.describe()"
   ]
  },
  {
   "cell_type": "markdown",
   "metadata": {},
   "source": [
    "**25\\.** Как извлечь номер строки и столбца конкретной ячейки с заданным критерием? (★☆☆)"
   ]
  },
  {
   "cell_type": "code",
   "execution_count": 336,
   "metadata": {
    "collapsed": true
   },
   "outputs": [
    {
     "name": "stdout",
     "output_type": "stream",
     "text": [
      "Mercedes-Benz\n",
      "58\n",
      "4\n"
     ]
    },
    {
     "data": {
      "text/plain": "61.9"
     },
     "execution_count": 336,
     "metadata": {},
     "output_type": "execute_result"
    }
   ],
   "source": [
    "df = pd.read_csv('https://raw.githubusercontent.com/selva86/datasets/master/Cars93_miss.csv')\n",
    "\n",
    "# Get Manufacturer with highest price\n",
    "manufacturer = df.loc[df['Price'].idxmax()]['Manufacturer']\n",
    "print(manufacturer)\n",
    "# Get Row and Column number\n",
    "print(df['Price'].idxmax())\n",
    "print(df.columns.get_loc('Price'))\n",
    "# Get the value\n",
    "df.loc[df['Price'].idxmax()]['Price']"
   ]
  },
  {
   "cell_type": "markdown",
   "metadata": {},
   "source": [
    "**26\\.** Переименнуйте колонку Type в CarType, в столбцах с '.' в названии замените её на '_'. Как добавить ко всем названиям колонок суффиксы?  (★☆☆)"
   ]
  },
  {
   "cell_type": "code",
   "execution_count": 337,
   "metadata": {},
   "outputs": [
    {
     "name": "stderr",
     "output_type": "stream",
     "text": [
      "<ipython-input-337-bc073c6dba7a>:4: FutureWarning: The default value of regex will change from True to False in a future version. In addition, single character regular expressions will*not* be treated as literal strings when regex=True.\n",
      "  df.columns = df.columns.str.replace('.', '_')\n"
     ]
    },
    {
     "data": {
      "text/plain": "   Manufacturer    Model  CarType  Min_Price  Price  Max_Price  MPG_city  \\\n0         Acura  Integra    Small       12.9   15.9       18.8      25.0   \n1           NaN   Legend  Midsize       29.2   33.9       38.7      18.0   \n2          Audi       90  Compact       25.9   29.1       32.3      20.0   \n3          Audi      100  Midsize        NaN   37.7       44.6      19.0   \n4           BMW     535i  Midsize        NaN   30.0        NaN      22.0   \n..          ...      ...      ...        ...    ...        ...       ...   \n88   Volkswagen  Eurovan      Van       16.6   19.7       22.7      17.0   \n89   Volkswagen   Passat  Compact       17.6   20.0       22.4      21.0   \n90   Volkswagen  Corrado   Sporty       22.9   23.3       23.7      18.0   \n91        Volvo      240  Compact       21.8   22.7       23.5      21.0   \n92          NaN      850  Midsize       24.8   26.7       28.5      20.0   \n\n    MPG_highway             AirBags DriveTrain  ... Passengers  Length  \\\n0          31.0                None      Front  ...        5.0   177.0   \n1          25.0  Driver & Passenger      Front  ...        5.0   195.0   \n2          26.0         Driver only      Front  ...        5.0   180.0   \n3          26.0  Driver & Passenger        NaN  ...        6.0   193.0   \n4          30.0                 NaN       Rear  ...        4.0   186.0   \n..          ...                 ...        ...  ...        ...     ...   \n88         21.0                None      Front  ...        7.0   187.0   \n89         30.0                None      Front  ...        5.0   180.0   \n90         25.0                None      Front  ...        4.0   159.0   \n91         28.0         Driver only       Rear  ...        5.0   190.0   \n92         28.0  Driver & Passenger      Front  ...        5.0   184.0   \n\n    Wheelbase  Width  Turn_circle Rear_seat_room  Luggage_room  Weight  \\\n0       102.0   68.0         37.0           26.5           NaN  2705.0   \n1       115.0   71.0         38.0           30.0          15.0  3560.0   \n2       102.0   67.0         37.0           28.0          14.0  3375.0   \n3       106.0    NaN         37.0           31.0          17.0  3405.0   \n4       109.0   69.0         39.0           27.0          13.0  3640.0   \n..        ...    ...          ...            ...           ...     ...   \n88      115.0   72.0         38.0           34.0           NaN  3960.0   \n89      103.0   67.0         35.0           31.5          14.0  2985.0   \n90       97.0   66.0         36.0           26.0          15.0  2810.0   \n91      104.0   67.0         37.0           29.5          14.0  2985.0   \n92      105.0   69.0         38.0           30.0          15.0  3245.0   \n\n     Origin                Make  \n0   non-USA       Acura Integra  \n1   non-USA        Acura Legend  \n2   non-USA             Audi 90  \n3   non-USA            Audi 100  \n4   non-USA            BMW 535i  \n..      ...                 ...  \n88      NaN  Volkswagen Eurovan  \n89  non-USA   Volkswagen Passat  \n90  non-USA  Volkswagen Corrado  \n91  non-USA           Volvo 240  \n92  non-USA           Volvo 850  \n\n[93 rows x 27 columns]",
      "text/html": "<div>\n<style scoped>\n    .dataframe tbody tr th:only-of-type {\n        vertical-align: middle;\n    }\n\n    .dataframe tbody tr th {\n        vertical-align: top;\n    }\n\n    .dataframe thead th {\n        text-align: right;\n    }\n</style>\n<table border=\"1\" class=\"dataframe\">\n  <thead>\n    <tr style=\"text-align: right;\">\n      <th></th>\n      <th>Manufacturer</th>\n      <th>Model</th>\n      <th>CarType</th>\n      <th>Min_Price</th>\n      <th>Price</th>\n      <th>Max_Price</th>\n      <th>MPG_city</th>\n      <th>MPG_highway</th>\n      <th>AirBags</th>\n      <th>DriveTrain</th>\n      <th>...</th>\n      <th>Passengers</th>\n      <th>Length</th>\n      <th>Wheelbase</th>\n      <th>Width</th>\n      <th>Turn_circle</th>\n      <th>Rear_seat_room</th>\n      <th>Luggage_room</th>\n      <th>Weight</th>\n      <th>Origin</th>\n      <th>Make</th>\n    </tr>\n  </thead>\n  <tbody>\n    <tr>\n      <th>0</th>\n      <td>Acura</td>\n      <td>Integra</td>\n      <td>Small</td>\n      <td>12.9</td>\n      <td>15.9</td>\n      <td>18.8</td>\n      <td>25.0</td>\n      <td>31.0</td>\n      <td>None</td>\n      <td>Front</td>\n      <td>...</td>\n      <td>5.0</td>\n      <td>177.0</td>\n      <td>102.0</td>\n      <td>68.0</td>\n      <td>37.0</td>\n      <td>26.5</td>\n      <td>NaN</td>\n      <td>2705.0</td>\n      <td>non-USA</td>\n      <td>Acura Integra</td>\n    </tr>\n    <tr>\n      <th>1</th>\n      <td>NaN</td>\n      <td>Legend</td>\n      <td>Midsize</td>\n      <td>29.2</td>\n      <td>33.9</td>\n      <td>38.7</td>\n      <td>18.0</td>\n      <td>25.0</td>\n      <td>Driver &amp; Passenger</td>\n      <td>Front</td>\n      <td>...</td>\n      <td>5.0</td>\n      <td>195.0</td>\n      <td>115.0</td>\n      <td>71.0</td>\n      <td>38.0</td>\n      <td>30.0</td>\n      <td>15.0</td>\n      <td>3560.0</td>\n      <td>non-USA</td>\n      <td>Acura Legend</td>\n    </tr>\n    <tr>\n      <th>2</th>\n      <td>Audi</td>\n      <td>90</td>\n      <td>Compact</td>\n      <td>25.9</td>\n      <td>29.1</td>\n      <td>32.3</td>\n      <td>20.0</td>\n      <td>26.0</td>\n      <td>Driver only</td>\n      <td>Front</td>\n      <td>...</td>\n      <td>5.0</td>\n      <td>180.0</td>\n      <td>102.0</td>\n      <td>67.0</td>\n      <td>37.0</td>\n      <td>28.0</td>\n      <td>14.0</td>\n      <td>3375.0</td>\n      <td>non-USA</td>\n      <td>Audi 90</td>\n    </tr>\n    <tr>\n      <th>3</th>\n      <td>Audi</td>\n      <td>100</td>\n      <td>Midsize</td>\n      <td>NaN</td>\n      <td>37.7</td>\n      <td>44.6</td>\n      <td>19.0</td>\n      <td>26.0</td>\n      <td>Driver &amp; Passenger</td>\n      <td>NaN</td>\n      <td>...</td>\n      <td>6.0</td>\n      <td>193.0</td>\n      <td>106.0</td>\n      <td>NaN</td>\n      <td>37.0</td>\n      <td>31.0</td>\n      <td>17.0</td>\n      <td>3405.0</td>\n      <td>non-USA</td>\n      <td>Audi 100</td>\n    </tr>\n    <tr>\n      <th>4</th>\n      <td>BMW</td>\n      <td>535i</td>\n      <td>Midsize</td>\n      <td>NaN</td>\n      <td>30.0</td>\n      <td>NaN</td>\n      <td>22.0</td>\n      <td>30.0</td>\n      <td>NaN</td>\n      <td>Rear</td>\n      <td>...</td>\n      <td>4.0</td>\n      <td>186.0</td>\n      <td>109.0</td>\n      <td>69.0</td>\n      <td>39.0</td>\n      <td>27.0</td>\n      <td>13.0</td>\n      <td>3640.0</td>\n      <td>non-USA</td>\n      <td>BMW 535i</td>\n    </tr>\n    <tr>\n      <th>...</th>\n      <td>...</td>\n      <td>...</td>\n      <td>...</td>\n      <td>...</td>\n      <td>...</td>\n      <td>...</td>\n      <td>...</td>\n      <td>...</td>\n      <td>...</td>\n      <td>...</td>\n      <td>...</td>\n      <td>...</td>\n      <td>...</td>\n      <td>...</td>\n      <td>...</td>\n      <td>...</td>\n      <td>...</td>\n      <td>...</td>\n      <td>...</td>\n      <td>...</td>\n      <td>...</td>\n    </tr>\n    <tr>\n      <th>88</th>\n      <td>Volkswagen</td>\n      <td>Eurovan</td>\n      <td>Van</td>\n      <td>16.6</td>\n      <td>19.7</td>\n      <td>22.7</td>\n      <td>17.0</td>\n      <td>21.0</td>\n      <td>None</td>\n      <td>Front</td>\n      <td>...</td>\n      <td>7.0</td>\n      <td>187.0</td>\n      <td>115.0</td>\n      <td>72.0</td>\n      <td>38.0</td>\n      <td>34.0</td>\n      <td>NaN</td>\n      <td>3960.0</td>\n      <td>NaN</td>\n      <td>Volkswagen Eurovan</td>\n    </tr>\n    <tr>\n      <th>89</th>\n      <td>Volkswagen</td>\n      <td>Passat</td>\n      <td>Compact</td>\n      <td>17.6</td>\n      <td>20.0</td>\n      <td>22.4</td>\n      <td>21.0</td>\n      <td>30.0</td>\n      <td>None</td>\n      <td>Front</td>\n      <td>...</td>\n      <td>5.0</td>\n      <td>180.0</td>\n      <td>103.0</td>\n      <td>67.0</td>\n      <td>35.0</td>\n      <td>31.5</td>\n      <td>14.0</td>\n      <td>2985.0</td>\n      <td>non-USA</td>\n      <td>Volkswagen Passat</td>\n    </tr>\n    <tr>\n      <th>90</th>\n      <td>Volkswagen</td>\n      <td>Corrado</td>\n      <td>Sporty</td>\n      <td>22.9</td>\n      <td>23.3</td>\n      <td>23.7</td>\n      <td>18.0</td>\n      <td>25.0</td>\n      <td>None</td>\n      <td>Front</td>\n      <td>...</td>\n      <td>4.0</td>\n      <td>159.0</td>\n      <td>97.0</td>\n      <td>66.0</td>\n      <td>36.0</td>\n      <td>26.0</td>\n      <td>15.0</td>\n      <td>2810.0</td>\n      <td>non-USA</td>\n      <td>Volkswagen Corrado</td>\n    </tr>\n    <tr>\n      <th>91</th>\n      <td>Volvo</td>\n      <td>240</td>\n      <td>Compact</td>\n      <td>21.8</td>\n      <td>22.7</td>\n      <td>23.5</td>\n      <td>21.0</td>\n      <td>28.0</td>\n      <td>Driver only</td>\n      <td>Rear</td>\n      <td>...</td>\n      <td>5.0</td>\n      <td>190.0</td>\n      <td>104.0</td>\n      <td>67.0</td>\n      <td>37.0</td>\n      <td>29.5</td>\n      <td>14.0</td>\n      <td>2985.0</td>\n      <td>non-USA</td>\n      <td>Volvo 240</td>\n    </tr>\n    <tr>\n      <th>92</th>\n      <td>NaN</td>\n      <td>850</td>\n      <td>Midsize</td>\n      <td>24.8</td>\n      <td>26.7</td>\n      <td>28.5</td>\n      <td>20.0</td>\n      <td>28.0</td>\n      <td>Driver &amp; Passenger</td>\n      <td>Front</td>\n      <td>...</td>\n      <td>5.0</td>\n      <td>184.0</td>\n      <td>105.0</td>\n      <td>69.0</td>\n      <td>38.0</td>\n      <td>30.0</td>\n      <td>15.0</td>\n      <td>3245.0</td>\n      <td>non-USA</td>\n      <td>Volvo 850</td>\n    </tr>\n  </tbody>\n</table>\n<p>93 rows × 27 columns</p>\n</div>"
     },
     "execution_count": 337,
     "metadata": {},
     "output_type": "execute_result"
    }
   ],
   "source": [
    "df = pd.read_csv('https://raw.githubusercontent.com/selva86/datasets/master/Cars93_miss.csv')\n",
    "\n",
    "df = df.rename(columns={'Type': 'CarType'})\n",
    "df.columns = df.columns.str.replace('.', '_')\n",
    "df.add_suffix('s')\n",
    "df"
   ]
  },
  {
   "cell_type": "markdown",
   "metadata": {},
   "source": [
    "**27\\.** Проверьте есть ли в датафрейме пропуски? Если да, посчитайте кол-во nan\\none в каждом столбце датафрейма  (★★☆)"
   ]
  },
  {
   "cell_type": "code",
   "execution_count": 338,
   "metadata": {
    "collapsed": true
   },
   "outputs": [
    {
     "data": {
      "text/plain": "Manufacturer           4\nModel                  1\nType                   3\nMin.Price              7\nPrice                  2\nMax.Price              5\nMPG.city               9\nMPG.highway            2\nAirBags                6\nDriveTrain             7\nCylinders              5\nEngineSize             2\nHorsepower             7\nRPM                    3\nRev.per.mile           6\nMan.trans.avail        5\nFuel.tank.capacity     8\nPassengers             2\nLength                 4\nWheelbase              1\nWidth                  6\nTurn.circle            5\nRear.seat.room         4\nLuggage.room          19\nWeight                 7\nOrigin                 5\nMake                   3\ndtype: int64"
     },
     "execution_count": 338,
     "metadata": {},
     "output_type": "execute_result"
    }
   ],
   "source": [
    "df = pd.read_csv('https://raw.githubusercontent.com/selva86/datasets/master/Cars93_miss.csv')\n",
    "\n",
    "df.isna().sum()"
   ]
  },
  {
   "cell_type": "markdown",
   "metadata": {},
   "source": [
    "**28\\.** Как заменить отсутствующие значения нескольких числовых столбцов средним?  (★★☆)"
   ]
  },
  {
   "cell_type": "code",
   "execution_count": 339,
   "metadata": {
    "collapsed": true
   },
   "outputs": [
    {
     "data": {
      "text/plain": "   Manufacturer    Model     Type  Min.Price  Price  Max.Price  MPG.city  \\\n0         Acura  Integra    Small  12.900000   15.9  18.800000      25.0   \n1           NaN   Legend  Midsize  29.200000   33.9  38.700000      18.0   \n2          Audi       90  Compact  25.900000   29.1  32.300000      20.0   \n3          Audi      100  Midsize  17.118605   37.7  44.600000      19.0   \n4           BMW     535i  Midsize  17.118605   30.0  21.459091      22.0   \n..          ...      ...      ...        ...    ...        ...       ...   \n88   Volkswagen  Eurovan      Van  16.600000   19.7  22.700000      17.0   \n89   Volkswagen   Passat  Compact  17.600000   20.0  22.400000      21.0   \n90   Volkswagen  Corrado   Sporty  22.900000   23.3  23.700000      18.0   \n91        Volvo      240  Compact  21.800000   22.7  23.500000      21.0   \n92          NaN      850  Midsize  24.800000   26.7  28.500000      20.0   \n\n    MPG.highway             AirBags DriveTrain  ... Passengers  Length  \\\n0          31.0                None      Front  ...        5.0   177.0   \n1          25.0  Driver & Passenger      Front  ...        5.0   195.0   \n2          26.0         Driver only      Front  ...        5.0   180.0   \n3          26.0  Driver & Passenger        NaN  ...        6.0   193.0   \n4          30.0                 NaN       Rear  ...        4.0   186.0   \n..          ...                 ...        ...  ...        ...     ...   \n88         21.0                None      Front  ...        7.0   187.0   \n89         30.0                None      Front  ...        5.0   180.0   \n90         25.0                None      Front  ...        4.0   159.0   \n91         28.0         Driver only       Rear  ...        5.0   190.0   \n92         28.0  Driver & Passenger      Front  ...        5.0   184.0   \n\n    Wheelbase      Width  Turn.circle Rear.seat.room  Luggage.room  Weight  \\\n0       102.0  68.000000         37.0           26.5     13.986486  2705.0   \n1       115.0  71.000000         38.0           30.0     15.000000  3560.0   \n2       102.0  67.000000         37.0           28.0     14.000000  3375.0   \n3       106.0  69.448276         37.0           31.0     17.000000  3405.0   \n4       109.0  69.000000         39.0           27.0     13.000000  3640.0   \n..        ...        ...          ...            ...           ...     ...   \n88      115.0  72.000000         38.0           34.0     13.986486  3960.0   \n89      103.0  67.000000         35.0           31.5     14.000000  2985.0   \n90       97.0  66.000000         36.0           26.0     15.000000  2810.0   \n91      104.0  67.000000         37.0           29.5     14.000000  2985.0   \n92      105.0  69.000000         38.0           30.0     15.000000  3245.0   \n\n     Origin                Make  \n0   non-USA       Acura Integra  \n1   non-USA        Acura Legend  \n2   non-USA             Audi 90  \n3   non-USA            Audi 100  \n4   non-USA            BMW 535i  \n..      ...                 ...  \n88      NaN  Volkswagen Eurovan  \n89  non-USA   Volkswagen Passat  \n90  non-USA  Volkswagen Corrado  \n91  non-USA           Volvo 240  \n92  non-USA           Volvo 850  \n\n[93 rows x 27 columns]",
      "text/html": "<div>\n<style scoped>\n    .dataframe tbody tr th:only-of-type {\n        vertical-align: middle;\n    }\n\n    .dataframe tbody tr th {\n        vertical-align: top;\n    }\n\n    .dataframe thead th {\n        text-align: right;\n    }\n</style>\n<table border=\"1\" class=\"dataframe\">\n  <thead>\n    <tr style=\"text-align: right;\">\n      <th></th>\n      <th>Manufacturer</th>\n      <th>Model</th>\n      <th>Type</th>\n      <th>Min.Price</th>\n      <th>Price</th>\n      <th>Max.Price</th>\n      <th>MPG.city</th>\n      <th>MPG.highway</th>\n      <th>AirBags</th>\n      <th>DriveTrain</th>\n      <th>...</th>\n      <th>Passengers</th>\n      <th>Length</th>\n      <th>Wheelbase</th>\n      <th>Width</th>\n      <th>Turn.circle</th>\n      <th>Rear.seat.room</th>\n      <th>Luggage.room</th>\n      <th>Weight</th>\n      <th>Origin</th>\n      <th>Make</th>\n    </tr>\n  </thead>\n  <tbody>\n    <tr>\n      <th>0</th>\n      <td>Acura</td>\n      <td>Integra</td>\n      <td>Small</td>\n      <td>12.900000</td>\n      <td>15.9</td>\n      <td>18.800000</td>\n      <td>25.0</td>\n      <td>31.0</td>\n      <td>None</td>\n      <td>Front</td>\n      <td>...</td>\n      <td>5.0</td>\n      <td>177.0</td>\n      <td>102.0</td>\n      <td>68.000000</td>\n      <td>37.0</td>\n      <td>26.5</td>\n      <td>13.986486</td>\n      <td>2705.0</td>\n      <td>non-USA</td>\n      <td>Acura Integra</td>\n    </tr>\n    <tr>\n      <th>1</th>\n      <td>NaN</td>\n      <td>Legend</td>\n      <td>Midsize</td>\n      <td>29.200000</td>\n      <td>33.9</td>\n      <td>38.700000</td>\n      <td>18.0</td>\n      <td>25.0</td>\n      <td>Driver &amp; Passenger</td>\n      <td>Front</td>\n      <td>...</td>\n      <td>5.0</td>\n      <td>195.0</td>\n      <td>115.0</td>\n      <td>71.000000</td>\n      <td>38.0</td>\n      <td>30.0</td>\n      <td>15.000000</td>\n      <td>3560.0</td>\n      <td>non-USA</td>\n      <td>Acura Legend</td>\n    </tr>\n    <tr>\n      <th>2</th>\n      <td>Audi</td>\n      <td>90</td>\n      <td>Compact</td>\n      <td>25.900000</td>\n      <td>29.1</td>\n      <td>32.300000</td>\n      <td>20.0</td>\n      <td>26.0</td>\n      <td>Driver only</td>\n      <td>Front</td>\n      <td>...</td>\n      <td>5.0</td>\n      <td>180.0</td>\n      <td>102.0</td>\n      <td>67.000000</td>\n      <td>37.0</td>\n      <td>28.0</td>\n      <td>14.000000</td>\n      <td>3375.0</td>\n      <td>non-USA</td>\n      <td>Audi 90</td>\n    </tr>\n    <tr>\n      <th>3</th>\n      <td>Audi</td>\n      <td>100</td>\n      <td>Midsize</td>\n      <td>17.118605</td>\n      <td>37.7</td>\n      <td>44.600000</td>\n      <td>19.0</td>\n      <td>26.0</td>\n      <td>Driver &amp; Passenger</td>\n      <td>NaN</td>\n      <td>...</td>\n      <td>6.0</td>\n      <td>193.0</td>\n      <td>106.0</td>\n      <td>69.448276</td>\n      <td>37.0</td>\n      <td>31.0</td>\n      <td>17.000000</td>\n      <td>3405.0</td>\n      <td>non-USA</td>\n      <td>Audi 100</td>\n    </tr>\n    <tr>\n      <th>4</th>\n      <td>BMW</td>\n      <td>535i</td>\n      <td>Midsize</td>\n      <td>17.118605</td>\n      <td>30.0</td>\n      <td>21.459091</td>\n      <td>22.0</td>\n      <td>30.0</td>\n      <td>NaN</td>\n      <td>Rear</td>\n      <td>...</td>\n      <td>4.0</td>\n      <td>186.0</td>\n      <td>109.0</td>\n      <td>69.000000</td>\n      <td>39.0</td>\n      <td>27.0</td>\n      <td>13.000000</td>\n      <td>3640.0</td>\n      <td>non-USA</td>\n      <td>BMW 535i</td>\n    </tr>\n    <tr>\n      <th>...</th>\n      <td>...</td>\n      <td>...</td>\n      <td>...</td>\n      <td>...</td>\n      <td>...</td>\n      <td>...</td>\n      <td>...</td>\n      <td>...</td>\n      <td>...</td>\n      <td>...</td>\n      <td>...</td>\n      <td>...</td>\n      <td>...</td>\n      <td>...</td>\n      <td>...</td>\n      <td>...</td>\n      <td>...</td>\n      <td>...</td>\n      <td>...</td>\n      <td>...</td>\n      <td>...</td>\n    </tr>\n    <tr>\n      <th>88</th>\n      <td>Volkswagen</td>\n      <td>Eurovan</td>\n      <td>Van</td>\n      <td>16.600000</td>\n      <td>19.7</td>\n      <td>22.700000</td>\n      <td>17.0</td>\n      <td>21.0</td>\n      <td>None</td>\n      <td>Front</td>\n      <td>...</td>\n      <td>7.0</td>\n      <td>187.0</td>\n      <td>115.0</td>\n      <td>72.000000</td>\n      <td>38.0</td>\n      <td>34.0</td>\n      <td>13.986486</td>\n      <td>3960.0</td>\n      <td>NaN</td>\n      <td>Volkswagen Eurovan</td>\n    </tr>\n    <tr>\n      <th>89</th>\n      <td>Volkswagen</td>\n      <td>Passat</td>\n      <td>Compact</td>\n      <td>17.600000</td>\n      <td>20.0</td>\n      <td>22.400000</td>\n      <td>21.0</td>\n      <td>30.0</td>\n      <td>None</td>\n      <td>Front</td>\n      <td>...</td>\n      <td>5.0</td>\n      <td>180.0</td>\n      <td>103.0</td>\n      <td>67.000000</td>\n      <td>35.0</td>\n      <td>31.5</td>\n      <td>14.000000</td>\n      <td>2985.0</td>\n      <td>non-USA</td>\n      <td>Volkswagen Passat</td>\n    </tr>\n    <tr>\n      <th>90</th>\n      <td>Volkswagen</td>\n      <td>Corrado</td>\n      <td>Sporty</td>\n      <td>22.900000</td>\n      <td>23.3</td>\n      <td>23.700000</td>\n      <td>18.0</td>\n      <td>25.0</td>\n      <td>None</td>\n      <td>Front</td>\n      <td>...</td>\n      <td>4.0</td>\n      <td>159.0</td>\n      <td>97.0</td>\n      <td>66.000000</td>\n      <td>36.0</td>\n      <td>26.0</td>\n      <td>15.000000</td>\n      <td>2810.0</td>\n      <td>non-USA</td>\n      <td>Volkswagen Corrado</td>\n    </tr>\n    <tr>\n      <th>91</th>\n      <td>Volvo</td>\n      <td>240</td>\n      <td>Compact</td>\n      <td>21.800000</td>\n      <td>22.7</td>\n      <td>23.500000</td>\n      <td>21.0</td>\n      <td>28.0</td>\n      <td>Driver only</td>\n      <td>Rear</td>\n      <td>...</td>\n      <td>5.0</td>\n      <td>190.0</td>\n      <td>104.0</td>\n      <td>67.000000</td>\n      <td>37.0</td>\n      <td>29.5</td>\n      <td>14.000000</td>\n      <td>2985.0</td>\n      <td>non-USA</td>\n      <td>Volvo 240</td>\n    </tr>\n    <tr>\n      <th>92</th>\n      <td>NaN</td>\n      <td>850</td>\n      <td>Midsize</td>\n      <td>24.800000</td>\n      <td>26.7</td>\n      <td>28.500000</td>\n      <td>20.0</td>\n      <td>28.0</td>\n      <td>Driver &amp; Passenger</td>\n      <td>Front</td>\n      <td>...</td>\n      <td>5.0</td>\n      <td>184.0</td>\n      <td>105.0</td>\n      <td>69.000000</td>\n      <td>38.0</td>\n      <td>30.0</td>\n      <td>15.000000</td>\n      <td>3245.0</td>\n      <td>non-USA</td>\n      <td>Volvo 850</td>\n    </tr>\n  </tbody>\n</table>\n<p>93 rows × 27 columns</p>\n</div>"
     },
     "execution_count": 339,
     "metadata": {},
     "output_type": "execute_result"
    }
   ],
   "source": [
    "df = pd.read_csv('https://raw.githubusercontent.com/selva86/datasets/master/Cars93_miss.csv')\n",
    "\n",
    "df.fillna(df.mean())"
   ]
  },
  {
   "cell_type": "markdown",
   "metadata": {},
   "source": [
    "**29\\.** Как выбрать конкретный столбец из датафрейма в качестве датафрейма, а не series?  (★☆☆)"
   ]
  },
  {
   "cell_type": "code",
   "execution_count": 340,
   "metadata": {
    "collapsed": true
   },
   "outputs": [
    {
     "data": {
      "text/plain": "   Manufacturer\n0         Acura\n1           NaN\n2          Audi\n3          Audi\n4           BMW\n..          ...\n88   Volkswagen\n89   Volkswagen\n90   Volkswagen\n91        Volvo\n92          NaN\n\n[93 rows x 1 columns]",
      "text/html": "<div>\n<style scoped>\n    .dataframe tbody tr th:only-of-type {\n        vertical-align: middle;\n    }\n\n    .dataframe tbody tr th {\n        vertical-align: top;\n    }\n\n    .dataframe thead th {\n        text-align: right;\n    }\n</style>\n<table border=\"1\" class=\"dataframe\">\n  <thead>\n    <tr style=\"text-align: right;\">\n      <th></th>\n      <th>Manufacturer</th>\n    </tr>\n  </thead>\n  <tbody>\n    <tr>\n      <th>0</th>\n      <td>Acura</td>\n    </tr>\n    <tr>\n      <th>1</th>\n      <td>NaN</td>\n    </tr>\n    <tr>\n      <th>2</th>\n      <td>Audi</td>\n    </tr>\n    <tr>\n      <th>3</th>\n      <td>Audi</td>\n    </tr>\n    <tr>\n      <th>4</th>\n      <td>BMW</td>\n    </tr>\n    <tr>\n      <th>...</th>\n      <td>...</td>\n    </tr>\n    <tr>\n      <th>88</th>\n      <td>Volkswagen</td>\n    </tr>\n    <tr>\n      <th>89</th>\n      <td>Volkswagen</td>\n    </tr>\n    <tr>\n      <th>90</th>\n      <td>Volkswagen</td>\n    </tr>\n    <tr>\n      <th>91</th>\n      <td>Volvo</td>\n    </tr>\n    <tr>\n      <th>92</th>\n      <td>NaN</td>\n    </tr>\n  </tbody>\n</table>\n<p>93 rows × 1 columns</p>\n</div>"
     },
     "execution_count": 340,
     "metadata": {},
     "output_type": "execute_result"
    }
   ],
   "source": [
    "df = pd.read_csv('https://raw.githubusercontent.com/selva86/datasets/master/Cars93_miss.csv')\n",
    "\n",
    "dfdf = df[['Manufacturer']]\n",
    "dfdf"
   ]
  },
  {
   "cell_type": "code",
   "execution_count": 341,
   "outputs": [
    {
     "name": "stdout",
     "output_type": "stream",
     "text": [
      "<class 'pandas.core.frame.DataFrame'>\n"
     ]
    }
   ],
   "source": [
    "print(type(dfdf))"
   ],
   "metadata": {
    "collapsed": false,
    "pycharm": {
     "name": "#%%\n"
    }
   }
  },
  {
   "cell_type": "markdown",
   "metadata": {},
   "source": [
    "**30\\.** Как изменить порядок столбцов данных? (☆☆☆)"
   ]
  },
  {
   "cell_type": "code",
   "execution_count": 342,
   "metadata": {
    "collapsed": true
   },
   "outputs": [
    {
     "name": "stdout",
     "output_type": "stream",
     "text": [
      "['Manufacturer', 'Model', 'Type', 'Min.Price', 'Price', 'Max.Price', 'MPG.city', 'MPG.highway', 'AirBags', 'DriveTrain', 'Cylinders', 'EngineSize', 'Horsepower', 'RPM', 'Rev.per.mile', 'Man.trans.avail', 'Fuel.tank.capacity', 'Passengers', 'Length', 'Wheelbase', 'Width', 'Turn.circle', 'Rear.seat.room', 'Luggage.room', 'Weight', 'Origin', 'Make']\n",
      "['Rear.seat.room', 'Weight', 'Price', 'Horsepower', 'Min.Price', 'Turn.circle', 'Passengers', 'Cylinders', 'Max.Price', 'MPG.highway', 'Width', 'Wheelbase', 'Type', 'Make', 'AirBags', 'Model', 'MPG.city', 'Length', 'RPM', 'Luggage.room', 'Rev.per.mile', 'Origin', 'Manufacturer', 'Fuel.tank.capacity', 'DriveTrain', 'EngineSize', 'Man.trans.avail']\n"
     ]
    },
    {
     "data": {
      "text/plain": "    Rear.seat.room  Weight  Price  Horsepower  Min.Price  Turn.circle  \\\n0             26.5  2705.0   15.9       140.0       12.9         37.0   \n1             30.0  3560.0   33.9       200.0       29.2         38.0   \n2             28.0  3375.0   29.1       172.0       25.9         37.0   \n3             31.0  3405.0   37.7       172.0        NaN         37.0   \n4             27.0  3640.0   30.0       208.0        NaN         39.0   \n..             ...     ...    ...         ...        ...          ...   \n88            34.0  3960.0   19.7       109.0       16.6         38.0   \n89            31.5  2985.0   20.0       134.0       17.6         35.0   \n90            26.0  2810.0   23.3       178.0       22.9         36.0   \n91            29.5  2985.0   22.7       114.0       21.8         37.0   \n92            30.0  3245.0   26.7       168.0       24.8         38.0   \n\n    Passengers Cylinders  Max.Price  MPG.highway  ...  Length     RPM  \\\n0          5.0         4       18.8         31.0  ...   177.0  6300.0   \n1          5.0         6       38.7         25.0  ...   195.0  5500.0   \n2          5.0         6       32.3         26.0  ...   180.0  5500.0   \n3          6.0         6       44.6         26.0  ...   193.0  5500.0   \n4          4.0         4        NaN         30.0  ...   186.0  5700.0   \n..         ...       ...        ...          ...  ...     ...     ...   \n88         7.0         5       22.7         21.0  ...   187.0  4500.0   \n89         5.0         4       22.4         30.0  ...   180.0  5800.0   \n90         4.0         6       23.7         25.0  ...   159.0  5800.0   \n91         5.0       NaN       23.5         28.0  ...   190.0  5400.0   \n92         5.0         5       28.5         28.0  ...   184.0  6200.0   \n\n   Luggage.room Rev.per.mile   Origin Manufacturer  Fuel.tank.capacity  \\\n0           NaN       2890.0  non-USA        Acura                13.2   \n1          15.0       2335.0  non-USA          NaN                18.0   \n2          14.0       2280.0  non-USA         Audi                16.9   \n3          17.0       2535.0  non-USA         Audi                21.1   \n4          13.0       2545.0  non-USA          BMW                21.1   \n..          ...          ...      ...          ...                 ...   \n88          NaN       2915.0      NaN   Volkswagen                21.1   \n89         14.0       2685.0  non-USA   Volkswagen                18.5   \n90         15.0       2385.0  non-USA   Volkswagen                18.5   \n91         14.0       2215.0  non-USA        Volvo                15.8   \n92         15.0          NaN  non-USA          NaN                19.3   \n\n    DriveTrain  EngineSize  Man.trans.avail  \n0        Front         1.8              Yes  \n1        Front         3.2              Yes  \n2        Front         2.8              Yes  \n3          NaN         NaN              NaN  \n4         Rear         3.5              Yes  \n..         ...         ...              ...  \n88       Front         2.5              Yes  \n89       Front         2.0              Yes  \n90       Front         2.8              Yes  \n91        Rear         2.3              Yes  \n92       Front         2.4              Yes  \n\n[93 rows x 27 columns]",
      "text/html": "<div>\n<style scoped>\n    .dataframe tbody tr th:only-of-type {\n        vertical-align: middle;\n    }\n\n    .dataframe tbody tr th {\n        vertical-align: top;\n    }\n\n    .dataframe thead th {\n        text-align: right;\n    }\n</style>\n<table border=\"1\" class=\"dataframe\">\n  <thead>\n    <tr style=\"text-align: right;\">\n      <th></th>\n      <th>Rear.seat.room</th>\n      <th>Weight</th>\n      <th>Price</th>\n      <th>Horsepower</th>\n      <th>Min.Price</th>\n      <th>Turn.circle</th>\n      <th>Passengers</th>\n      <th>Cylinders</th>\n      <th>Max.Price</th>\n      <th>MPG.highway</th>\n      <th>...</th>\n      <th>Length</th>\n      <th>RPM</th>\n      <th>Luggage.room</th>\n      <th>Rev.per.mile</th>\n      <th>Origin</th>\n      <th>Manufacturer</th>\n      <th>Fuel.tank.capacity</th>\n      <th>DriveTrain</th>\n      <th>EngineSize</th>\n      <th>Man.trans.avail</th>\n    </tr>\n  </thead>\n  <tbody>\n    <tr>\n      <th>0</th>\n      <td>26.5</td>\n      <td>2705.0</td>\n      <td>15.9</td>\n      <td>140.0</td>\n      <td>12.9</td>\n      <td>37.0</td>\n      <td>5.0</td>\n      <td>4</td>\n      <td>18.8</td>\n      <td>31.0</td>\n      <td>...</td>\n      <td>177.0</td>\n      <td>6300.0</td>\n      <td>NaN</td>\n      <td>2890.0</td>\n      <td>non-USA</td>\n      <td>Acura</td>\n      <td>13.2</td>\n      <td>Front</td>\n      <td>1.8</td>\n      <td>Yes</td>\n    </tr>\n    <tr>\n      <th>1</th>\n      <td>30.0</td>\n      <td>3560.0</td>\n      <td>33.9</td>\n      <td>200.0</td>\n      <td>29.2</td>\n      <td>38.0</td>\n      <td>5.0</td>\n      <td>6</td>\n      <td>38.7</td>\n      <td>25.0</td>\n      <td>...</td>\n      <td>195.0</td>\n      <td>5500.0</td>\n      <td>15.0</td>\n      <td>2335.0</td>\n      <td>non-USA</td>\n      <td>NaN</td>\n      <td>18.0</td>\n      <td>Front</td>\n      <td>3.2</td>\n      <td>Yes</td>\n    </tr>\n    <tr>\n      <th>2</th>\n      <td>28.0</td>\n      <td>3375.0</td>\n      <td>29.1</td>\n      <td>172.0</td>\n      <td>25.9</td>\n      <td>37.0</td>\n      <td>5.0</td>\n      <td>6</td>\n      <td>32.3</td>\n      <td>26.0</td>\n      <td>...</td>\n      <td>180.0</td>\n      <td>5500.0</td>\n      <td>14.0</td>\n      <td>2280.0</td>\n      <td>non-USA</td>\n      <td>Audi</td>\n      <td>16.9</td>\n      <td>Front</td>\n      <td>2.8</td>\n      <td>Yes</td>\n    </tr>\n    <tr>\n      <th>3</th>\n      <td>31.0</td>\n      <td>3405.0</td>\n      <td>37.7</td>\n      <td>172.0</td>\n      <td>NaN</td>\n      <td>37.0</td>\n      <td>6.0</td>\n      <td>6</td>\n      <td>44.6</td>\n      <td>26.0</td>\n      <td>...</td>\n      <td>193.0</td>\n      <td>5500.0</td>\n      <td>17.0</td>\n      <td>2535.0</td>\n      <td>non-USA</td>\n      <td>Audi</td>\n      <td>21.1</td>\n      <td>NaN</td>\n      <td>NaN</td>\n      <td>NaN</td>\n    </tr>\n    <tr>\n      <th>4</th>\n      <td>27.0</td>\n      <td>3640.0</td>\n      <td>30.0</td>\n      <td>208.0</td>\n      <td>NaN</td>\n      <td>39.0</td>\n      <td>4.0</td>\n      <td>4</td>\n      <td>NaN</td>\n      <td>30.0</td>\n      <td>...</td>\n      <td>186.0</td>\n      <td>5700.0</td>\n      <td>13.0</td>\n      <td>2545.0</td>\n      <td>non-USA</td>\n      <td>BMW</td>\n      <td>21.1</td>\n      <td>Rear</td>\n      <td>3.5</td>\n      <td>Yes</td>\n    </tr>\n    <tr>\n      <th>...</th>\n      <td>...</td>\n      <td>...</td>\n      <td>...</td>\n      <td>...</td>\n      <td>...</td>\n      <td>...</td>\n      <td>...</td>\n      <td>...</td>\n      <td>...</td>\n      <td>...</td>\n      <td>...</td>\n      <td>...</td>\n      <td>...</td>\n      <td>...</td>\n      <td>...</td>\n      <td>...</td>\n      <td>...</td>\n      <td>...</td>\n      <td>...</td>\n      <td>...</td>\n      <td>...</td>\n    </tr>\n    <tr>\n      <th>88</th>\n      <td>34.0</td>\n      <td>3960.0</td>\n      <td>19.7</td>\n      <td>109.0</td>\n      <td>16.6</td>\n      <td>38.0</td>\n      <td>7.0</td>\n      <td>5</td>\n      <td>22.7</td>\n      <td>21.0</td>\n      <td>...</td>\n      <td>187.0</td>\n      <td>4500.0</td>\n      <td>NaN</td>\n      <td>2915.0</td>\n      <td>NaN</td>\n      <td>Volkswagen</td>\n      <td>21.1</td>\n      <td>Front</td>\n      <td>2.5</td>\n      <td>Yes</td>\n    </tr>\n    <tr>\n      <th>89</th>\n      <td>31.5</td>\n      <td>2985.0</td>\n      <td>20.0</td>\n      <td>134.0</td>\n      <td>17.6</td>\n      <td>35.0</td>\n      <td>5.0</td>\n      <td>4</td>\n      <td>22.4</td>\n      <td>30.0</td>\n      <td>...</td>\n      <td>180.0</td>\n      <td>5800.0</td>\n      <td>14.0</td>\n      <td>2685.0</td>\n      <td>non-USA</td>\n      <td>Volkswagen</td>\n      <td>18.5</td>\n      <td>Front</td>\n      <td>2.0</td>\n      <td>Yes</td>\n    </tr>\n    <tr>\n      <th>90</th>\n      <td>26.0</td>\n      <td>2810.0</td>\n      <td>23.3</td>\n      <td>178.0</td>\n      <td>22.9</td>\n      <td>36.0</td>\n      <td>4.0</td>\n      <td>6</td>\n      <td>23.7</td>\n      <td>25.0</td>\n      <td>...</td>\n      <td>159.0</td>\n      <td>5800.0</td>\n      <td>15.0</td>\n      <td>2385.0</td>\n      <td>non-USA</td>\n      <td>Volkswagen</td>\n      <td>18.5</td>\n      <td>Front</td>\n      <td>2.8</td>\n      <td>Yes</td>\n    </tr>\n    <tr>\n      <th>91</th>\n      <td>29.5</td>\n      <td>2985.0</td>\n      <td>22.7</td>\n      <td>114.0</td>\n      <td>21.8</td>\n      <td>37.0</td>\n      <td>5.0</td>\n      <td>NaN</td>\n      <td>23.5</td>\n      <td>28.0</td>\n      <td>...</td>\n      <td>190.0</td>\n      <td>5400.0</td>\n      <td>14.0</td>\n      <td>2215.0</td>\n      <td>non-USA</td>\n      <td>Volvo</td>\n      <td>15.8</td>\n      <td>Rear</td>\n      <td>2.3</td>\n      <td>Yes</td>\n    </tr>\n    <tr>\n      <th>92</th>\n      <td>30.0</td>\n      <td>3245.0</td>\n      <td>26.7</td>\n      <td>168.0</td>\n      <td>24.8</td>\n      <td>38.0</td>\n      <td>5.0</td>\n      <td>5</td>\n      <td>28.5</td>\n      <td>28.0</td>\n      <td>...</td>\n      <td>184.0</td>\n      <td>6200.0</td>\n      <td>15.0</td>\n      <td>NaN</td>\n      <td>non-USA</td>\n      <td>NaN</td>\n      <td>19.3</td>\n      <td>Front</td>\n      <td>2.4</td>\n      <td>Yes</td>\n    </tr>\n  </tbody>\n</table>\n<p>93 rows × 27 columns</p>\n</div>"
     },
     "execution_count": 342,
     "metadata": {},
     "output_type": "execute_result"
    }
   ],
   "source": [
    "df = pd.read_csv('https://raw.githubusercontent.com/selva86/datasets/master/Cars93_miss.csv')\n",
    "\n",
    "columns = df.columns.to_list()\n",
    "print(columns)\n",
    "np.random.shuffle(columns)\n",
    "print(columns)\n",
    "df[columns]"
   ]
  },
  {
   "cell_type": "markdown",
   "metadata": {},
   "source": [
    "**31\\.** Как установить количество строк и столбцов, отображаемых в выводе? (☆☆☆)\n",
    "\n",
    "(hint: pd.set_option)"
   ]
  },
  {
   "cell_type": "code",
   "execution_count": 343,
   "metadata": {
    "collapsed": true
   },
   "outputs": [
    {
     "data": {
      "text/plain": "   Manufacturer    Model     Type  Min.Price  Price  ...  Rear.seat.room  \\\n0         Acura  Integra    Small       12.9   15.9  ...            26.5   \n1           NaN   Legend  Midsize       29.2   33.9  ...            30.0   \n2          Audi       90  Compact       25.9   29.1  ...            28.0   \n3          Audi      100  Midsize        NaN   37.7  ...            31.0   \n4           BMW     535i  Midsize        NaN   30.0  ...            27.0   \n..          ...      ...      ...        ...    ...  ...             ...   \n88   Volkswagen  Eurovan      Van       16.6   19.7  ...            34.0   \n89   Volkswagen   Passat  Compact       17.6   20.0  ...            31.5   \n90   Volkswagen  Corrado   Sporty       22.9   23.3  ...            26.0   \n91        Volvo      240  Compact       21.8   22.7  ...            29.5   \n92          NaN      850  Midsize       24.8   26.7  ...            30.0   \n\n    Luggage.room  Weight   Origin                Make  \n0            NaN  2705.0  non-USA       Acura Integra  \n1           15.0  3560.0  non-USA        Acura Legend  \n2           14.0  3375.0  non-USA             Audi 90  \n3           17.0  3405.0  non-USA            Audi 100  \n4           13.0  3640.0  non-USA            BMW 535i  \n..           ...     ...      ...                 ...  \n88           NaN  3960.0      NaN  Volkswagen Eurovan  \n89          14.0  2985.0  non-USA   Volkswagen Passat  \n90          15.0  2810.0  non-USA  Volkswagen Corrado  \n91          14.0  2985.0  non-USA           Volvo 240  \n92          15.0  3245.0  non-USA           Volvo 850  \n\n[93 rows x 27 columns]",
      "text/html": "<div>\n<style scoped>\n    .dataframe tbody tr th:only-of-type {\n        vertical-align: middle;\n    }\n\n    .dataframe tbody tr th {\n        vertical-align: top;\n    }\n\n    .dataframe thead th {\n        text-align: right;\n    }\n</style>\n<table border=\"1\" class=\"dataframe\">\n  <thead>\n    <tr style=\"text-align: right;\">\n      <th></th>\n      <th>Manufacturer</th>\n      <th>Model</th>\n      <th>Type</th>\n      <th>Min.Price</th>\n      <th>Price</th>\n      <th>...</th>\n      <th>Rear.seat.room</th>\n      <th>Luggage.room</th>\n      <th>Weight</th>\n      <th>Origin</th>\n      <th>Make</th>\n    </tr>\n  </thead>\n  <tbody>\n    <tr>\n      <th>0</th>\n      <td>Acura</td>\n      <td>Integra</td>\n      <td>Small</td>\n      <td>12.9</td>\n      <td>15.9</td>\n      <td>...</td>\n      <td>26.5</td>\n      <td>NaN</td>\n      <td>2705.0</td>\n      <td>non-USA</td>\n      <td>Acura Integra</td>\n    </tr>\n    <tr>\n      <th>1</th>\n      <td>NaN</td>\n      <td>Legend</td>\n      <td>Midsize</td>\n      <td>29.2</td>\n      <td>33.9</td>\n      <td>...</td>\n      <td>30.0</td>\n      <td>15.0</td>\n      <td>3560.0</td>\n      <td>non-USA</td>\n      <td>Acura Legend</td>\n    </tr>\n    <tr>\n      <th>2</th>\n      <td>Audi</td>\n      <td>90</td>\n      <td>Compact</td>\n      <td>25.9</td>\n      <td>29.1</td>\n      <td>...</td>\n      <td>28.0</td>\n      <td>14.0</td>\n      <td>3375.0</td>\n      <td>non-USA</td>\n      <td>Audi 90</td>\n    </tr>\n    <tr>\n      <th>3</th>\n      <td>Audi</td>\n      <td>100</td>\n      <td>Midsize</td>\n      <td>NaN</td>\n      <td>37.7</td>\n      <td>...</td>\n      <td>31.0</td>\n      <td>17.0</td>\n      <td>3405.0</td>\n      <td>non-USA</td>\n      <td>Audi 100</td>\n    </tr>\n    <tr>\n      <th>4</th>\n      <td>BMW</td>\n      <td>535i</td>\n      <td>Midsize</td>\n      <td>NaN</td>\n      <td>30.0</td>\n      <td>...</td>\n      <td>27.0</td>\n      <td>13.0</td>\n      <td>3640.0</td>\n      <td>non-USA</td>\n      <td>BMW 535i</td>\n    </tr>\n    <tr>\n      <th>...</th>\n      <td>...</td>\n      <td>...</td>\n      <td>...</td>\n      <td>...</td>\n      <td>...</td>\n      <td>...</td>\n      <td>...</td>\n      <td>...</td>\n      <td>...</td>\n      <td>...</td>\n      <td>...</td>\n    </tr>\n    <tr>\n      <th>88</th>\n      <td>Volkswagen</td>\n      <td>Eurovan</td>\n      <td>Van</td>\n      <td>16.6</td>\n      <td>19.7</td>\n      <td>...</td>\n      <td>34.0</td>\n      <td>NaN</td>\n      <td>3960.0</td>\n      <td>NaN</td>\n      <td>Volkswagen Eurovan</td>\n    </tr>\n    <tr>\n      <th>89</th>\n      <td>Volkswagen</td>\n      <td>Passat</td>\n      <td>Compact</td>\n      <td>17.6</td>\n      <td>20.0</td>\n      <td>...</td>\n      <td>31.5</td>\n      <td>14.0</td>\n      <td>2985.0</td>\n      <td>non-USA</td>\n      <td>Volkswagen Passat</td>\n    </tr>\n    <tr>\n      <th>90</th>\n      <td>Volkswagen</td>\n      <td>Corrado</td>\n      <td>Sporty</td>\n      <td>22.9</td>\n      <td>23.3</td>\n      <td>...</td>\n      <td>26.0</td>\n      <td>15.0</td>\n      <td>2810.0</td>\n      <td>non-USA</td>\n      <td>Volkswagen Corrado</td>\n    </tr>\n    <tr>\n      <th>91</th>\n      <td>Volvo</td>\n      <td>240</td>\n      <td>Compact</td>\n      <td>21.8</td>\n      <td>22.7</td>\n      <td>...</td>\n      <td>29.5</td>\n      <td>14.0</td>\n      <td>2985.0</td>\n      <td>non-USA</td>\n      <td>Volvo 240</td>\n    </tr>\n    <tr>\n      <th>92</th>\n      <td>NaN</td>\n      <td>850</td>\n      <td>Midsize</td>\n      <td>24.8</td>\n      <td>26.7</td>\n      <td>...</td>\n      <td>30.0</td>\n      <td>15.0</td>\n      <td>3245.0</td>\n      <td>non-USA</td>\n      <td>Volvo 850</td>\n    </tr>\n  </tbody>\n</table>\n<p>93 rows × 27 columns</p>\n</div>"
     },
     "execution_count": 343,
     "metadata": {},
     "output_type": "execute_result"
    }
   ],
   "source": [
    "df = pd.read_csv('https://raw.githubusercontent.com/selva86/datasets/master/Cars93_miss.csv')\n",
    "\n",
    "pd.options.display.max_rows = 10\n",
    "pd.options.display.max_columns = 10\n",
    "df"
   ]
  },
  {
   "cell_type": "markdown",
   "metadata": {},
   "source": [
    "**32\\.** Как получить номер строки, в которой содержится максимальное значение в столбце? (★★☆)"
   ]
  },
  {
   "cell_type": "code",
   "execution_count": 344,
   "metadata": {
    "collapsed": true
   },
   "outputs": [
    {
     "name": "stdout",
     "output_type": "stream",
     "text": [
      "a    9\n",
      "b    1\n",
      "c    1\n",
      "dtype: int64\n"
     ]
    },
    {
     "data": {
      "text/plain": "    a   b   c\n0  20   5  19\n1  10  24  21\n2   6   3  18\n3   7  17   4\n4   1  14   7\n5  18  19  16\n6   8  24   5\n7   2  16  12\n8  21   7  17\n9  22  17   6",
      "text/html": "<div>\n<style scoped>\n    .dataframe tbody tr th:only-of-type {\n        vertical-align: middle;\n    }\n\n    .dataframe tbody tr th {\n        vertical-align: top;\n    }\n\n    .dataframe thead th {\n        text-align: right;\n    }\n</style>\n<table border=\"1\" class=\"dataframe\">\n  <thead>\n    <tr style=\"text-align: right;\">\n      <th></th>\n      <th>a</th>\n      <th>b</th>\n      <th>c</th>\n    </tr>\n  </thead>\n  <tbody>\n    <tr>\n      <th>0</th>\n      <td>20</td>\n      <td>5</td>\n      <td>19</td>\n    </tr>\n    <tr>\n      <th>1</th>\n      <td>10</td>\n      <td>24</td>\n      <td>21</td>\n    </tr>\n    <tr>\n      <th>2</th>\n      <td>6</td>\n      <td>3</td>\n      <td>18</td>\n    </tr>\n    <tr>\n      <th>3</th>\n      <td>7</td>\n      <td>17</td>\n      <td>4</td>\n    </tr>\n    <tr>\n      <th>4</th>\n      <td>1</td>\n      <td>14</td>\n      <td>7</td>\n    </tr>\n    <tr>\n      <th>5</th>\n      <td>18</td>\n      <td>19</td>\n      <td>16</td>\n    </tr>\n    <tr>\n      <th>6</th>\n      <td>8</td>\n      <td>24</td>\n      <td>5</td>\n    </tr>\n    <tr>\n      <th>7</th>\n      <td>2</td>\n      <td>16</td>\n      <td>12</td>\n    </tr>\n    <tr>\n      <th>8</th>\n      <td>21</td>\n      <td>7</td>\n      <td>17</td>\n    </tr>\n    <tr>\n      <th>9</th>\n      <td>22</td>\n      <td>17</td>\n      <td>6</td>\n    </tr>\n  </tbody>\n</table>\n</div>"
     },
     "execution_count": 344,
     "metadata": {},
     "output_type": "execute_result"
    }
   ],
   "source": [
    "df = pd.DataFrame(np.random.randint(1, 30, 30).reshape(10,-1), columns=list('abc'))\n",
    "\n",
    "print(df.idxmax())\n",
    "df"
   ]
  },
  {
   "cell_type": "markdown",
   "metadata": {},
   "source": [
    "**33\\.** Как получить последние n строк датафрейма с суммой строк 100?  (★★★)"
   ]
  },
  {
   "cell_type": "code",
   "execution_count": 345,
   "metadata": {
    "collapsed": true
   },
   "outputs": [
    {
     "name": "stdout",
     "output_type": "stream",
     "text": [
      "    0   1\n",
      "0  50  50\n",
      "1  50  25\n",
      "2  51  49\n",
      "3  33  67\n",
      "4  50  50\n",
      "5  50  25\n"
     ]
    },
    {
     "data": {
      "text/plain": "    0   1\n3  33  67\n4  50  50",
      "text/html": "<div>\n<style scoped>\n    .dataframe tbody tr th:only-of-type {\n        vertical-align: middle;\n    }\n\n    .dataframe tbody tr th {\n        vertical-align: top;\n    }\n\n    .dataframe thead th {\n        text-align: right;\n    }\n</style>\n<table border=\"1\" class=\"dataframe\">\n  <thead>\n    <tr style=\"text-align: right;\">\n      <th></th>\n      <th>0</th>\n      <th>1</th>\n    </tr>\n  </thead>\n  <tbody>\n    <tr>\n      <th>3</th>\n      <td>33</td>\n      <td>67</td>\n    </tr>\n    <tr>\n      <th>4</th>\n      <td>50</td>\n      <td>50</td>\n    </tr>\n  </tbody>\n</table>\n</div>"
     },
     "execution_count": 345,
     "metadata": {},
     "output_type": "execute_result"
    }
   ],
   "source": [
    "df = pd.DataFrame([[50,50],[50,25],[51,49],[33,67],[50,50],[50,25]])\n",
    "print(df)\n",
    "n = 2\n",
    "df[df.sum(axis=1) == 100].tail(n)"
   ]
  },
  {
   "cell_type": "markdown",
   "metadata": {},
   "source": [
    "### Выбросы (оutliers)"
   ]
  },
  {
   "cell_type": "markdown",
   "metadata": {},
   "source": [
    "* 5 Ways to Detect Outliers/Anomalies That Every Data Scientist Should Know (Python Code)\n",
    "\n",
    "https://towardsdatascience.com/5-ways-to-detect-outliers-that-every-data-scientist-should-know-python-code-70a54335a623"
   ]
  },
  {
   "cell_type": "markdown",
   "metadata": {},
   "source": [
    "**34\\.** Как найти и заменить выбросы из столбца Series или датафрейма? (★★★)\n",
    "\n",
    "Замените все значения из столбца ниже 5того и больше 95го персентиля, на пограничные значения.\n",
    "\n",
    "(hint: .quantile())"
   ]
  },
  {
   "cell_type": "code",
   "execution_count": 346,
   "metadata": {
    "collapsed": true
   },
   "outputs": [
    {
     "name": "stdout",
     "output_type": "stream",
     "text": [
      "0.016049294076965887 63.876672220183934\n"
     ]
    },
    {
     "data": {
      "text/plain": "0      0.016049\n1      0.016049\n2      0.018874\n3      0.025929\n4      0.035622\n        ...    \n25    28.072162\n26    38.566204\n27    52.983169\n28    63.876672\n29    63.876672\nLength: 30, dtype: float64"
     },
     "execution_count": 346,
     "metadata": {},
     "output_type": "execute_result"
    }
   ],
   "source": [
    "s = pd.Series(np.logspace(-2, 2, 30))\n",
    "\n",
    "p5, p95 = np.quantile(s, [0.05, 0.95])\n",
    "print(p5, p95)\n",
    "s[s < p5] = p5\n",
    "s[s > p95] = p95\n",
    "s"
   ]
  },
  {
   "cell_type": "markdown",
   "metadata": {},
   "source": [
    "**35\\.** Попробуйте реализовать метод Interquartile Range (IQR) (★★★)\n",
    "\n",
    "Почитать про него можно по ссылке выше."
   ]
  },
  {
   "cell_type": "code",
   "execution_count": 347,
   "metadata": {
    "collapsed": true
   },
   "outputs": [
    {
     "name": "stdout",
     "output_type": "stream",
     "text": [
      "0      0.010000\n",
      "1      0.013738\n",
      "2      0.018874\n",
      "3      0.025929\n",
      "4      0.035622\n",
      "        ...    \n",
      "20     5.736153\n",
      "21     7.880463\n",
      "22    10.826367\n",
      "23    14.873521\n",
      "24    20.433597\n",
      "Length: 25, dtype: float64\n",
      "25     28.072162\n",
      "26     38.566204\n",
      "27     52.983169\n",
      "28     72.789538\n",
      "29    100.000000\n",
      "dtype: float64\n"
     ]
    }
   ],
   "source": [
    "s = pd.Series(np.logspace(-2, 2, 30))\n",
    "\n",
    "def IQR(series, need_outliners=False):\n",
    "    q1, q3 = np.quantile(s, [0.25, 0.75])\n",
    "\n",
    "    iqr = q3 - q1\n",
    "\n",
    "    if not need_outliners:\n",
    "        no_outliers = series[(series > q1 - 1.5 * iqr) & (series < q3 + 1.5 * iqr)]\n",
    "        return no_outliers\n",
    "    else:\n",
    "        outliers = series[(series <= q1 - 1.5 * iqr) | (series >= q3 + 1.5 * iqr)]\n",
    "        return outliers\n",
    "\n",
    "print(IQR(s))\n",
    "print(IQR(s, True))"
   ]
  },
  {
   "cell_type": "markdown",
   "metadata": {},
   "source": [
    "**36\\.** Как поменять местами две строки данных? (★★★)"
   ]
  },
  {
   "cell_type": "code",
   "execution_count": 348,
   "metadata": {
    "collapsed": true
   },
   "outputs": [
    {
     "data": {
      "text/plain": "    0   1   2   3   4\n0   0   1   2   3   4\n1   5   6   7   8   9\n2  10  11  12  13  14\n3  15  16  17  18  19\n4  20  21  22  23  24",
      "text/html": "<div>\n<style scoped>\n    .dataframe tbody tr th:only-of-type {\n        vertical-align: middle;\n    }\n\n    .dataframe tbody tr th {\n        vertical-align: top;\n    }\n\n    .dataframe thead th {\n        text-align: right;\n    }\n</style>\n<table border=\"1\" class=\"dataframe\">\n  <thead>\n    <tr style=\"text-align: right;\">\n      <th></th>\n      <th>0</th>\n      <th>1</th>\n      <th>2</th>\n      <th>3</th>\n      <th>4</th>\n    </tr>\n  </thead>\n  <tbody>\n    <tr>\n      <th>0</th>\n      <td>0</td>\n      <td>1</td>\n      <td>2</td>\n      <td>3</td>\n      <td>4</td>\n    </tr>\n    <tr>\n      <th>1</th>\n      <td>5</td>\n      <td>6</td>\n      <td>7</td>\n      <td>8</td>\n      <td>9</td>\n    </tr>\n    <tr>\n      <th>2</th>\n      <td>10</td>\n      <td>11</td>\n      <td>12</td>\n      <td>13</td>\n      <td>14</td>\n    </tr>\n    <tr>\n      <th>3</th>\n      <td>15</td>\n      <td>16</td>\n      <td>17</td>\n      <td>18</td>\n      <td>19</td>\n    </tr>\n    <tr>\n      <th>4</th>\n      <td>20</td>\n      <td>21</td>\n      <td>22</td>\n      <td>23</td>\n      <td>24</td>\n    </tr>\n  </tbody>\n</table>\n</div>"
     },
     "execution_count": 348,
     "metadata": {},
     "output_type": "execute_result"
    }
   ],
   "source": [
    "df = pd.DataFrame(np.arange(25).reshape(5, -1))\n",
    "df"
   ]
  },
  {
   "cell_type": "code",
   "execution_count": 349,
   "outputs": [
    {
     "data": {
      "text/plain": "    0   1   2   3   4\n0   5   6   7   8   9\n1   0   1   2   3   4\n2  10  11  12  13  14\n3  15  16  17  18  19\n4  20  21  22  23  24",
      "text/html": "<div>\n<style scoped>\n    .dataframe tbody tr th:only-of-type {\n        vertical-align: middle;\n    }\n\n    .dataframe tbody tr th {\n        vertical-align: top;\n    }\n\n    .dataframe thead th {\n        text-align: right;\n    }\n</style>\n<table border=\"1\" class=\"dataframe\">\n  <thead>\n    <tr style=\"text-align: right;\">\n      <th></th>\n      <th>0</th>\n      <th>1</th>\n      <th>2</th>\n      <th>3</th>\n      <th>4</th>\n    </tr>\n  </thead>\n  <tbody>\n    <tr>\n      <th>0</th>\n      <td>5</td>\n      <td>6</td>\n      <td>7</td>\n      <td>8</td>\n      <td>9</td>\n    </tr>\n    <tr>\n      <th>1</th>\n      <td>0</td>\n      <td>1</td>\n      <td>2</td>\n      <td>3</td>\n      <td>4</td>\n    </tr>\n    <tr>\n      <th>2</th>\n      <td>10</td>\n      <td>11</td>\n      <td>12</td>\n      <td>13</td>\n      <td>14</td>\n    </tr>\n    <tr>\n      <th>3</th>\n      <td>15</td>\n      <td>16</td>\n      <td>17</td>\n      <td>18</td>\n      <td>19</td>\n    </tr>\n    <tr>\n      <th>4</th>\n      <td>20</td>\n      <td>21</td>\n      <td>22</td>\n      <td>23</td>\n      <td>24</td>\n    </tr>\n  </tbody>\n</table>\n</div>"
     },
     "execution_count": 349,
     "metadata": {},
     "output_type": "execute_result"
    }
   ],
   "source": [
    "row0, row1 = df.iloc[0].copy(), df.iloc[1].copy()\n",
    "df.iloc[0], df.iloc[1] = row1, row0\n",
    "df"
   ],
   "metadata": {
    "collapsed": false,
    "pycharm": {
     "name": "#%%\n"
    }
   }
  },
  {
   "cell_type": "markdown",
   "metadata": {},
   "source": [
    "### one-hot-encoding"
   ]
  },
  {
   "cell_type": "markdown",
   "metadata": {},
   "source": [
    "**37\\.** Как создать однозначные кодировки категориальной переменной? (★★★)\n",
    "\n",
    "Сделайте one-hot кодировку столбца 'a'."
   ]
  },
  {
   "cell_type": "code",
   "execution_count": 350,
   "metadata": {
    "collapsed": true
   },
   "outputs": [
    {
     "data": {
      "text/plain": "     b  a_aa  a_ab  a_ba  a_cc\n0  kek     1     0     0     0\n1  lol     0     0     1     0\n2  kek     0     1     0     0\n3  lol     1     0     0     0\n4  kek     0     0     0     1",
      "text/html": "<div>\n<style scoped>\n    .dataframe tbody tr th:only-of-type {\n        vertical-align: middle;\n    }\n\n    .dataframe tbody tr th {\n        vertical-align: top;\n    }\n\n    .dataframe thead th {\n        text-align: right;\n    }\n</style>\n<table border=\"1\" class=\"dataframe\">\n  <thead>\n    <tr style=\"text-align: right;\">\n      <th></th>\n      <th>b</th>\n      <th>a_aa</th>\n      <th>a_ab</th>\n      <th>a_ba</th>\n      <th>a_cc</th>\n    </tr>\n  </thead>\n  <tbody>\n    <tr>\n      <th>0</th>\n      <td>kek</td>\n      <td>1</td>\n      <td>0</td>\n      <td>0</td>\n      <td>0</td>\n    </tr>\n    <tr>\n      <th>1</th>\n      <td>lol</td>\n      <td>0</td>\n      <td>0</td>\n      <td>1</td>\n      <td>0</td>\n    </tr>\n    <tr>\n      <th>2</th>\n      <td>kek</td>\n      <td>0</td>\n      <td>1</td>\n      <td>0</td>\n      <td>0</td>\n    </tr>\n    <tr>\n      <th>3</th>\n      <td>lol</td>\n      <td>1</td>\n      <td>0</td>\n      <td>0</td>\n      <td>0</td>\n    </tr>\n    <tr>\n      <th>4</th>\n      <td>kek</td>\n      <td>0</td>\n      <td>0</td>\n      <td>0</td>\n      <td>1</td>\n    </tr>\n  </tbody>\n</table>\n</div>"
     },
     "execution_count": 350,
     "metadata": {},
     "output_type": "execute_result"
    }
   ],
   "source": [
    "df = pd.DataFrame([['aa', 'kek'], ['ba', 'lol'], ['ab', 'kek'], ['aa', 'lol'], ['cc', 'kek']], columns=['a', 'b'])\n",
    "\n",
    "df = pd.get_dummies(df, columns=['a'])\n",
    "df"
   ]
  },
  {
   "cell_type": "markdown",
   "metadata": {},
   "source": [
    "**38\\.** Нормализуйте все столбцы в датафрейме. (★★★)\n",
    "\n",
    "a) Нормализовать все столбцы df путем вычитания среднего значения столбца и деления на стандартное отклонение. \n",
    "\n",
    "b) Трансформируйте все столбцы df так, чтобы минимальное значение в каждом столбце было 0, а max = 1."
   ]
  },
  {
   "cell_type": "code",
   "execution_count": 351,
   "metadata": {
    "collapsed": true
   },
   "outputs": [
    {
     "data": {
      "text/plain": "    0   1   2   3   4   5   6   7   8   9\n0  46  49  37  27   5  15  42  59  81   3\n1  30  82  18  92  23  25   7  61  90  73\n2   8  84  22  25  20  36  56   8  15  80\n3  41  32  33  11  75  80  52  68  64  68\n4  75   8  36  83  92  97  30   1  35  97\n5  62  79  97  25  92  96   5  47  31  80\n6  32  16  16  81  29  79  71  70  43  51\n7  58  33  27  87  12  94  43  82  16  49",
      "text/html": "<div>\n<style scoped>\n    .dataframe tbody tr th:only-of-type {\n        vertical-align: middle;\n    }\n\n    .dataframe tbody tr th {\n        vertical-align: top;\n    }\n\n    .dataframe thead th {\n        text-align: right;\n    }\n</style>\n<table border=\"1\" class=\"dataframe\">\n  <thead>\n    <tr style=\"text-align: right;\">\n      <th></th>\n      <th>0</th>\n      <th>1</th>\n      <th>2</th>\n      <th>3</th>\n      <th>4</th>\n      <th>5</th>\n      <th>6</th>\n      <th>7</th>\n      <th>8</th>\n      <th>9</th>\n    </tr>\n  </thead>\n  <tbody>\n    <tr>\n      <th>0</th>\n      <td>46</td>\n      <td>49</td>\n      <td>37</td>\n      <td>27</td>\n      <td>5</td>\n      <td>15</td>\n      <td>42</td>\n      <td>59</td>\n      <td>81</td>\n      <td>3</td>\n    </tr>\n    <tr>\n      <th>1</th>\n      <td>30</td>\n      <td>82</td>\n      <td>18</td>\n      <td>92</td>\n      <td>23</td>\n      <td>25</td>\n      <td>7</td>\n      <td>61</td>\n      <td>90</td>\n      <td>73</td>\n    </tr>\n    <tr>\n      <th>2</th>\n      <td>8</td>\n      <td>84</td>\n      <td>22</td>\n      <td>25</td>\n      <td>20</td>\n      <td>36</td>\n      <td>56</td>\n      <td>8</td>\n      <td>15</td>\n      <td>80</td>\n    </tr>\n    <tr>\n      <th>3</th>\n      <td>41</td>\n      <td>32</td>\n      <td>33</td>\n      <td>11</td>\n      <td>75</td>\n      <td>80</td>\n      <td>52</td>\n      <td>68</td>\n      <td>64</td>\n      <td>68</td>\n    </tr>\n    <tr>\n      <th>4</th>\n      <td>75</td>\n      <td>8</td>\n      <td>36</td>\n      <td>83</td>\n      <td>92</td>\n      <td>97</td>\n      <td>30</td>\n      <td>1</td>\n      <td>35</td>\n      <td>97</td>\n    </tr>\n    <tr>\n      <th>5</th>\n      <td>62</td>\n      <td>79</td>\n      <td>97</td>\n      <td>25</td>\n      <td>92</td>\n      <td>96</td>\n      <td>5</td>\n      <td>47</td>\n      <td>31</td>\n      <td>80</td>\n    </tr>\n    <tr>\n      <th>6</th>\n      <td>32</td>\n      <td>16</td>\n      <td>16</td>\n      <td>81</td>\n      <td>29</td>\n      <td>79</td>\n      <td>71</td>\n      <td>70</td>\n      <td>43</td>\n      <td>51</td>\n    </tr>\n    <tr>\n      <th>7</th>\n      <td>58</td>\n      <td>33</td>\n      <td>27</td>\n      <td>87</td>\n      <td>12</td>\n      <td>94</td>\n      <td>43</td>\n      <td>82</td>\n      <td>16</td>\n      <td>49</td>\n    </tr>\n  </tbody>\n</table>\n</div>"
     },
     "execution_count": 351,
     "metadata": {},
     "output_type": "execute_result"
    }
   ],
   "source": [
    "df = pd.DataFrame(np.random.randint(1,100, 80).reshape(8, -1))\n",
    "\n",
    "df"
   ]
  },
  {
   "cell_type": "code",
   "execution_count": 352,
   "outputs": [
    {
     "data": {
      "text/plain": "          0         1         2         3         4         5         6  \\\n0  0.567164  0.539474  0.259259  0.197531  0.000000  0.000000  0.560606   \n1  0.328358  0.973684  0.024691  1.000000  0.206897  0.121951  0.030303   \n2  0.000000  1.000000  0.074074  0.172840  0.172414  0.256098  0.772727   \n3  0.492537  0.315789  0.209877  0.000000  0.804598  0.792683  0.712121   \n4  1.000000  0.000000  0.246914  0.888889  1.000000  1.000000  0.378788   \n5  0.805970  0.934211  1.000000  0.172840  1.000000  0.987805  0.000000   \n6  0.358209  0.105263  0.000000  0.864198  0.275862  0.780488  1.000000   \n7  0.746269  0.328947  0.135802  0.938272  0.080460  0.963415  0.575758   \n\n          7         8         9  \n0  0.716049  0.880000  0.000000  \n1  0.740741  1.000000  0.744681  \n2  0.086420  0.000000  0.819149  \n3  0.827160  0.653333  0.691489  \n4  0.000000  0.266667  1.000000  \n5  0.567901  0.213333  0.819149  \n6  0.851852  0.373333  0.510638  \n7  1.000000  0.013333  0.489362  ",
      "text/html": "<div>\n<style scoped>\n    .dataframe tbody tr th:only-of-type {\n        vertical-align: middle;\n    }\n\n    .dataframe tbody tr th {\n        vertical-align: top;\n    }\n\n    .dataframe thead th {\n        text-align: right;\n    }\n</style>\n<table border=\"1\" class=\"dataframe\">\n  <thead>\n    <tr style=\"text-align: right;\">\n      <th></th>\n      <th>0</th>\n      <th>1</th>\n      <th>2</th>\n      <th>3</th>\n      <th>4</th>\n      <th>5</th>\n      <th>6</th>\n      <th>7</th>\n      <th>8</th>\n      <th>9</th>\n    </tr>\n  </thead>\n  <tbody>\n    <tr>\n      <th>0</th>\n      <td>0.567164</td>\n      <td>0.539474</td>\n      <td>0.259259</td>\n      <td>0.197531</td>\n      <td>0.000000</td>\n      <td>0.000000</td>\n      <td>0.560606</td>\n      <td>0.716049</td>\n      <td>0.880000</td>\n      <td>0.000000</td>\n    </tr>\n    <tr>\n      <th>1</th>\n      <td>0.328358</td>\n      <td>0.973684</td>\n      <td>0.024691</td>\n      <td>1.000000</td>\n      <td>0.206897</td>\n      <td>0.121951</td>\n      <td>0.030303</td>\n      <td>0.740741</td>\n      <td>1.000000</td>\n      <td>0.744681</td>\n    </tr>\n    <tr>\n      <th>2</th>\n      <td>0.000000</td>\n      <td>1.000000</td>\n      <td>0.074074</td>\n      <td>0.172840</td>\n      <td>0.172414</td>\n      <td>0.256098</td>\n      <td>0.772727</td>\n      <td>0.086420</td>\n      <td>0.000000</td>\n      <td>0.819149</td>\n    </tr>\n    <tr>\n      <th>3</th>\n      <td>0.492537</td>\n      <td>0.315789</td>\n      <td>0.209877</td>\n      <td>0.000000</td>\n      <td>0.804598</td>\n      <td>0.792683</td>\n      <td>0.712121</td>\n      <td>0.827160</td>\n      <td>0.653333</td>\n      <td>0.691489</td>\n    </tr>\n    <tr>\n      <th>4</th>\n      <td>1.000000</td>\n      <td>0.000000</td>\n      <td>0.246914</td>\n      <td>0.888889</td>\n      <td>1.000000</td>\n      <td>1.000000</td>\n      <td>0.378788</td>\n      <td>0.000000</td>\n      <td>0.266667</td>\n      <td>1.000000</td>\n    </tr>\n    <tr>\n      <th>5</th>\n      <td>0.805970</td>\n      <td>0.934211</td>\n      <td>1.000000</td>\n      <td>0.172840</td>\n      <td>1.000000</td>\n      <td>0.987805</td>\n      <td>0.000000</td>\n      <td>0.567901</td>\n      <td>0.213333</td>\n      <td>0.819149</td>\n    </tr>\n    <tr>\n      <th>6</th>\n      <td>0.358209</td>\n      <td>0.105263</td>\n      <td>0.000000</td>\n      <td>0.864198</td>\n      <td>0.275862</td>\n      <td>0.780488</td>\n      <td>1.000000</td>\n      <td>0.851852</td>\n      <td>0.373333</td>\n      <td>0.510638</td>\n    </tr>\n    <tr>\n      <th>7</th>\n      <td>0.746269</td>\n      <td>0.328947</td>\n      <td>0.135802</td>\n      <td>0.938272</td>\n      <td>0.080460</td>\n      <td>0.963415</td>\n      <td>0.575758</td>\n      <td>1.000000</td>\n      <td>0.013333</td>\n      <td>0.489362</td>\n    </tr>\n  </tbody>\n</table>\n</div>"
     },
     "execution_count": 352,
     "metadata": {},
     "output_type": "execute_result"
    }
   ],
   "source": [
    "df = (df - df.mean()) / df.std()\n",
    "df = (df - df.min()) / (df.max() - df.min())\n",
    "df"
   ],
   "metadata": {
    "collapsed": false,
    "pycharm": {
     "name": "#%%\n"
    }
   }
  },
  {
   "cell_type": "markdown",
   "metadata": {},
   "source": [
    "**39\\.** Как получить конкретную группу из датафрейма сгруппированного по ключу? (★★★)\n",
    "\n",
    "Сгруппируйте по 'name', и выведите данные по группе 'orange'.\n",
    "\n",
    "(hint: groupby(), get_group())"
   ]
  },
  {
   "cell_type": "code",
   "execution_count": 353,
   "metadata": {
    "collapsed": true
   },
   "outputs": [
    {
     "data": {
      "text/plain": "     name     taste  price\n2  orange  0.597312     10\n5  orange  0.013184     11\n8  orange  0.698092      3",
      "text/html": "<div>\n<style scoped>\n    .dataframe tbody tr th:only-of-type {\n        vertical-align: middle;\n    }\n\n    .dataframe tbody tr th {\n        vertical-align: top;\n    }\n\n    .dataframe thead th {\n        text-align: right;\n    }\n</style>\n<table border=\"1\" class=\"dataframe\">\n  <thead>\n    <tr style=\"text-align: right;\">\n      <th></th>\n      <th>name</th>\n      <th>taste</th>\n      <th>price</th>\n    </tr>\n  </thead>\n  <tbody>\n    <tr>\n      <th>2</th>\n      <td>orange</td>\n      <td>0.597312</td>\n      <td>10</td>\n    </tr>\n    <tr>\n      <th>5</th>\n      <td>orange</td>\n      <td>0.013184</td>\n      <td>11</td>\n    </tr>\n    <tr>\n      <th>8</th>\n      <td>orange</td>\n      <td>0.698092</td>\n      <td>3</td>\n    </tr>\n  </tbody>\n</table>\n</div>"
     },
     "execution_count": 353,
     "metadata": {},
     "output_type": "execute_result"
    }
   ],
   "source": [
    "df = pd.DataFrame({'name': ['apple', 'banana', 'orange'] * 3,\n",
    "                   'taste': np.random.rand(9),\n",
    "                   'price': np.random.randint(0, 15, 9)})\n",
    "\n",
    "df.groupby('name').get_group('orange')"
   ]
  },
  {
   "cell_type": "markdown",
   "metadata": {},
   "source": [
    "**40\\.** Как вычислить среднее значение по столбцу 'price' по каждому фрукту в датафрейме и сохранить сгруппированный столбец как другой столбец (не индекс)? (★★★)"
   ]
  },
  {
   "cell_type": "code",
   "execution_count": 354,
   "metadata": {
    "collapsed": true
   },
   "outputs": [
    {
     "data": {
      "text/plain": "     name     taste  price  price_mean\n0   apple  0.193120     12   10.000000\n1  banana  0.730207      5    5.666667\n2  orange  0.975881     13    9.000000\n3   apple  0.616596      6   10.000000\n4  banana  0.110594      0    5.666667\n5  orange  0.152581     12    9.000000\n6   apple  0.150372     12   10.000000\n7  banana  0.751700     12    5.666667\n8  orange  0.482864      2    9.000000",
      "text/html": "<div>\n<style scoped>\n    .dataframe tbody tr th:only-of-type {\n        vertical-align: middle;\n    }\n\n    .dataframe tbody tr th {\n        vertical-align: top;\n    }\n\n    .dataframe thead th {\n        text-align: right;\n    }\n</style>\n<table border=\"1\" class=\"dataframe\">\n  <thead>\n    <tr style=\"text-align: right;\">\n      <th></th>\n      <th>name</th>\n      <th>taste</th>\n      <th>price</th>\n      <th>price_mean</th>\n    </tr>\n  </thead>\n  <tbody>\n    <tr>\n      <th>0</th>\n      <td>apple</td>\n      <td>0.193120</td>\n      <td>12</td>\n      <td>10.000000</td>\n    </tr>\n    <tr>\n      <th>1</th>\n      <td>banana</td>\n      <td>0.730207</td>\n      <td>5</td>\n      <td>5.666667</td>\n    </tr>\n    <tr>\n      <th>2</th>\n      <td>orange</td>\n      <td>0.975881</td>\n      <td>13</td>\n      <td>9.000000</td>\n    </tr>\n    <tr>\n      <th>3</th>\n      <td>apple</td>\n      <td>0.616596</td>\n      <td>6</td>\n      <td>10.000000</td>\n    </tr>\n    <tr>\n      <th>4</th>\n      <td>banana</td>\n      <td>0.110594</td>\n      <td>0</td>\n      <td>5.666667</td>\n    </tr>\n    <tr>\n      <th>5</th>\n      <td>orange</td>\n      <td>0.152581</td>\n      <td>12</td>\n      <td>9.000000</td>\n    </tr>\n    <tr>\n      <th>6</th>\n      <td>apple</td>\n      <td>0.150372</td>\n      <td>12</td>\n      <td>10.000000</td>\n    </tr>\n    <tr>\n      <th>7</th>\n      <td>banana</td>\n      <td>0.751700</td>\n      <td>12</td>\n      <td>5.666667</td>\n    </tr>\n    <tr>\n      <th>8</th>\n      <td>orange</td>\n      <td>0.482864</td>\n      <td>2</td>\n      <td>9.000000</td>\n    </tr>\n  </tbody>\n</table>\n</div>"
     },
     "execution_count": 354,
     "metadata": {},
     "output_type": "execute_result"
    }
   ],
   "source": [
    "df = pd.DataFrame({'name': ['apple', 'banana', 'orange'] * 3,\n",
    "                   'taste': np.random.rand(9),\n",
    "                   'price': np.random.randint(0, 15, 9)})\n",
    "\n",
    "\n",
    "df.join(df.groupby('name')['price'].mean(), on='name', rsuffix='_mean')"
   ]
  },
  {
   "cell_type": "markdown",
   "metadata": {},
   "source": [
    "**41\\.** Как объединить два датафрейма по двум столбцам, чтобы в них остались только общие строки?  (★★★)\n",
    "\n",
    "Сделать merge двух датафреймов по колонкам ['fruit', 'weight'] и ['pazham', 'kilo'].\n",
    "\n",
    "(hint: pd.merge https://pandas.pydata.org/pandas-docs/stable/getting_started/10min.html#merge )"
   ]
  },
  {
   "cell_type": "code",
   "execution_count": 355,
   "metadata": {
    "collapsed": true
   },
   "outputs": [
    {
     "data": {
      "text/plain": "    fruit weight  price_x  pazham  kilo  price_y\n0   apple   high       12   apple  high       13\n1   apple   high        0   apple  high       13\n2   apple   high        8   apple  high       13\n3  orange    low        1  orange   low       14\n4  orange    low        4  orange   low       14\n5  orange    low        1  orange   low       14",
      "text/html": "<div>\n<style scoped>\n    .dataframe tbody tr th:only-of-type {\n        vertical-align: middle;\n    }\n\n    .dataframe tbody tr th {\n        vertical-align: top;\n    }\n\n    .dataframe thead th {\n        text-align: right;\n    }\n</style>\n<table border=\"1\" class=\"dataframe\">\n  <thead>\n    <tr style=\"text-align: right;\">\n      <th></th>\n      <th>fruit</th>\n      <th>weight</th>\n      <th>price_x</th>\n      <th>pazham</th>\n      <th>kilo</th>\n      <th>price_y</th>\n    </tr>\n  </thead>\n  <tbody>\n    <tr>\n      <th>0</th>\n      <td>apple</td>\n      <td>high</td>\n      <td>12</td>\n      <td>apple</td>\n      <td>high</td>\n      <td>13</td>\n    </tr>\n    <tr>\n      <th>1</th>\n      <td>apple</td>\n      <td>high</td>\n      <td>0</td>\n      <td>apple</td>\n      <td>high</td>\n      <td>13</td>\n    </tr>\n    <tr>\n      <th>2</th>\n      <td>apple</td>\n      <td>high</td>\n      <td>8</td>\n      <td>apple</td>\n      <td>high</td>\n      <td>13</td>\n    </tr>\n    <tr>\n      <th>3</th>\n      <td>orange</td>\n      <td>low</td>\n      <td>1</td>\n      <td>orange</td>\n      <td>low</td>\n      <td>14</td>\n    </tr>\n    <tr>\n      <th>4</th>\n      <td>orange</td>\n      <td>low</td>\n      <td>4</td>\n      <td>orange</td>\n      <td>low</td>\n      <td>14</td>\n    </tr>\n    <tr>\n      <th>5</th>\n      <td>orange</td>\n      <td>low</td>\n      <td>1</td>\n      <td>orange</td>\n      <td>low</td>\n      <td>14</td>\n    </tr>\n  </tbody>\n</table>\n</div>"
     },
     "execution_count": 355,
     "metadata": {},
     "output_type": "execute_result"
    }
   ],
   "source": [
    "df1 = pd.DataFrame({'fruit': ['apple', 'banana', 'orange'] * 3,\n",
    "                    'weight': ['high', 'medium', 'low'] * 3,\n",
    "                    'price': np.random.randint(0, 15, 9)})\n",
    "\n",
    "df2 = pd.DataFrame({'pazham': ['apple', 'orange', 'pine'] * 2,\n",
    "                    'kilo': ['high', 'low'] * 3,\n",
    "                    'price': np.random.randint(0, 15, 6)})\n",
    "\n",
    "df1.merge(df2, left_on=['fruit', 'weight'], right_on=['pazham', 'kilo'])"
   ]
  },
  {
   "cell_type": "markdown",
   "metadata": {},
   "source": [
    "**42\\.** Как удалить строки из датафрейма А, которые присутствуют в датафрейме B? (★★★)\n"
   ]
  },
  {
   "cell_type": "code",
   "execution_count": 356,
   "metadata": {
    "collapsed": true
   },
   "outputs": [
    {
     "data": {
      "text/plain": "    fruit  weight  price\n2  banana     low      2\n3   apple    high      3\n4  orange  medium      4\n5  banana     low      5\n6   apple    high      6\n7  orange  medium      7\n8  banana     low      8",
      "text/html": "<div>\n<style scoped>\n    .dataframe tbody tr th:only-of-type {\n        vertical-align: middle;\n    }\n\n    .dataframe tbody tr th {\n        vertical-align: top;\n    }\n\n    .dataframe thead th {\n        text-align: right;\n    }\n</style>\n<table border=\"1\" class=\"dataframe\">\n  <thead>\n    <tr style=\"text-align: right;\">\n      <th></th>\n      <th>fruit</th>\n      <th>weight</th>\n      <th>price</th>\n    </tr>\n  </thead>\n  <tbody>\n    <tr>\n      <th>2</th>\n      <td>banana</td>\n      <td>low</td>\n      <td>2</td>\n    </tr>\n    <tr>\n      <th>3</th>\n      <td>apple</td>\n      <td>high</td>\n      <td>3</td>\n    </tr>\n    <tr>\n      <th>4</th>\n      <td>orange</td>\n      <td>medium</td>\n      <td>4</td>\n    </tr>\n    <tr>\n      <th>5</th>\n      <td>banana</td>\n      <td>low</td>\n      <td>5</td>\n    </tr>\n    <tr>\n      <th>6</th>\n      <td>apple</td>\n      <td>high</td>\n      <td>6</td>\n    </tr>\n    <tr>\n      <th>7</th>\n      <td>orange</td>\n      <td>medium</td>\n      <td>7</td>\n    </tr>\n    <tr>\n      <th>8</th>\n      <td>banana</td>\n      <td>low</td>\n      <td>8</td>\n    </tr>\n  </tbody>\n</table>\n</div>"
     },
     "execution_count": 356,
     "metadata": {},
     "output_type": "execute_result"
    }
   ],
   "source": [
    "df1 = pd.DataFrame({'fruit': ['apple', 'orange', 'banana'] * 3,\n",
    "                    'weight': ['high', 'medium', 'low'] * 3,\n",
    "                    'price': np.arange(9)})\n",
    "\n",
    "df2 = pd.DataFrame({'fruit': ['apple', 'orange', 'pine'] * 2,\n",
    "                    'weight': ['high', 'medium'] * 3,\n",
    "                    'price': np.arange(6)})\n",
    "\n",
    "df1[~df1.isin(df2).all(1)]"
   ]
  },
  {
   "cell_type": "markdown",
   "metadata": {},
   "source": [
    "**43\\.** Как получить номера строк, в которых совпадают значения двух столбцов? (★★★)\n",
    "\n",
    "(hint: np.where)"
   ]
  },
  {
   "cell_type": "code",
   "execution_count": 357,
   "metadata": {
    "collapsed": true
   },
   "outputs": [
    {
     "name": "stdout",
     "output_type": "stream",
     "text": [
      "Int64Index([1, 3, 5, 8], dtype='int64')\n"
     ]
    },
    {
     "data": {
      "text/plain": "   fruit1  fruit2\n0  banana   apple\n1  banana  banana\n2  banana   apple\n3  banana  banana\n4   apple  orange\n5  orange  orange\n6  banana   apple\n7  orange   apple\n8   apple   apple\n9   apple  banana",
      "text/html": "<div>\n<style scoped>\n    .dataframe tbody tr th:only-of-type {\n        vertical-align: middle;\n    }\n\n    .dataframe tbody tr th {\n        vertical-align: top;\n    }\n\n    .dataframe thead th {\n        text-align: right;\n    }\n</style>\n<table border=\"1\" class=\"dataframe\">\n  <thead>\n    <tr style=\"text-align: right;\">\n      <th></th>\n      <th>fruit1</th>\n      <th>fruit2</th>\n    </tr>\n  </thead>\n  <tbody>\n    <tr>\n      <th>0</th>\n      <td>banana</td>\n      <td>apple</td>\n    </tr>\n    <tr>\n      <th>1</th>\n      <td>banana</td>\n      <td>banana</td>\n    </tr>\n    <tr>\n      <th>2</th>\n      <td>banana</td>\n      <td>apple</td>\n    </tr>\n    <tr>\n      <th>3</th>\n      <td>banana</td>\n      <td>banana</td>\n    </tr>\n    <tr>\n      <th>4</th>\n      <td>apple</td>\n      <td>orange</td>\n    </tr>\n    <tr>\n      <th>5</th>\n      <td>orange</td>\n      <td>orange</td>\n    </tr>\n    <tr>\n      <th>6</th>\n      <td>banana</td>\n      <td>apple</td>\n    </tr>\n    <tr>\n      <th>7</th>\n      <td>orange</td>\n      <td>apple</td>\n    </tr>\n    <tr>\n      <th>8</th>\n      <td>apple</td>\n      <td>apple</td>\n    </tr>\n    <tr>\n      <th>9</th>\n      <td>apple</td>\n      <td>banana</td>\n    </tr>\n  </tbody>\n</table>\n</div>"
     },
     "execution_count": 357,
     "metadata": {},
     "output_type": "execute_result"
    }
   ],
   "source": [
    "df = pd.DataFrame({'fruit1': np.random.choice(['apple', 'orange', 'banana'], 10),\n",
    "                    'fruit2': np.random.choice(['apple', 'orange', 'banana'], 10)})\n",
    "\n",
    "\n",
    "print(df[df['fruit1'] == df['fruit2']].index)\n",
    "df"
   ]
  },
  {
   "cell_type": "markdown",
   "metadata": {},
   "source": [
    "**44\\.** Создайте столбец a_shift со сдвигом на одну строку назад. (★★★)\n",
    "\n",
    "(hint: .shift())"
   ]
  },
  {
   "cell_type": "code",
   "execution_count": 358,
   "metadata": {
    "collapsed": true
   },
   "outputs": [
    {
     "data": {
      "text/plain": "    a   b   c   d  a_shift\n0  44  56  18  54     31.0\n1  31  17  49  34      1.0\n2   1  54  19  41      8.0\n3   8  56  66  44     17.0\n4  17  31  30   6      NaN",
      "text/html": "<div>\n<style scoped>\n    .dataframe tbody tr th:only-of-type {\n        vertical-align: middle;\n    }\n\n    .dataframe tbody tr th {\n        vertical-align: top;\n    }\n\n    .dataframe thead th {\n        text-align: right;\n    }\n</style>\n<table border=\"1\" class=\"dataframe\">\n  <thead>\n    <tr style=\"text-align: right;\">\n      <th></th>\n      <th>a</th>\n      <th>b</th>\n      <th>c</th>\n      <th>d</th>\n      <th>a_shift</th>\n    </tr>\n  </thead>\n  <tbody>\n    <tr>\n      <th>0</th>\n      <td>44</td>\n      <td>56</td>\n      <td>18</td>\n      <td>54</td>\n      <td>31.0</td>\n    </tr>\n    <tr>\n      <th>1</th>\n      <td>31</td>\n      <td>17</td>\n      <td>49</td>\n      <td>34</td>\n      <td>1.0</td>\n    </tr>\n    <tr>\n      <th>2</th>\n      <td>1</td>\n      <td>54</td>\n      <td>19</td>\n      <td>41</td>\n      <td>8.0</td>\n    </tr>\n    <tr>\n      <th>3</th>\n      <td>8</td>\n      <td>56</td>\n      <td>66</td>\n      <td>44</td>\n      <td>17.0</td>\n    </tr>\n    <tr>\n      <th>4</th>\n      <td>17</td>\n      <td>31</td>\n      <td>30</td>\n      <td>6</td>\n      <td>NaN</td>\n    </tr>\n  </tbody>\n</table>\n</div>"
     },
     "execution_count": 358,
     "metadata": {},
     "output_type": "execute_result"
    }
   ],
   "source": [
    "df = pd.DataFrame(np.random.randint(1, 100, 20).reshape(-1, 4), columns = list('abcd'))\n",
    "\n",
    "df['a_shift'] = df['a'].shift(periods=-1)\n",
    "df"
   ]
  },
  {
   "cell_type": "markdown",
   "metadata": {},
   "source": [
    "**45\\.** Как разбить текстовый столбец на три отдельных столбца? (★★★)\n",
    "\n",
    "Разбить на три столбцы STD, City, State"
   ]
  },
  {
   "cell_type": "code",
   "execution_count": 359,
   "metadata": {
    "collapsed": true
   },
   "outputs": [
    {
     "data": {
      "text/plain": "0 STD       City        State\n0  33    Kolkata  West Bengal\n1  44    Chennai   Tamil Nadu\n2  40  Hyderabad    Telengana\n3  80  Bangalore    Karnataka",
      "text/html": "<div>\n<style scoped>\n    .dataframe tbody tr th:only-of-type {\n        vertical-align: middle;\n    }\n\n    .dataframe tbody tr th {\n        vertical-align: top;\n    }\n\n    .dataframe thead th {\n        text-align: right;\n    }\n</style>\n<table border=\"1\" class=\"dataframe\">\n  <thead>\n    <tr style=\"text-align: right;\">\n      <th></th>\n      <th>STD</th>\n      <th>City</th>\n      <th>State</th>\n    </tr>\n  </thead>\n  <tbody>\n    <tr>\n      <th>0</th>\n      <td>33</td>\n      <td>Kolkata</td>\n      <td>West Bengal</td>\n    </tr>\n    <tr>\n      <th>1</th>\n      <td>44</td>\n      <td>Chennai</td>\n      <td>Tamil Nadu</td>\n    </tr>\n    <tr>\n      <th>2</th>\n      <td>40</td>\n      <td>Hyderabad</td>\n      <td>Telengana</td>\n    </tr>\n    <tr>\n      <th>3</th>\n      <td>80</td>\n      <td>Bangalore</td>\n      <td>Karnataka</td>\n    </tr>\n  </tbody>\n</table>\n</div>"
     },
     "execution_count": 359,
     "metadata": {},
     "output_type": "execute_result"
    }
   ],
   "source": [
    "df = pd.DataFrame([\"STD, City    State\",\n",
    "\"33, Kolkata    West Bengal\",\n",
    "\"44, Chennai    Tamil Nadu\",\n",
    "\"40, Hyderabad    Telengana\",\n",
    "\"80, Bangalore    Karnataka\"], columns=['row'])\n",
    "\n",
    "df = df.row.str.split(r\", |    \", expand=True)\n",
    "df.columns = df.iloc[0]\n",
    "df = df.shift(-1).dropna()\n",
    "df"
   ]
  },
  {
   "cell_type": "markdown",
   "metadata": {},
   "source": [
    "### **46\\.** Ну а теперь все вместе.  (★★★★★★★★★★)"
   ]
  },
  {
   "cell_type": "markdown",
   "metadata": {},
   "source": [
    "* Заменяем все точки в названии на '_'\n",
    "* Выделить категориальные признаки\n",
    "* Посчитать кол-во уникальных значений во всех текстовых\\категориальных столбцах. \n",
    "* Колонки с только уникальными значениями удаляем (например Model и Make)\n",
    "* Для столбцов у которых значений более 10, оставляем топ 10 значений, остальные заменяем на 'other'\n",
    "* Числовые столбцы проверяем на пропуски. Подсчитываем кол-во nan\\none и делим на размер датафрейма -сохраняем в отдельный датафрейм, это доля пропусков в каждом столбце\n",
    "* Чистим выбросы. Во всех числовых столбцах заменяем все значения столбца меньше 5го персентиля и больше 95ого персентиля на эти пограничные значения.\n",
    "* Заполняем пропуски в числовых столбцах на среднее по столбцу, в текстовых столбцах на 'other'\n",
    "* Все категориальные признаки превращаем в one-hot-encoding\n",
    "* Создать новый столбец Length_Width = Length * Width\n",
    "* Столбцы MPG_cityми MPG_highway из MPG перевести в единицы LPG (литры \\100 км) = (100 * 3,785)  / (MPG * 1,609)\n",
    "* Посчитать среднюю цену по каждому типу машины у каждого производителя\n",
    "* Посчитать максимальные Length и Width по Type\n",
    "* Посчитать кол-во моделей машин по типу машины и наличию подушки безопасности (агрегирование по столбцам Type и AirBags)\n",
    "* Посчитать кол-во машин по каждому типу машины у каждого производителя(агрегирование по столбцам Type и Manufacturer)\n",
    "* Посчитать кол-во машин по Manufacturer-Man_trans_avail\n",
    "* Вывести у какой модели, какого изготовителя максимальная вместимость по пассажирам"
   ]
  },
  {
   "cell_type": "code",
   "execution_count": 398,
   "metadata": {
    "collapsed": true
   },
   "outputs": [
    {
     "data": {
      "text/plain": "   Manufacturer    Model     Type  Min.Price  Price  ...  Rear.seat.room  \\\n0         Acura  Integra    Small       12.9   15.9  ...            26.5   \n1           NaN   Legend  Midsize       29.2   33.9  ...            30.0   \n2          Audi       90  Compact       25.9   29.1  ...            28.0   \n3          Audi      100  Midsize        NaN   37.7  ...            31.0   \n4           BMW     535i  Midsize        NaN   30.0  ...            27.0   \n..          ...      ...      ...        ...    ...  ...             ...   \n88   Volkswagen  Eurovan      Van       16.6   19.7  ...            34.0   \n89   Volkswagen   Passat  Compact       17.6   20.0  ...            31.5   \n90   Volkswagen  Corrado   Sporty       22.9   23.3  ...            26.0   \n91        Volvo      240  Compact       21.8   22.7  ...            29.5   \n92          NaN      850  Midsize       24.8   26.7  ...            30.0   \n\n    Luggage.room  Weight   Origin                Make  \n0            NaN  2705.0  non-USA       Acura Integra  \n1           15.0  3560.0  non-USA        Acura Legend  \n2           14.0  3375.0  non-USA             Audi 90  \n3           17.0  3405.0  non-USA            Audi 100  \n4           13.0  3640.0  non-USA            BMW 535i  \n..           ...     ...      ...                 ...  \n88           NaN  3960.0      NaN  Volkswagen Eurovan  \n89          14.0  2985.0  non-USA   Volkswagen Passat  \n90          15.0  2810.0  non-USA  Volkswagen Corrado  \n91          14.0  2985.0  non-USA           Volvo 240  \n92          15.0  3245.0  non-USA           Volvo 850  \n\n[93 rows x 27 columns]",
      "text/html": "<div>\n<style scoped>\n    .dataframe tbody tr th:only-of-type {\n        vertical-align: middle;\n    }\n\n    .dataframe tbody tr th {\n        vertical-align: top;\n    }\n\n    .dataframe thead th {\n        text-align: right;\n    }\n</style>\n<table border=\"1\" class=\"dataframe\">\n  <thead>\n    <tr style=\"text-align: right;\">\n      <th></th>\n      <th>Manufacturer</th>\n      <th>Model</th>\n      <th>Type</th>\n      <th>Min.Price</th>\n      <th>Price</th>\n      <th>...</th>\n      <th>Rear.seat.room</th>\n      <th>Luggage.room</th>\n      <th>Weight</th>\n      <th>Origin</th>\n      <th>Make</th>\n    </tr>\n  </thead>\n  <tbody>\n    <tr>\n      <th>0</th>\n      <td>Acura</td>\n      <td>Integra</td>\n      <td>Small</td>\n      <td>12.9</td>\n      <td>15.9</td>\n      <td>...</td>\n      <td>26.5</td>\n      <td>NaN</td>\n      <td>2705.0</td>\n      <td>non-USA</td>\n      <td>Acura Integra</td>\n    </tr>\n    <tr>\n      <th>1</th>\n      <td>NaN</td>\n      <td>Legend</td>\n      <td>Midsize</td>\n      <td>29.2</td>\n      <td>33.9</td>\n      <td>...</td>\n      <td>30.0</td>\n      <td>15.0</td>\n      <td>3560.0</td>\n      <td>non-USA</td>\n      <td>Acura Legend</td>\n    </tr>\n    <tr>\n      <th>2</th>\n      <td>Audi</td>\n      <td>90</td>\n      <td>Compact</td>\n      <td>25.9</td>\n      <td>29.1</td>\n      <td>...</td>\n      <td>28.0</td>\n      <td>14.0</td>\n      <td>3375.0</td>\n      <td>non-USA</td>\n      <td>Audi 90</td>\n    </tr>\n    <tr>\n      <th>3</th>\n      <td>Audi</td>\n      <td>100</td>\n      <td>Midsize</td>\n      <td>NaN</td>\n      <td>37.7</td>\n      <td>...</td>\n      <td>31.0</td>\n      <td>17.0</td>\n      <td>3405.0</td>\n      <td>non-USA</td>\n      <td>Audi 100</td>\n    </tr>\n    <tr>\n      <th>4</th>\n      <td>BMW</td>\n      <td>535i</td>\n      <td>Midsize</td>\n      <td>NaN</td>\n      <td>30.0</td>\n      <td>...</td>\n      <td>27.0</td>\n      <td>13.0</td>\n      <td>3640.0</td>\n      <td>non-USA</td>\n      <td>BMW 535i</td>\n    </tr>\n    <tr>\n      <th>...</th>\n      <td>...</td>\n      <td>...</td>\n      <td>...</td>\n      <td>...</td>\n      <td>...</td>\n      <td>...</td>\n      <td>...</td>\n      <td>...</td>\n      <td>...</td>\n      <td>...</td>\n      <td>...</td>\n    </tr>\n    <tr>\n      <th>88</th>\n      <td>Volkswagen</td>\n      <td>Eurovan</td>\n      <td>Van</td>\n      <td>16.6</td>\n      <td>19.7</td>\n      <td>...</td>\n      <td>34.0</td>\n      <td>NaN</td>\n      <td>3960.0</td>\n      <td>NaN</td>\n      <td>Volkswagen Eurovan</td>\n    </tr>\n    <tr>\n      <th>89</th>\n      <td>Volkswagen</td>\n      <td>Passat</td>\n      <td>Compact</td>\n      <td>17.6</td>\n      <td>20.0</td>\n      <td>...</td>\n      <td>31.5</td>\n      <td>14.0</td>\n      <td>2985.0</td>\n      <td>non-USA</td>\n      <td>Volkswagen Passat</td>\n    </tr>\n    <tr>\n      <th>90</th>\n      <td>Volkswagen</td>\n      <td>Corrado</td>\n      <td>Sporty</td>\n      <td>22.9</td>\n      <td>23.3</td>\n      <td>...</td>\n      <td>26.0</td>\n      <td>15.0</td>\n      <td>2810.0</td>\n      <td>non-USA</td>\n      <td>Volkswagen Corrado</td>\n    </tr>\n    <tr>\n      <th>91</th>\n      <td>Volvo</td>\n      <td>240</td>\n      <td>Compact</td>\n      <td>21.8</td>\n      <td>22.7</td>\n      <td>...</td>\n      <td>29.5</td>\n      <td>14.0</td>\n      <td>2985.0</td>\n      <td>non-USA</td>\n      <td>Volvo 240</td>\n    </tr>\n    <tr>\n      <th>92</th>\n      <td>NaN</td>\n      <td>850</td>\n      <td>Midsize</td>\n      <td>24.8</td>\n      <td>26.7</td>\n      <td>...</td>\n      <td>30.0</td>\n      <td>15.0</td>\n      <td>3245.0</td>\n      <td>non-USA</td>\n      <td>Volvo 850</td>\n    </tr>\n  </tbody>\n</table>\n<p>93 rows × 27 columns</p>\n</div>"
     },
     "execution_count": 398,
     "metadata": {},
     "output_type": "execute_result"
    }
   ],
   "source": [
    "df = pd.read_csv('https://raw.githubusercontent.com/selva86/datasets/master/Cars93_miss.csv')\n",
    "df"
   ]
  },
  {
   "cell_type": "code",
   "execution_count": 399,
   "outputs": [
    {
     "name": "stderr",
     "output_type": "stream",
     "text": [
      "<ipython-input-399-ff51befff5e3>:2: FutureWarning: The default value of regex will change from True to False in a future version. In addition, single character regular expressions will*not* be treated as literal strings when regex=True.\n",
      "  df.columns = df.columns.str.replace('.', '_')\n"
     ]
    },
    {
     "data": {
      "text/plain": "   Manufacturer    Model     Type  Min_Price  Price  ...  Rear_seat_room  \\\n0         Acura  Integra    Small       12.9   15.9  ...            26.5   \n1           NaN   Legend  Midsize       29.2   33.9  ...            30.0   \n2          Audi       90  Compact       25.9   29.1  ...            28.0   \n3          Audi      100  Midsize        NaN   37.7  ...            31.0   \n4           BMW     535i  Midsize        NaN   30.0  ...            27.0   \n..          ...      ...      ...        ...    ...  ...             ...   \n88   Volkswagen  Eurovan      Van       16.6   19.7  ...            34.0   \n89   Volkswagen   Passat  Compact       17.6   20.0  ...            31.5   \n90   Volkswagen  Corrado   Sporty       22.9   23.3  ...            26.0   \n91        Volvo      240  Compact       21.8   22.7  ...            29.5   \n92          NaN      850  Midsize       24.8   26.7  ...            30.0   \n\n    Luggage_room  Weight   Origin                Make  \n0            NaN  2705.0  non-USA       Acura Integra  \n1           15.0  3560.0  non-USA        Acura Legend  \n2           14.0  3375.0  non-USA             Audi 90  \n3           17.0  3405.0  non-USA            Audi 100  \n4           13.0  3640.0  non-USA            BMW 535i  \n..           ...     ...      ...                 ...  \n88           NaN  3960.0      NaN  Volkswagen Eurovan  \n89          14.0  2985.0  non-USA   Volkswagen Passat  \n90          15.0  2810.0  non-USA  Volkswagen Corrado  \n91          14.0  2985.0  non-USA           Volvo 240  \n92          15.0  3245.0  non-USA           Volvo 850  \n\n[93 rows x 27 columns]",
      "text/html": "<div>\n<style scoped>\n    .dataframe tbody tr th:only-of-type {\n        vertical-align: middle;\n    }\n\n    .dataframe tbody tr th {\n        vertical-align: top;\n    }\n\n    .dataframe thead th {\n        text-align: right;\n    }\n</style>\n<table border=\"1\" class=\"dataframe\">\n  <thead>\n    <tr style=\"text-align: right;\">\n      <th></th>\n      <th>Manufacturer</th>\n      <th>Model</th>\n      <th>Type</th>\n      <th>Min_Price</th>\n      <th>Price</th>\n      <th>...</th>\n      <th>Rear_seat_room</th>\n      <th>Luggage_room</th>\n      <th>Weight</th>\n      <th>Origin</th>\n      <th>Make</th>\n    </tr>\n  </thead>\n  <tbody>\n    <tr>\n      <th>0</th>\n      <td>Acura</td>\n      <td>Integra</td>\n      <td>Small</td>\n      <td>12.9</td>\n      <td>15.9</td>\n      <td>...</td>\n      <td>26.5</td>\n      <td>NaN</td>\n      <td>2705.0</td>\n      <td>non-USA</td>\n      <td>Acura Integra</td>\n    </tr>\n    <tr>\n      <th>1</th>\n      <td>NaN</td>\n      <td>Legend</td>\n      <td>Midsize</td>\n      <td>29.2</td>\n      <td>33.9</td>\n      <td>...</td>\n      <td>30.0</td>\n      <td>15.0</td>\n      <td>3560.0</td>\n      <td>non-USA</td>\n      <td>Acura Legend</td>\n    </tr>\n    <tr>\n      <th>2</th>\n      <td>Audi</td>\n      <td>90</td>\n      <td>Compact</td>\n      <td>25.9</td>\n      <td>29.1</td>\n      <td>...</td>\n      <td>28.0</td>\n      <td>14.0</td>\n      <td>3375.0</td>\n      <td>non-USA</td>\n      <td>Audi 90</td>\n    </tr>\n    <tr>\n      <th>3</th>\n      <td>Audi</td>\n      <td>100</td>\n      <td>Midsize</td>\n      <td>NaN</td>\n      <td>37.7</td>\n      <td>...</td>\n      <td>31.0</td>\n      <td>17.0</td>\n      <td>3405.0</td>\n      <td>non-USA</td>\n      <td>Audi 100</td>\n    </tr>\n    <tr>\n      <th>4</th>\n      <td>BMW</td>\n      <td>535i</td>\n      <td>Midsize</td>\n      <td>NaN</td>\n      <td>30.0</td>\n      <td>...</td>\n      <td>27.0</td>\n      <td>13.0</td>\n      <td>3640.0</td>\n      <td>non-USA</td>\n      <td>BMW 535i</td>\n    </tr>\n    <tr>\n      <th>...</th>\n      <td>...</td>\n      <td>...</td>\n      <td>...</td>\n      <td>...</td>\n      <td>...</td>\n      <td>...</td>\n      <td>...</td>\n      <td>...</td>\n      <td>...</td>\n      <td>...</td>\n      <td>...</td>\n    </tr>\n    <tr>\n      <th>88</th>\n      <td>Volkswagen</td>\n      <td>Eurovan</td>\n      <td>Van</td>\n      <td>16.6</td>\n      <td>19.7</td>\n      <td>...</td>\n      <td>34.0</td>\n      <td>NaN</td>\n      <td>3960.0</td>\n      <td>NaN</td>\n      <td>Volkswagen Eurovan</td>\n    </tr>\n    <tr>\n      <th>89</th>\n      <td>Volkswagen</td>\n      <td>Passat</td>\n      <td>Compact</td>\n      <td>17.6</td>\n      <td>20.0</td>\n      <td>...</td>\n      <td>31.5</td>\n      <td>14.0</td>\n      <td>2985.0</td>\n      <td>non-USA</td>\n      <td>Volkswagen Passat</td>\n    </tr>\n    <tr>\n      <th>90</th>\n      <td>Volkswagen</td>\n      <td>Corrado</td>\n      <td>Sporty</td>\n      <td>22.9</td>\n      <td>23.3</td>\n      <td>...</td>\n      <td>26.0</td>\n      <td>15.0</td>\n      <td>2810.0</td>\n      <td>non-USA</td>\n      <td>Volkswagen Corrado</td>\n    </tr>\n    <tr>\n      <th>91</th>\n      <td>Volvo</td>\n      <td>240</td>\n      <td>Compact</td>\n      <td>21.8</td>\n      <td>22.7</td>\n      <td>...</td>\n      <td>29.5</td>\n      <td>14.0</td>\n      <td>2985.0</td>\n      <td>non-USA</td>\n      <td>Volvo 240</td>\n    </tr>\n    <tr>\n      <th>92</th>\n      <td>NaN</td>\n      <td>850</td>\n      <td>Midsize</td>\n      <td>24.8</td>\n      <td>26.7</td>\n      <td>...</td>\n      <td>30.0</td>\n      <td>15.0</td>\n      <td>3245.0</td>\n      <td>non-USA</td>\n      <td>Volvo 850</td>\n    </tr>\n  </tbody>\n</table>\n<p>93 rows × 27 columns</p>\n</div>"
     },
     "execution_count": 399,
     "metadata": {},
     "output_type": "execute_result"
    }
   ],
   "source": [
    "# Заменяем все точки в названии на '_'\n",
    "df.columns = df.columns.str.replace('.', '_')\n",
    "df"
   ],
   "metadata": {
    "collapsed": false,
    "pycharm": {
     "name": "#%%\n"
    }
   }
  },
  {
   "cell_type": "code",
   "execution_count": 400,
   "outputs": [
    {
     "name": "stdout",
     "output_type": "stream",
     "text": [
      "Index(['Manufacturer', 'Model', 'Type', 'Min_Price', 'Price', 'Max_Price',\n",
      "       'MPG_city', 'MPG_highway', 'AirBags', 'DriveTrain', 'Cylinders',\n",
      "       'EngineSize', 'Horsepower', 'RPM', 'Rev_per_mile', 'Man_trans_avail',\n",
      "       'Fuel_tank_capacity', 'Passengers', 'Length', 'Wheelbase', 'Width',\n",
      "       'Turn_circle', 'Rear_seat_room', 'Luggage_room', 'Weight', 'Origin',\n",
      "       'Make'],\n",
      "      dtype='object')\n"
     ]
    },
    {
     "data": {
      "text/plain": "   Manufacturer    Model     Type             AirBags DriveTrain Cylinders  \\\n0         Acura  Integra    Small                None      Front         4   \n1           NaN   Legend  Midsize  Driver & Passenger      Front         6   \n2          Audi       90  Compact         Driver only      Front         6   \n3          Audi      100  Midsize  Driver & Passenger        NaN         6   \n4           BMW     535i  Midsize                 NaN       Rear         4   \n..          ...      ...      ...                 ...        ...       ...   \n88   Volkswagen  Eurovan      Van                None      Front         5   \n89   Volkswagen   Passat  Compact                None      Front         4   \n90   Volkswagen  Corrado   Sporty                None      Front         6   \n91        Volvo      240  Compact         Driver only       Rear       NaN   \n92          NaN      850  Midsize  Driver & Passenger      Front         5   \n\n   Man_trans_avail   Origin                Make  \n0              Yes  non-USA       Acura Integra  \n1              Yes  non-USA        Acura Legend  \n2              Yes  non-USA             Audi 90  \n3              NaN  non-USA            Audi 100  \n4              Yes  non-USA            BMW 535i  \n..             ...      ...                 ...  \n88             Yes      NaN  Volkswagen Eurovan  \n89             Yes  non-USA   Volkswagen Passat  \n90             Yes  non-USA  Volkswagen Corrado  \n91             Yes  non-USA           Volvo 240  \n92             Yes  non-USA           Volvo 850  \n\n[93 rows x 9 columns]",
      "text/html": "<div>\n<style scoped>\n    .dataframe tbody tr th:only-of-type {\n        vertical-align: middle;\n    }\n\n    .dataframe tbody tr th {\n        vertical-align: top;\n    }\n\n    .dataframe thead th {\n        text-align: right;\n    }\n</style>\n<table border=\"1\" class=\"dataframe\">\n  <thead>\n    <tr style=\"text-align: right;\">\n      <th></th>\n      <th>Manufacturer</th>\n      <th>Model</th>\n      <th>Type</th>\n      <th>AirBags</th>\n      <th>DriveTrain</th>\n      <th>Cylinders</th>\n      <th>Man_trans_avail</th>\n      <th>Origin</th>\n      <th>Make</th>\n    </tr>\n  </thead>\n  <tbody>\n    <tr>\n      <th>0</th>\n      <td>Acura</td>\n      <td>Integra</td>\n      <td>Small</td>\n      <td>None</td>\n      <td>Front</td>\n      <td>4</td>\n      <td>Yes</td>\n      <td>non-USA</td>\n      <td>Acura Integra</td>\n    </tr>\n    <tr>\n      <th>1</th>\n      <td>NaN</td>\n      <td>Legend</td>\n      <td>Midsize</td>\n      <td>Driver &amp; Passenger</td>\n      <td>Front</td>\n      <td>6</td>\n      <td>Yes</td>\n      <td>non-USA</td>\n      <td>Acura Legend</td>\n    </tr>\n    <tr>\n      <th>2</th>\n      <td>Audi</td>\n      <td>90</td>\n      <td>Compact</td>\n      <td>Driver only</td>\n      <td>Front</td>\n      <td>6</td>\n      <td>Yes</td>\n      <td>non-USA</td>\n      <td>Audi 90</td>\n    </tr>\n    <tr>\n      <th>3</th>\n      <td>Audi</td>\n      <td>100</td>\n      <td>Midsize</td>\n      <td>Driver &amp; Passenger</td>\n      <td>NaN</td>\n      <td>6</td>\n      <td>NaN</td>\n      <td>non-USA</td>\n      <td>Audi 100</td>\n    </tr>\n    <tr>\n      <th>4</th>\n      <td>BMW</td>\n      <td>535i</td>\n      <td>Midsize</td>\n      <td>NaN</td>\n      <td>Rear</td>\n      <td>4</td>\n      <td>Yes</td>\n      <td>non-USA</td>\n      <td>BMW 535i</td>\n    </tr>\n    <tr>\n      <th>...</th>\n      <td>...</td>\n      <td>...</td>\n      <td>...</td>\n      <td>...</td>\n      <td>...</td>\n      <td>...</td>\n      <td>...</td>\n      <td>...</td>\n      <td>...</td>\n    </tr>\n    <tr>\n      <th>88</th>\n      <td>Volkswagen</td>\n      <td>Eurovan</td>\n      <td>Van</td>\n      <td>None</td>\n      <td>Front</td>\n      <td>5</td>\n      <td>Yes</td>\n      <td>NaN</td>\n      <td>Volkswagen Eurovan</td>\n    </tr>\n    <tr>\n      <th>89</th>\n      <td>Volkswagen</td>\n      <td>Passat</td>\n      <td>Compact</td>\n      <td>None</td>\n      <td>Front</td>\n      <td>4</td>\n      <td>Yes</td>\n      <td>non-USA</td>\n      <td>Volkswagen Passat</td>\n    </tr>\n    <tr>\n      <th>90</th>\n      <td>Volkswagen</td>\n      <td>Corrado</td>\n      <td>Sporty</td>\n      <td>None</td>\n      <td>Front</td>\n      <td>6</td>\n      <td>Yes</td>\n      <td>non-USA</td>\n      <td>Volkswagen Corrado</td>\n    </tr>\n    <tr>\n      <th>91</th>\n      <td>Volvo</td>\n      <td>240</td>\n      <td>Compact</td>\n      <td>Driver only</td>\n      <td>Rear</td>\n      <td>NaN</td>\n      <td>Yes</td>\n      <td>non-USA</td>\n      <td>Volvo 240</td>\n    </tr>\n    <tr>\n      <th>92</th>\n      <td>NaN</td>\n      <td>850</td>\n      <td>Midsize</td>\n      <td>Driver &amp; Passenger</td>\n      <td>Front</td>\n      <td>5</td>\n      <td>Yes</td>\n      <td>non-USA</td>\n      <td>Volvo 850</td>\n    </tr>\n  </tbody>\n</table>\n<p>93 rows × 9 columns</p>\n</div>"
     },
     "execution_count": 400,
     "metadata": {},
     "output_type": "execute_result"
    }
   ],
   "source": [
    "# Выделить категориальные признаки\n",
    "c = df.dtypes == 'object'\n",
    "print(c.index)\n",
    "categorial = df[c[c].index]\n",
    "categorial"
   ],
   "metadata": {
    "collapsed": false,
    "pycharm": {
     "name": "#%%\n"
    }
   }
  },
  {
   "cell_type": "code",
   "execution_count": 401,
   "outputs": [
    {
     "data": {
      "text/plain": "Manufacturer      31\nModel             92\nType               6\nMin_Price         72\nPrice             80\n                  ..\nRear_seat_room    24\nLuggage_room      16\nWeight            75\nOrigin             2\nMake              90\nLength: 27, dtype: int64"
     },
     "execution_count": 401,
     "metadata": {},
     "output_type": "execute_result"
    }
   ],
   "source": [
    "# Посчитать кол-во уникальных значений во всех текстовых\\категориальных столбцах.\n",
    "df.nunique()"
   ],
   "metadata": {
    "collapsed": false,
    "pycharm": {
     "name": "#%%\n"
    }
   }
  },
  {
   "cell_type": "code",
   "execution_count": 402,
   "outputs": [
    {
     "data": {
      "text/plain": "Manufacturer       True\nType               True\nMin_Price         False\nPrice             False\nMax_Price         False\n                  ...  \nTurn_circle       False\nRear_seat_room    False\nLuggage_room      False\nWeight            False\nOrigin             True\nLength: 25, dtype: bool"
     },
     "execution_count": 402,
     "metadata": {},
     "output_type": "execute_result"
    }
   ],
   "source": [
    "# Колонки с только уникальными значениями удаляем (например Model и Make)\n",
    "# df = df[df.columns[~(df.nunique() == df.count())]]\n",
    "df = df.drop(columns = ['Make','Model'])\n",
    "c = c.drop(['Make','Model'])\n",
    "c"
   ],
   "metadata": {
    "collapsed": false,
    "pycharm": {
     "name": "#%%\n"
    }
   }
  },
  {
   "cell_type": "code",
   "execution_count": 403,
   "outputs": [
    {
     "data": {
      "text/plain": "Min_Price         0.075269\nPrice             0.021505\nMax_Price         0.053763\nMPG_city          0.096774\nMPG_highway       0.021505\n                    ...   \nWidth             0.064516\nTurn_circle       0.053763\nRear_seat_room    0.043011\nLuggage_room      0.204301\nWeight            0.075269\nLength: 18, dtype: float64"
     },
     "execution_count": 403,
     "metadata": {},
     "output_type": "execute_result"
    }
   ],
   "source": [
    "# Числовые столбцы проверяем на пропуски. Подсчитываем кол-во nan\\none и делим на размер датафрейма -сохраняем в отдельный датафрейм, это доля пропусков в каждом столбце\n",
    "numbers = df.select_dtypes(include=['float64'])\n",
    "numbers.isna().apply(lambda x: x.sum() / len(df))"
   ],
   "metadata": {
    "collapsed": false,
    "pycharm": {
     "name": "#%%\n"
    }
   }
  },
  {
   "cell_type": "code",
   "execution_count": 404,
   "outputs": [
    {
     "data": {
      "text/plain": "   Manufacturer     Type  Min_Price  Price  Max_Price  ...  Turn_circle  \\\n0         Acura    Small       12.9   15.9     18.800  ...         37.0   \n1           NaN  Midsize       29.2   33.9     38.385  ...         38.0   \n2          Audi  Compact       25.9   29.1     32.300  ...         37.0   \n3          Audi  Midsize        NaN   36.9     38.385  ...         37.0   \n4           BMW  Midsize        NaN   30.0        NaN  ...         39.0   \n..          ...      ...        ...    ...        ...  ...          ...   \n88   Volkswagen      Van       16.6   19.7     22.700  ...         38.0   \n89   Volkswagen  Compact       17.6   20.0     22.400  ...         35.0   \n90   Volkswagen   Sporty       22.9   23.3     23.700  ...         36.0   \n91        Volvo  Compact       21.8   22.7     23.500  ...         37.0   \n92          NaN  Midsize       24.8   26.7     28.500  ...         38.0   \n\n    Rear_seat_room Luggage_room  Weight   Origin  \n0             26.5          NaN  2705.0  non-USA  \n1             30.0         15.0  3560.0  non-USA  \n2             28.0         14.0  3375.0  non-USA  \n3             31.0         17.0  3405.0  non-USA  \n4             27.0         13.0  3640.0  non-USA  \n..             ...          ...     ...      ...  \n88            32.7          NaN  3960.0      NaN  \n89            31.5         14.0  2985.0  non-USA  \n90            26.0         15.0  2810.0  non-USA  \n91            29.5         14.0  2985.0  non-USA  \n92            30.0         15.0  3245.0  non-USA  \n\n[93 rows x 25 columns]",
      "text/html": "<div>\n<style scoped>\n    .dataframe tbody tr th:only-of-type {\n        vertical-align: middle;\n    }\n\n    .dataframe tbody tr th {\n        vertical-align: top;\n    }\n\n    .dataframe thead th {\n        text-align: right;\n    }\n</style>\n<table border=\"1\" class=\"dataframe\">\n  <thead>\n    <tr style=\"text-align: right;\">\n      <th></th>\n      <th>Manufacturer</th>\n      <th>Type</th>\n      <th>Min_Price</th>\n      <th>Price</th>\n      <th>Max_Price</th>\n      <th>...</th>\n      <th>Turn_circle</th>\n      <th>Rear_seat_room</th>\n      <th>Luggage_room</th>\n      <th>Weight</th>\n      <th>Origin</th>\n    </tr>\n  </thead>\n  <tbody>\n    <tr>\n      <th>0</th>\n      <td>Acura</td>\n      <td>Small</td>\n      <td>12.9</td>\n      <td>15.9</td>\n      <td>18.800</td>\n      <td>...</td>\n      <td>37.0</td>\n      <td>26.5</td>\n      <td>NaN</td>\n      <td>2705.0</td>\n      <td>non-USA</td>\n    </tr>\n    <tr>\n      <th>1</th>\n      <td>NaN</td>\n      <td>Midsize</td>\n      <td>29.2</td>\n      <td>33.9</td>\n      <td>38.385</td>\n      <td>...</td>\n      <td>38.0</td>\n      <td>30.0</td>\n      <td>15.0</td>\n      <td>3560.0</td>\n      <td>non-USA</td>\n    </tr>\n    <tr>\n      <th>2</th>\n      <td>Audi</td>\n      <td>Compact</td>\n      <td>25.9</td>\n      <td>29.1</td>\n      <td>32.300</td>\n      <td>...</td>\n      <td>37.0</td>\n      <td>28.0</td>\n      <td>14.0</td>\n      <td>3375.0</td>\n      <td>non-USA</td>\n    </tr>\n    <tr>\n      <th>3</th>\n      <td>Audi</td>\n      <td>Midsize</td>\n      <td>NaN</td>\n      <td>36.9</td>\n      <td>38.385</td>\n      <td>...</td>\n      <td>37.0</td>\n      <td>31.0</td>\n      <td>17.0</td>\n      <td>3405.0</td>\n      <td>non-USA</td>\n    </tr>\n    <tr>\n      <th>4</th>\n      <td>BMW</td>\n      <td>Midsize</td>\n      <td>NaN</td>\n      <td>30.0</td>\n      <td>NaN</td>\n      <td>...</td>\n      <td>39.0</td>\n      <td>27.0</td>\n      <td>13.0</td>\n      <td>3640.0</td>\n      <td>non-USA</td>\n    </tr>\n    <tr>\n      <th>...</th>\n      <td>...</td>\n      <td>...</td>\n      <td>...</td>\n      <td>...</td>\n      <td>...</td>\n      <td>...</td>\n      <td>...</td>\n      <td>...</td>\n      <td>...</td>\n      <td>...</td>\n      <td>...</td>\n    </tr>\n    <tr>\n      <th>88</th>\n      <td>Volkswagen</td>\n      <td>Van</td>\n      <td>16.6</td>\n      <td>19.7</td>\n      <td>22.700</td>\n      <td>...</td>\n      <td>38.0</td>\n      <td>32.7</td>\n      <td>NaN</td>\n      <td>3960.0</td>\n      <td>NaN</td>\n    </tr>\n    <tr>\n      <th>89</th>\n      <td>Volkswagen</td>\n      <td>Compact</td>\n      <td>17.6</td>\n      <td>20.0</td>\n      <td>22.400</td>\n      <td>...</td>\n      <td>35.0</td>\n      <td>31.5</td>\n      <td>14.0</td>\n      <td>2985.0</td>\n      <td>non-USA</td>\n    </tr>\n    <tr>\n      <th>90</th>\n      <td>Volkswagen</td>\n      <td>Sporty</td>\n      <td>22.9</td>\n      <td>23.3</td>\n      <td>23.700</td>\n      <td>...</td>\n      <td>36.0</td>\n      <td>26.0</td>\n      <td>15.0</td>\n      <td>2810.0</td>\n      <td>non-USA</td>\n    </tr>\n    <tr>\n      <th>91</th>\n      <td>Volvo</td>\n      <td>Compact</td>\n      <td>21.8</td>\n      <td>22.7</td>\n      <td>23.500</td>\n      <td>...</td>\n      <td>37.0</td>\n      <td>29.5</td>\n      <td>14.0</td>\n      <td>2985.0</td>\n      <td>non-USA</td>\n    </tr>\n    <tr>\n      <th>92</th>\n      <td>NaN</td>\n      <td>Midsize</td>\n      <td>24.8</td>\n      <td>26.7</td>\n      <td>28.500</td>\n      <td>...</td>\n      <td>38.0</td>\n      <td>30.0</td>\n      <td>15.0</td>\n      <td>3245.0</td>\n      <td>non-USA</td>\n    </tr>\n  </tbody>\n</table>\n<p>93 rows × 25 columns</p>\n</div>"
     },
     "execution_count": 404,
     "metadata": {},
     "output_type": "execute_result"
    }
   ],
   "source": [
    "#Чистим выбросы. Во всех числовых столбцах заменяем все значения столбца меньше 5го персентиля и больше 95ого персентиля на эти пограничные значения.\n",
    "for x in numbers:\n",
    "  q5, q95 = np.nanquantile(df[x], [0.05, 0.95])\n",
    "  df.loc[(df[x] < q5), x] = q5\n",
    "  df.loc[(df[x] > q95), x] = q95\n",
    "df"
   ],
   "metadata": {
    "collapsed": false,
    "pycharm": {
     "name": "#%%\n"
    }
   }
  },
  {
   "cell_type": "code",
   "execution_count": 405,
   "outputs": [],
   "source": [
    "# Заполняем пропуски в числовых столбцах на среднее по столбцу, в текстовых столбцах на 'other'\n",
    "numbers = numbers.fillna(numbers.mean())\n",
    "categorial = categorial.fillna('other')"
   ],
   "metadata": {
    "collapsed": false,
    "pycharm": {
     "name": "#%%\n"
    }
   }
  },
  {
   "cell_type": "code",
   "execution_count": 406,
   "outputs": [
    {
     "data": {
      "text/plain": "    Manufacturer_Acura  Manufacturer_Audi  Manufacturer_BMW  \\\n0                    1                  0                 0   \n1                    0                  0                 0   \n2                    0                  1                 0   \n3                    0                  1                 0   \n4                    0                  0                 1   \n..                 ...                ...               ...   \n88                   0                  0                 0   \n89                   0                  0                 0   \n90                   0                  0                 0   \n91                   0                  0                 0   \n92                   0                  0                 0   \n\n    Manufacturer_Buick  Manufacturer_Cadillac  ...  Weight_3950.0  \\\n0                    0                      0  ...              0   \n1                    0                      0  ...              0   \n2                    0                      0  ...              0   \n3                    0                      0  ...              0   \n4                    0                      0  ...              0   \n..                 ...                    ...  ...            ...   \n88                   0                      0  ...              0   \n89                   0                      0  ...              0   \n90                   0                      0  ...              0   \n91                   0                      0  ...              0   \n92                   0                      0  ...              0   \n\n    Weight_3960.0  Weight_3990.0  Origin_USA  Origin_non-USA  \n0               0              0           0               1  \n1               0              0           0               1  \n2               0              0           0               1  \n3               0              0           0               1  \n4               0              0           0               1  \n..            ...            ...         ...             ...  \n88              1              0           0               0  \n89              0              0           0               1  \n90              0              0           0               1  \n91              0              0           0               1  \n92              0              0           0               1  \n\n[93 rows x 666 columns]",
      "text/html": "<div>\n<style scoped>\n    .dataframe tbody tr th:only-of-type {\n        vertical-align: middle;\n    }\n\n    .dataframe tbody tr th {\n        vertical-align: top;\n    }\n\n    .dataframe thead th {\n        text-align: right;\n    }\n</style>\n<table border=\"1\" class=\"dataframe\">\n  <thead>\n    <tr style=\"text-align: right;\">\n      <th></th>\n      <th>Manufacturer_Acura</th>\n      <th>Manufacturer_Audi</th>\n      <th>Manufacturer_BMW</th>\n      <th>Manufacturer_Buick</th>\n      <th>Manufacturer_Cadillac</th>\n      <th>...</th>\n      <th>Weight_3950.0</th>\n      <th>Weight_3960.0</th>\n      <th>Weight_3990.0</th>\n      <th>Origin_USA</th>\n      <th>Origin_non-USA</th>\n    </tr>\n  </thead>\n  <tbody>\n    <tr>\n      <th>0</th>\n      <td>1</td>\n      <td>0</td>\n      <td>0</td>\n      <td>0</td>\n      <td>0</td>\n      <td>...</td>\n      <td>0</td>\n      <td>0</td>\n      <td>0</td>\n      <td>0</td>\n      <td>1</td>\n    </tr>\n    <tr>\n      <th>1</th>\n      <td>0</td>\n      <td>0</td>\n      <td>0</td>\n      <td>0</td>\n      <td>0</td>\n      <td>...</td>\n      <td>0</td>\n      <td>0</td>\n      <td>0</td>\n      <td>0</td>\n      <td>1</td>\n    </tr>\n    <tr>\n      <th>2</th>\n      <td>0</td>\n      <td>1</td>\n      <td>0</td>\n      <td>0</td>\n      <td>0</td>\n      <td>...</td>\n      <td>0</td>\n      <td>0</td>\n      <td>0</td>\n      <td>0</td>\n      <td>1</td>\n    </tr>\n    <tr>\n      <th>3</th>\n      <td>0</td>\n      <td>1</td>\n      <td>0</td>\n      <td>0</td>\n      <td>0</td>\n      <td>...</td>\n      <td>0</td>\n      <td>0</td>\n      <td>0</td>\n      <td>0</td>\n      <td>1</td>\n    </tr>\n    <tr>\n      <th>4</th>\n      <td>0</td>\n      <td>0</td>\n      <td>1</td>\n      <td>0</td>\n      <td>0</td>\n      <td>...</td>\n      <td>0</td>\n      <td>0</td>\n      <td>0</td>\n      <td>0</td>\n      <td>1</td>\n    </tr>\n    <tr>\n      <th>...</th>\n      <td>...</td>\n      <td>...</td>\n      <td>...</td>\n      <td>...</td>\n      <td>...</td>\n      <td>...</td>\n      <td>...</td>\n      <td>...</td>\n      <td>...</td>\n      <td>...</td>\n      <td>...</td>\n    </tr>\n    <tr>\n      <th>88</th>\n      <td>0</td>\n      <td>0</td>\n      <td>0</td>\n      <td>0</td>\n      <td>0</td>\n      <td>...</td>\n      <td>0</td>\n      <td>1</td>\n      <td>0</td>\n      <td>0</td>\n      <td>0</td>\n    </tr>\n    <tr>\n      <th>89</th>\n      <td>0</td>\n      <td>0</td>\n      <td>0</td>\n      <td>0</td>\n      <td>0</td>\n      <td>...</td>\n      <td>0</td>\n      <td>0</td>\n      <td>0</td>\n      <td>0</td>\n      <td>1</td>\n    </tr>\n    <tr>\n      <th>90</th>\n      <td>0</td>\n      <td>0</td>\n      <td>0</td>\n      <td>0</td>\n      <td>0</td>\n      <td>...</td>\n      <td>0</td>\n      <td>0</td>\n      <td>0</td>\n      <td>0</td>\n      <td>1</td>\n    </tr>\n    <tr>\n      <th>91</th>\n      <td>0</td>\n      <td>0</td>\n      <td>0</td>\n      <td>0</td>\n      <td>0</td>\n      <td>...</td>\n      <td>0</td>\n      <td>0</td>\n      <td>0</td>\n      <td>0</td>\n      <td>1</td>\n    </tr>\n    <tr>\n      <th>92</th>\n      <td>0</td>\n      <td>0</td>\n      <td>0</td>\n      <td>0</td>\n      <td>0</td>\n      <td>...</td>\n      <td>0</td>\n      <td>0</td>\n      <td>0</td>\n      <td>0</td>\n      <td>1</td>\n    </tr>\n  </tbody>\n</table>\n<p>93 rows × 666 columns</p>\n</div>"
     },
     "execution_count": 406,
     "metadata": {},
     "output_type": "execute_result"
    }
   ],
   "source": [
    "# Все категориальные признаки превращаем в one-hot-encoding\n",
    "pd.get_dummies(df, columns=c.index)"
   ],
   "metadata": {
    "collapsed": false,
    "pycharm": {
     "name": "#%%\n"
    }
   }
  },
  {
   "cell_type": "code",
   "execution_count": 407,
   "outputs": [
    {
     "data": {
      "text/plain": "   Manufacturer     Type  Min_Price  Price  Max_Price  ...  Rear_seat_room  \\\n0         Acura    Small       12.9   15.9     18.800  ...            26.5   \n1           NaN  Midsize       29.2   33.9     38.385  ...            30.0   \n2          Audi  Compact       25.9   29.1     32.300  ...            28.0   \n3          Audi  Midsize        NaN   36.9     38.385  ...            31.0   \n4           BMW  Midsize        NaN   30.0        NaN  ...            27.0   \n..          ...      ...        ...    ...        ...  ...             ...   \n88   Volkswagen      Van       16.6   19.7     22.700  ...            32.7   \n89   Volkswagen  Compact       17.6   20.0     22.400  ...            31.5   \n90   Volkswagen   Sporty       22.9   23.3     23.700  ...            26.0   \n91        Volvo  Compact       21.8   22.7     23.500  ...            29.5   \n92          NaN  Midsize       24.8   26.7     28.500  ...            30.0   \n\n    Luggage_room  Weight   Origin Length_Width  \n0            NaN  2705.0  non-USA      12036.0  \n1           15.0  3560.0  non-USA      13845.0  \n2           14.0  3375.0  non-USA      12060.0  \n3           17.0  3405.0  non-USA          NaN  \n4           13.0  3640.0  non-USA      12834.0  \n..           ...     ...      ...          ...  \n88           NaN  3960.0      NaN      13464.0  \n89          14.0  2985.0  non-USA      12060.0  \n90          15.0  2810.0  non-USA      10652.4  \n91          14.0  2985.0  non-USA      12730.0  \n92          15.0  3245.0  non-USA      12696.0  \n\n[93 rows x 26 columns]",
      "text/html": "<div>\n<style scoped>\n    .dataframe tbody tr th:only-of-type {\n        vertical-align: middle;\n    }\n\n    .dataframe tbody tr th {\n        vertical-align: top;\n    }\n\n    .dataframe thead th {\n        text-align: right;\n    }\n</style>\n<table border=\"1\" class=\"dataframe\">\n  <thead>\n    <tr style=\"text-align: right;\">\n      <th></th>\n      <th>Manufacturer</th>\n      <th>Type</th>\n      <th>Min_Price</th>\n      <th>Price</th>\n      <th>Max_Price</th>\n      <th>...</th>\n      <th>Rear_seat_room</th>\n      <th>Luggage_room</th>\n      <th>Weight</th>\n      <th>Origin</th>\n      <th>Length_Width</th>\n    </tr>\n  </thead>\n  <tbody>\n    <tr>\n      <th>0</th>\n      <td>Acura</td>\n      <td>Small</td>\n      <td>12.9</td>\n      <td>15.9</td>\n      <td>18.800</td>\n      <td>...</td>\n      <td>26.5</td>\n      <td>NaN</td>\n      <td>2705.0</td>\n      <td>non-USA</td>\n      <td>12036.0</td>\n    </tr>\n    <tr>\n      <th>1</th>\n      <td>NaN</td>\n      <td>Midsize</td>\n      <td>29.2</td>\n      <td>33.9</td>\n      <td>38.385</td>\n      <td>...</td>\n      <td>30.0</td>\n      <td>15.0</td>\n      <td>3560.0</td>\n      <td>non-USA</td>\n      <td>13845.0</td>\n    </tr>\n    <tr>\n      <th>2</th>\n      <td>Audi</td>\n      <td>Compact</td>\n      <td>25.9</td>\n      <td>29.1</td>\n      <td>32.300</td>\n      <td>...</td>\n      <td>28.0</td>\n      <td>14.0</td>\n      <td>3375.0</td>\n      <td>non-USA</td>\n      <td>12060.0</td>\n    </tr>\n    <tr>\n      <th>3</th>\n      <td>Audi</td>\n      <td>Midsize</td>\n      <td>NaN</td>\n      <td>36.9</td>\n      <td>38.385</td>\n      <td>...</td>\n      <td>31.0</td>\n      <td>17.0</td>\n      <td>3405.0</td>\n      <td>non-USA</td>\n      <td>NaN</td>\n    </tr>\n    <tr>\n      <th>4</th>\n      <td>BMW</td>\n      <td>Midsize</td>\n      <td>NaN</td>\n      <td>30.0</td>\n      <td>NaN</td>\n      <td>...</td>\n      <td>27.0</td>\n      <td>13.0</td>\n      <td>3640.0</td>\n      <td>non-USA</td>\n      <td>12834.0</td>\n    </tr>\n    <tr>\n      <th>...</th>\n      <td>...</td>\n      <td>...</td>\n      <td>...</td>\n      <td>...</td>\n      <td>...</td>\n      <td>...</td>\n      <td>...</td>\n      <td>...</td>\n      <td>...</td>\n      <td>...</td>\n      <td>...</td>\n    </tr>\n    <tr>\n      <th>88</th>\n      <td>Volkswagen</td>\n      <td>Van</td>\n      <td>16.6</td>\n      <td>19.7</td>\n      <td>22.700</td>\n      <td>...</td>\n      <td>32.7</td>\n      <td>NaN</td>\n      <td>3960.0</td>\n      <td>NaN</td>\n      <td>13464.0</td>\n    </tr>\n    <tr>\n      <th>89</th>\n      <td>Volkswagen</td>\n      <td>Compact</td>\n      <td>17.6</td>\n      <td>20.0</td>\n      <td>22.400</td>\n      <td>...</td>\n      <td>31.5</td>\n      <td>14.0</td>\n      <td>2985.0</td>\n      <td>non-USA</td>\n      <td>12060.0</td>\n    </tr>\n    <tr>\n      <th>90</th>\n      <td>Volkswagen</td>\n      <td>Sporty</td>\n      <td>22.9</td>\n      <td>23.3</td>\n      <td>23.700</td>\n      <td>...</td>\n      <td>26.0</td>\n      <td>15.0</td>\n      <td>2810.0</td>\n      <td>non-USA</td>\n      <td>10652.4</td>\n    </tr>\n    <tr>\n      <th>91</th>\n      <td>Volvo</td>\n      <td>Compact</td>\n      <td>21.8</td>\n      <td>22.7</td>\n      <td>23.500</td>\n      <td>...</td>\n      <td>29.5</td>\n      <td>14.0</td>\n      <td>2985.0</td>\n      <td>non-USA</td>\n      <td>12730.0</td>\n    </tr>\n    <tr>\n      <th>92</th>\n      <td>NaN</td>\n      <td>Midsize</td>\n      <td>24.8</td>\n      <td>26.7</td>\n      <td>28.500</td>\n      <td>...</td>\n      <td>30.0</td>\n      <td>15.0</td>\n      <td>3245.0</td>\n      <td>non-USA</td>\n      <td>12696.0</td>\n    </tr>\n  </tbody>\n</table>\n<p>93 rows × 26 columns</p>\n</div>"
     },
     "execution_count": 407,
     "metadata": {},
     "output_type": "execute_result"
    }
   ],
   "source": [
    "# Создать новый столбец Length_Width = Length * Width\n",
    "df['Length_Width'] = df['Length'] * df['Width']\n",
    "df"
   ],
   "metadata": {
    "collapsed": false,
    "pycharm": {
     "name": "#%%\n"
    }
   }
  },
  {
   "cell_type": "code",
   "execution_count": 408,
   "outputs": [
    {
     "name": "stderr",
     "output_type": "stream",
     "text": [
      "<ipython-input-408-a11cbf74ad27>:4: FutureWarning: The default value of regex will change from True to False in a future version. In addition, single character regular expressions will*not* be treated as literal strings when regex=True.\n",
      "  df.columns = df.columns.str.replace('.', '_')\n"
     ]
    },
    {
     "data": {
      "text/plain": "   Manufacturer    Model     Type  Min_Price  Price  ...  Weight   Origin  \\\n0         Acura  Integra    Small       12.9   15.9  ...  2705.0  non-USA   \n1           NaN   Legend  Midsize       29.2   33.9  ...  3560.0  non-USA   \n2          Audi       90  Compact       25.9   29.1  ...  3375.0  non-USA   \n3          Audi      100  Midsize        NaN   37.7  ...  3405.0  non-USA   \n4           BMW     535i  Midsize        NaN   30.0  ...  3640.0  non-USA   \n..          ...      ...      ...        ...    ...  ...     ...      ...   \n88   Volkswagen  Eurovan      Van       16.6   19.7  ...  3960.0      NaN   \n89   Volkswagen   Passat  Compact       17.6   20.0  ...  2985.0  non-USA   \n90   Volkswagen  Corrado   Sporty       22.9   23.3  ...  2810.0  non-USA   \n91        Volvo      240  Compact       21.8   22.7  ...  2985.0  non-USA   \n92          NaN      850  Midsize       24.8   26.7  ...  3245.0  non-USA   \n\n                  Make   LPG_city  LPG_highway  \n0        Acura Integra   9.409571     7.588364  \n1         Acura Legend  13.068849     9.409571  \n2              Audi 90  11.761964     9.047665  \n3             Audi 100  12.381015     9.047665  \n4             BMW 535i  10.692695     7.841309  \n..                 ...        ...          ...  \n88  Volkswagen Eurovan  13.837605    11.201870  \n89   Volkswagen Passat  11.201870     7.841309  \n90  Volkswagen Corrado  13.068849     9.409571  \n91           Volvo 240  11.201870     8.401403  \n92           Volvo 850  11.761964     8.401403  \n\n[93 rows x 27 columns]",
      "text/html": "<div>\n<style scoped>\n    .dataframe tbody tr th:only-of-type {\n        vertical-align: middle;\n    }\n\n    .dataframe tbody tr th {\n        vertical-align: top;\n    }\n\n    .dataframe thead th {\n        text-align: right;\n    }\n</style>\n<table border=\"1\" class=\"dataframe\">\n  <thead>\n    <tr style=\"text-align: right;\">\n      <th></th>\n      <th>Manufacturer</th>\n      <th>Model</th>\n      <th>Type</th>\n      <th>Min_Price</th>\n      <th>Price</th>\n      <th>...</th>\n      <th>Weight</th>\n      <th>Origin</th>\n      <th>Make</th>\n      <th>LPG_city</th>\n      <th>LPG_highway</th>\n    </tr>\n  </thead>\n  <tbody>\n    <tr>\n      <th>0</th>\n      <td>Acura</td>\n      <td>Integra</td>\n      <td>Small</td>\n      <td>12.9</td>\n      <td>15.9</td>\n      <td>...</td>\n      <td>2705.0</td>\n      <td>non-USA</td>\n      <td>Acura Integra</td>\n      <td>9.409571</td>\n      <td>7.588364</td>\n    </tr>\n    <tr>\n      <th>1</th>\n      <td>NaN</td>\n      <td>Legend</td>\n      <td>Midsize</td>\n      <td>29.2</td>\n      <td>33.9</td>\n      <td>...</td>\n      <td>3560.0</td>\n      <td>non-USA</td>\n      <td>Acura Legend</td>\n      <td>13.068849</td>\n      <td>9.409571</td>\n    </tr>\n    <tr>\n      <th>2</th>\n      <td>Audi</td>\n      <td>90</td>\n      <td>Compact</td>\n      <td>25.9</td>\n      <td>29.1</td>\n      <td>...</td>\n      <td>3375.0</td>\n      <td>non-USA</td>\n      <td>Audi 90</td>\n      <td>11.761964</td>\n      <td>9.047665</td>\n    </tr>\n    <tr>\n      <th>3</th>\n      <td>Audi</td>\n      <td>100</td>\n      <td>Midsize</td>\n      <td>NaN</td>\n      <td>37.7</td>\n      <td>...</td>\n      <td>3405.0</td>\n      <td>non-USA</td>\n      <td>Audi 100</td>\n      <td>12.381015</td>\n      <td>9.047665</td>\n    </tr>\n    <tr>\n      <th>4</th>\n      <td>BMW</td>\n      <td>535i</td>\n      <td>Midsize</td>\n      <td>NaN</td>\n      <td>30.0</td>\n      <td>...</td>\n      <td>3640.0</td>\n      <td>non-USA</td>\n      <td>BMW 535i</td>\n      <td>10.692695</td>\n      <td>7.841309</td>\n    </tr>\n    <tr>\n      <th>...</th>\n      <td>...</td>\n      <td>...</td>\n      <td>...</td>\n      <td>...</td>\n      <td>...</td>\n      <td>...</td>\n      <td>...</td>\n      <td>...</td>\n      <td>...</td>\n      <td>...</td>\n      <td>...</td>\n    </tr>\n    <tr>\n      <th>88</th>\n      <td>Volkswagen</td>\n      <td>Eurovan</td>\n      <td>Van</td>\n      <td>16.6</td>\n      <td>19.7</td>\n      <td>...</td>\n      <td>3960.0</td>\n      <td>NaN</td>\n      <td>Volkswagen Eurovan</td>\n      <td>13.837605</td>\n      <td>11.201870</td>\n    </tr>\n    <tr>\n      <th>89</th>\n      <td>Volkswagen</td>\n      <td>Passat</td>\n      <td>Compact</td>\n      <td>17.6</td>\n      <td>20.0</td>\n      <td>...</td>\n      <td>2985.0</td>\n      <td>non-USA</td>\n      <td>Volkswagen Passat</td>\n      <td>11.201870</td>\n      <td>7.841309</td>\n    </tr>\n    <tr>\n      <th>90</th>\n      <td>Volkswagen</td>\n      <td>Corrado</td>\n      <td>Sporty</td>\n      <td>22.9</td>\n      <td>23.3</td>\n      <td>...</td>\n      <td>2810.0</td>\n      <td>non-USA</td>\n      <td>Volkswagen Corrado</td>\n      <td>13.068849</td>\n      <td>9.409571</td>\n    </tr>\n    <tr>\n      <th>91</th>\n      <td>Volvo</td>\n      <td>240</td>\n      <td>Compact</td>\n      <td>21.8</td>\n      <td>22.7</td>\n      <td>...</td>\n      <td>2985.0</td>\n      <td>non-USA</td>\n      <td>Volvo 240</td>\n      <td>11.201870</td>\n      <td>8.401403</td>\n    </tr>\n    <tr>\n      <th>92</th>\n      <td>NaN</td>\n      <td>850</td>\n      <td>Midsize</td>\n      <td>24.8</td>\n      <td>26.7</td>\n      <td>...</td>\n      <td>3245.0</td>\n      <td>non-USA</td>\n      <td>Volvo 850</td>\n      <td>11.761964</td>\n      <td>8.401403</td>\n    </tr>\n  </tbody>\n</table>\n<p>93 rows × 27 columns</p>\n</div>"
     },
     "execution_count": 408,
     "metadata": {},
     "output_type": "execute_result"
    }
   ],
   "source": [
    "# Столбцы MPG_cityми MPG_highway из MPG перевести в единицы LPG (литры \\100 км) = (100 * 3,785)  / (MPG * 1,609)\n",
    "df = pd.read_csv('https://raw.githubusercontent.com/selva86/datasets/master/Cars93_miss.csv')\n",
    "\n",
    "df.columns = df.columns.str.replace('.', '_')\n",
    "\n",
    "df['LPG_city'] = (100 * 3.785) / (df['MPG_city'] * 1.609)\n",
    "df['LPG_highway'] = (100 * 3.785) / (df['MPG_highway'] * 1.609)\n",
    "\n",
    "df = df.drop(['MPG_city', 'MPG_highway'], 1)\n",
    "df"
   ],
   "metadata": {
    "collapsed": false,
    "pycharm": {
     "name": "#%%\n"
    }
   }
  },
  {
   "cell_type": "code",
   "execution_count": 409,
   "outputs": [
    {
     "data": {
      "text/plain": "                      Min_Price  Price  Max_Price\nType    Manufacturer                             \nCompact Audi              25.90   29.1      32.30\n        Chevrolet          9.95   12.4      14.85\n        Chrysler          14.50   15.8      17.10\n        Dodge             11.90   13.3      14.70\n        Ford              10.40   11.3      12.20\n...                         ...    ...        ...\nVan     Mazda             16.60   19.1      21.70\n        Nissan            16.70   19.1      21.50\n        Oldsmobile        19.50   19.5      19.50\n        Toyota              NaN   22.7      26.60\n        Volkswagen        16.60   19.7      22.70\n\n[75 rows x 3 columns]",
      "text/html": "<div>\n<style scoped>\n    .dataframe tbody tr th:only-of-type {\n        vertical-align: middle;\n    }\n\n    .dataframe tbody tr th {\n        vertical-align: top;\n    }\n\n    .dataframe thead th {\n        text-align: right;\n    }\n</style>\n<table border=\"1\" class=\"dataframe\">\n  <thead>\n    <tr style=\"text-align: right;\">\n      <th></th>\n      <th></th>\n      <th>Min_Price</th>\n      <th>Price</th>\n      <th>Max_Price</th>\n    </tr>\n    <tr>\n      <th>Type</th>\n      <th>Manufacturer</th>\n      <th></th>\n      <th></th>\n      <th></th>\n    </tr>\n  </thead>\n  <tbody>\n    <tr>\n      <th rowspan=\"5\" valign=\"top\">Compact</th>\n      <th>Audi</th>\n      <td>25.90</td>\n      <td>29.1</td>\n      <td>32.30</td>\n    </tr>\n    <tr>\n      <th>Chevrolet</th>\n      <td>9.95</td>\n      <td>12.4</td>\n      <td>14.85</td>\n    </tr>\n    <tr>\n      <th>Chrysler</th>\n      <td>14.50</td>\n      <td>15.8</td>\n      <td>17.10</td>\n    </tr>\n    <tr>\n      <th>Dodge</th>\n      <td>11.90</td>\n      <td>13.3</td>\n      <td>14.70</td>\n    </tr>\n    <tr>\n      <th>Ford</th>\n      <td>10.40</td>\n      <td>11.3</td>\n      <td>12.20</td>\n    </tr>\n    <tr>\n      <th>...</th>\n      <th>...</th>\n      <td>...</td>\n      <td>...</td>\n      <td>...</td>\n    </tr>\n    <tr>\n      <th rowspan=\"5\" valign=\"top\">Van</th>\n      <th>Mazda</th>\n      <td>16.60</td>\n      <td>19.1</td>\n      <td>21.70</td>\n    </tr>\n    <tr>\n      <th>Nissan</th>\n      <td>16.70</td>\n      <td>19.1</td>\n      <td>21.50</td>\n    </tr>\n    <tr>\n      <th>Oldsmobile</th>\n      <td>19.50</td>\n      <td>19.5</td>\n      <td>19.50</td>\n    </tr>\n    <tr>\n      <th>Toyota</th>\n      <td>NaN</td>\n      <td>22.7</td>\n      <td>26.60</td>\n    </tr>\n    <tr>\n      <th>Volkswagen</th>\n      <td>16.60</td>\n      <td>19.7</td>\n      <td>22.70</td>\n    </tr>\n  </tbody>\n</table>\n<p>75 rows × 3 columns</p>\n</div>"
     },
     "execution_count": 409,
     "metadata": {},
     "output_type": "execute_result"
    }
   ],
   "source": [
    "# Посчитать среднюю цену по каждому типу машины у каждого производителя\n",
    "df.groupby(['Type', 'Manufacturer'])[['Min_Price', 'Price', 'Max_Price']].mean()"
   ],
   "metadata": {
    "collapsed": false,
    "pycharm": {
     "name": "#%%\n"
    }
   }
  },
  {
   "cell_type": "code",
   "execution_count": 410,
   "outputs": [
    {
     "name": "stderr",
     "output_type": "stream",
     "text": [
      "<ipython-input-410-0f86b9a42aff>:2: FutureWarning: Indexing with multiple keys (implicitly converted to a tuple of keys) will be deprecated, use a list instead.\n",
      "  df.groupby(['Type'])['Length','Width'].max()\n"
     ]
    },
    {
     "data": {
      "text/plain": "         Length  Width\nType                  \nCompact   190.0   69.0\nLarge     219.0   78.0\nMidsize   205.0   74.0\nSmall     177.0   68.0\nSporty    193.0   74.0\nVan       194.0   78.0",
      "text/html": "<div>\n<style scoped>\n    .dataframe tbody tr th:only-of-type {\n        vertical-align: middle;\n    }\n\n    .dataframe tbody tr th {\n        vertical-align: top;\n    }\n\n    .dataframe thead th {\n        text-align: right;\n    }\n</style>\n<table border=\"1\" class=\"dataframe\">\n  <thead>\n    <tr style=\"text-align: right;\">\n      <th></th>\n      <th>Length</th>\n      <th>Width</th>\n    </tr>\n    <tr>\n      <th>Type</th>\n      <th></th>\n      <th></th>\n    </tr>\n  </thead>\n  <tbody>\n    <tr>\n      <th>Compact</th>\n      <td>190.0</td>\n      <td>69.0</td>\n    </tr>\n    <tr>\n      <th>Large</th>\n      <td>219.0</td>\n      <td>78.0</td>\n    </tr>\n    <tr>\n      <th>Midsize</th>\n      <td>205.0</td>\n      <td>74.0</td>\n    </tr>\n    <tr>\n      <th>Small</th>\n      <td>177.0</td>\n      <td>68.0</td>\n    </tr>\n    <tr>\n      <th>Sporty</th>\n      <td>193.0</td>\n      <td>74.0</td>\n    </tr>\n    <tr>\n      <th>Van</th>\n      <td>194.0</td>\n      <td>78.0</td>\n    </tr>\n  </tbody>\n</table>\n</div>"
     },
     "execution_count": 410,
     "metadata": {},
     "output_type": "execute_result"
    }
   ],
   "source": [
    "# Посчитать максимальные Length и Width по Type\n",
    "df.groupby(['Type'])['Length','Width'].max()"
   ],
   "metadata": {
    "collapsed": false,
    "pycharm": {
     "name": "#%%\n"
    }
   }
  },
  {
   "cell_type": "code",
   "execution_count": 411,
   "outputs": [
    {
     "data": {
      "text/plain": "Type     AirBags           \nCompact  Driver & Passenger    2\n         Driver only           8\n         None                  4\nLarge    Driver & Passenger    3\n         Driver only           7\n                              ..\nSporty   Driver & Passenger    2\n         Driver only           7\n         None                  2\nVan      Driver only           3\n         None                  6\nName: Manufacturer, Length: 15, dtype: int64"
     },
     "execution_count": 411,
     "metadata": {},
     "output_type": "execute_result"
    }
   ],
   "source": [
    "# Посчитать кол-во моделей машин по типу машины и наличию подушки безопасности (агрегирование по столбцам Type и AirBags)\n",
    "df.groupby(['Type','AirBags']).Manufacturer.count()"
   ],
   "metadata": {
    "collapsed": false,
    "pycharm": {
     "name": "#%%\n"
    }
   }
  },
  {
   "cell_type": "code",
   "execution_count": 412,
   "outputs": [
    {
     "data": {
      "text/plain": "Type     Manufacturer\nCompact  Audi            1\n         Chevrolet       2\n         Chrysler        1\n         Dodge           1\n         Ford            1\n                        ..\nVan      Mazda           1\n         Nissan          1\n         Oldsmobile      1\n         Toyota          1\n         Volkswagen      1\nName: Model, Length: 75, dtype: int64"
     },
     "execution_count": 412,
     "metadata": {},
     "output_type": "execute_result"
    }
   ],
   "source": [
    "# Посчитать кол-во машин по каждому типу машины у каждого производителя(агрегирование по столбцам Type и Manufacturer)\n",
    "df.groupby(['Type','Manufacturer']).Model.count()"
   ],
   "metadata": {
    "collapsed": false,
    "pycharm": {
     "name": "#%%\n"
    }
   }
  },
  {
   "cell_type": "code",
   "execution_count": 413,
   "outputs": [
    {
     "data": {
      "text/plain": "Man_trans_avail  Manufacturer\nNo               Buick           4\n                 Cadillac        2\n                 Chevrolet       4\n                 Chrysler        2\n                 Dodge           2\n                                ..\nYes              Subaru          3\n                 Suzuki          1\n                 Toyota          3\n                 Volkswagen      4\n                 Volvo           1\nName: Model, Length: 41, dtype: int64"
     },
     "execution_count": 413,
     "metadata": {},
     "output_type": "execute_result"
    }
   ],
   "source": [
    "# Посчитать кол-во машин по Manufacturer-Man_trans_avail\n",
    "df.groupby(['Man_trans_avail', 'Manufacturer']).Model.count()"
   ],
   "metadata": {
    "collapsed": false,
    "pycharm": {
     "name": "#%%\n"
    }
   }
  },
  {
   "cell_type": "code",
   "execution_count": 414,
   "outputs": [
    {
     "data": {
      "text/plain": "('Chevrolet', 'Astro')"
     },
     "execution_count": 414,
     "metadata": {},
     "output_type": "execute_result"
    }
   ],
   "source": [
    "# Вывести у какой модели, какого изготовителя максимальная вместимость по пассажирам\n",
    "df = pd.read_csv('https://raw.githubusercontent.com/selva86/datasets/master/Cars93_miss.csv')\n",
    "df.groupby(['Manufacturer','Model']).Passengers.max().sort_values(ascending=False).index[0]"
   ],
   "metadata": {
    "collapsed": false,
    "pycharm": {
     "name": "#%%\n"
    }
   }
  },
  {
   "cell_type": "markdown",
   "metadata": {},
   "source": [
    "**47\\.** Перевести индексы первого и третьего уровня в колонки"
   ]
  },
  {
   "cell_type": "code",
   "execution_count": 415,
   "metadata": {},
   "outputs": [
    {
     "data": {
      "text/plain": "                                  name date_of_birth  weight\nt_id school_code class                                      \nt1   s001        V      Alberto Franco    15/05/2002      35\nt2   s002        V        Gino Mcneill    17/05/2002      32\nt3   s003        VI        Ryan Parkes    16/02/1999      33\nt4   s001        VI       Eesha Hinton    25/09/1998      30\nt5   s002        V        Gino Mcneill    11/05/2002      31\nt6   s004        VI       David Parkes    15/09/1997      32",
      "text/html": "<div>\n<style scoped>\n    .dataframe tbody tr th:only-of-type {\n        vertical-align: middle;\n    }\n\n    .dataframe tbody tr th {\n        vertical-align: top;\n    }\n\n    .dataframe thead th {\n        text-align: right;\n    }\n</style>\n<table border=\"1\" class=\"dataframe\">\n  <thead>\n    <tr style=\"text-align: right;\">\n      <th></th>\n      <th></th>\n      <th></th>\n      <th>name</th>\n      <th>date_of_birth</th>\n      <th>weight</th>\n    </tr>\n    <tr>\n      <th>t_id</th>\n      <th>school_code</th>\n      <th>class</th>\n      <th></th>\n      <th></th>\n      <th></th>\n    </tr>\n  </thead>\n  <tbody>\n    <tr>\n      <th>t1</th>\n      <th>s001</th>\n      <th>V</th>\n      <td>Alberto Franco</td>\n      <td>15/05/2002</td>\n      <td>35</td>\n    </tr>\n    <tr>\n      <th>t2</th>\n      <th>s002</th>\n      <th>V</th>\n      <td>Gino Mcneill</td>\n      <td>17/05/2002</td>\n      <td>32</td>\n    </tr>\n    <tr>\n      <th>t3</th>\n      <th>s003</th>\n      <th>VI</th>\n      <td>Ryan Parkes</td>\n      <td>16/02/1999</td>\n      <td>33</td>\n    </tr>\n    <tr>\n      <th>t4</th>\n      <th>s001</th>\n      <th>VI</th>\n      <td>Eesha Hinton</td>\n      <td>25/09/1998</td>\n      <td>30</td>\n    </tr>\n    <tr>\n      <th>t5</th>\n      <th>s002</th>\n      <th>V</th>\n      <td>Gino Mcneill</td>\n      <td>11/05/2002</td>\n      <td>31</td>\n    </tr>\n    <tr>\n      <th>t6</th>\n      <th>s004</th>\n      <th>VI</th>\n      <td>David Parkes</td>\n      <td>15/09/1997</td>\n      <td>32</td>\n    </tr>\n  </tbody>\n</table>\n</div>"
     },
     "execution_count": 415,
     "metadata": {},
     "output_type": "execute_result"
    }
   ],
   "source": [
    "df = pd.DataFrame({\n",
    "    'school_code': ['s001','s002','s003','s001','s002','s004'],\n",
    "    'class': ['V', 'V', 'VI', 'VI', 'V', 'VI'],\n",
    "    'name': ['Alberto Franco','Gino Mcneill','Ryan Parkes', 'Eesha Hinton', 'Gino Mcneill', 'David Parkes'],\n",
    "    'date_of_birth': ['15/05/2002','17/05/2002','16/02/1999','25/09/1998','11/05/2002','15/09/1997'],\n",
    "    'weight': [35, 32, 33, 30, 31, 32],\n",
    "    't_id': ['t1', 't2', 't3', 't4', 't5', 't6']})\n",
    "df1 = df.set_index(['t_id', 'school_code', 'class'])\n",
    "df1"
   ]
  },
  {
   "cell_type": "code",
   "execution_count": 416,
   "outputs": [
    {
     "data": {
      "text/plain": "            t_id class            name date_of_birth  weight\nschool_code                                                 \ns001          t1     V  Alberto Franco    15/05/2002      35\ns002          t2     V    Gino Mcneill    17/05/2002      32\ns003          t3    VI     Ryan Parkes    16/02/1999      33\ns001          t4    VI    Eesha Hinton    25/09/1998      30\ns002          t5     V    Gino Mcneill    11/05/2002      31\ns004          t6    VI    David Parkes    15/09/1997      32",
      "text/html": "<div>\n<style scoped>\n    .dataframe tbody tr th:only-of-type {\n        vertical-align: middle;\n    }\n\n    .dataframe tbody tr th {\n        vertical-align: top;\n    }\n\n    .dataframe thead th {\n        text-align: right;\n    }\n</style>\n<table border=\"1\" class=\"dataframe\">\n  <thead>\n    <tr style=\"text-align: right;\">\n      <th></th>\n      <th>t_id</th>\n      <th>class</th>\n      <th>name</th>\n      <th>date_of_birth</th>\n      <th>weight</th>\n    </tr>\n    <tr>\n      <th>school_code</th>\n      <th></th>\n      <th></th>\n      <th></th>\n      <th></th>\n      <th></th>\n    </tr>\n  </thead>\n  <tbody>\n    <tr>\n      <th>s001</th>\n      <td>t1</td>\n      <td>V</td>\n      <td>Alberto Franco</td>\n      <td>15/05/2002</td>\n      <td>35</td>\n    </tr>\n    <tr>\n      <th>s002</th>\n      <td>t2</td>\n      <td>V</td>\n      <td>Gino Mcneill</td>\n      <td>17/05/2002</td>\n      <td>32</td>\n    </tr>\n    <tr>\n      <th>s003</th>\n      <td>t3</td>\n      <td>VI</td>\n      <td>Ryan Parkes</td>\n      <td>16/02/1999</td>\n      <td>33</td>\n    </tr>\n    <tr>\n      <th>s001</th>\n      <td>t4</td>\n      <td>VI</td>\n      <td>Eesha Hinton</td>\n      <td>25/09/1998</td>\n      <td>30</td>\n    </tr>\n    <tr>\n      <th>s002</th>\n      <td>t5</td>\n      <td>V</td>\n      <td>Gino Mcneill</td>\n      <td>11/05/2002</td>\n      <td>31</td>\n    </tr>\n    <tr>\n      <th>s004</th>\n      <td>t6</td>\n      <td>VI</td>\n      <td>David Parkes</td>\n      <td>15/09/1997</td>\n      <td>32</td>\n    </tr>\n  </tbody>\n</table>\n</div>"
     },
     "execution_count": 416,
     "metadata": {},
     "output_type": "execute_result"
    }
   ],
   "source": [
    "df1.reset_index(level=[0, 2])"
   ],
   "metadata": {
    "collapsed": false,
    "pycharm": {
     "name": "#%%\n"
    }
   }
  },
  {
   "cell_type": "markdown",
   "metadata": {},
   "source": [
    "**48\\.** Вывести строку из Series и DataFrame по заданному индексу"
   ]
  },
  {
   "cell_type": "code",
   "execution_count": 417,
   "metadata": {
    "collapsed": true
   },
   "outputs": [
    {
     "name": "stdout",
     "output_type": "stream",
     "text": [
      "9\n",
      "school_code              s002\n",
      "class                       V\n",
      "name             Gino Mcneill\n",
      "date_of_birth      11/05/2002\n",
      "weight                     31\n",
      "Name: 4, dtype: object\n"
     ]
    }
   ],
   "source": [
    "ds = pd.Series([1,3,5,7,9,11,13,15], index=[0,1,2,3,4,5,7,8])\n",
    "df = pd.DataFrame({\n",
    "    'school_code': ['s001','s002','s003','s001','s002','s004'],\n",
    "    'class': ['V', 'V', 'VI', 'VI', 'V', 'VI'],\n",
    "    'name': ['Alberto Franco','Gino Mcneill','Ryan Parkes', 'Eesha Hinton', 'Gino Mcneill', 'David Parkes'],\n",
    "    'date_of_birth': ['15/05/2002','17/05/2002','16/02/1999','25/09/1998','11/05/2002','15/09/1997'],\n",
    "    'weight': [35, 32, 33, 30, 31, 32]})\n",
    "\n",
    "indx = 4\n",
    "\n",
    "print(ds[indx])\n",
    "print(df.iloc[indx])"
   ]
  },
  {
   "cell_type": "markdown",
   "metadata": {},
   "source": [
    "**49\\.** Найти индексы строк с пропущенными данными"
   ]
  },
  {
   "cell_type": "code",
   "execution_count": 418,
   "metadata": {},
   "outputs": [
    {
     "data": {
      "text/plain": "   school_code class            name date_of_birth  weight\nt1        s001     V  Alberto Franco    15/05/2002    35.0\nt2        s002     V    Gino Mcneill    17/05/2002     NaN\nt3        s003    VI     Ryan Parkes    16/02/1999    33.0\nt4        s001    VI    Eesha Hinton    25/09/1998    30.0\nt5        s002     V    Gino Mcneill    11/05/2002    31.0\nt6        s004    VI    David Parkes    15/09/1997     NaN",
      "text/html": "<div>\n<style scoped>\n    .dataframe tbody tr th:only-of-type {\n        vertical-align: middle;\n    }\n\n    .dataframe tbody tr th {\n        vertical-align: top;\n    }\n\n    .dataframe thead th {\n        text-align: right;\n    }\n</style>\n<table border=\"1\" class=\"dataframe\">\n  <thead>\n    <tr style=\"text-align: right;\">\n      <th></th>\n      <th>school_code</th>\n      <th>class</th>\n      <th>name</th>\n      <th>date_of_birth</th>\n      <th>weight</th>\n    </tr>\n  </thead>\n  <tbody>\n    <tr>\n      <th>t1</th>\n      <td>s001</td>\n      <td>V</td>\n      <td>Alberto Franco</td>\n      <td>15/05/2002</td>\n      <td>35.0</td>\n    </tr>\n    <tr>\n      <th>t2</th>\n      <td>s002</td>\n      <td>V</td>\n      <td>Gino Mcneill</td>\n      <td>17/05/2002</td>\n      <td>NaN</td>\n    </tr>\n    <tr>\n      <th>t3</th>\n      <td>s003</td>\n      <td>VI</td>\n      <td>Ryan Parkes</td>\n      <td>16/02/1999</td>\n      <td>33.0</td>\n    </tr>\n    <tr>\n      <th>t4</th>\n      <td>s001</td>\n      <td>VI</td>\n      <td>Eesha Hinton</td>\n      <td>25/09/1998</td>\n      <td>30.0</td>\n    </tr>\n    <tr>\n      <th>t5</th>\n      <td>s002</td>\n      <td>V</td>\n      <td>Gino Mcneill</td>\n      <td>11/05/2002</td>\n      <td>31.0</td>\n    </tr>\n    <tr>\n      <th>t6</th>\n      <td>s004</td>\n      <td>VI</td>\n      <td>David Parkes</td>\n      <td>15/09/1997</td>\n      <td>NaN</td>\n    </tr>\n  </tbody>\n</table>\n</div>"
     },
     "execution_count": 418,
     "metadata": {},
     "output_type": "execute_result"
    }
   ],
   "source": [
    "df = pd.DataFrame({\n",
    "    'school_code': ['s001','s002','s003','s001','s002','s004'],\n",
    "    'class': ['V', 'V', 'VI', 'VI', 'V', 'VI'],\n",
    "    'name': ['Alberto Franco','Gino Mcneill','Ryan Parkes', 'Eesha Hinton', 'Gino Mcneill', 'David Parkes'],\n",
    "    'date_of_birth': ['15/05/2002','17/05/2002','16/02/1999','25/09/1998','11/05/2002','15/09/1997'],\n",
    "    'weight': [35, None, 33, 30, 31, None]},\n",
    "     index = ['t1', 't2', 't3', 't4', 't5', 't6'])\n",
    "df"
   ]
  },
  {
   "cell_type": "code",
   "execution_count": 419,
   "outputs": [
    {
     "data": {
      "text/plain": "Index(['t2', 't6'], dtype='object')"
     },
     "execution_count": 419,
     "metadata": {},
     "output_type": "execute_result"
    }
   ],
   "source": [
    "df[df.isna().any(1)].index"
   ],
   "metadata": {
    "collapsed": false,
    "pycharm": {
     "name": "#%%\n"
    }
   }
  },
  {
   "cell_type": "markdown",
   "metadata": {},
   "source": [
    "**50\\.** Сделать left join датафреймов"
   ]
  },
  {
   "cell_type": "code",
   "execution_count": 420,
   "metadata": {
    "collapsed": true
   },
   "outputs": [
    {
     "data": {
      "text/plain": "  key1_xXx_.'|'._data2_.'|'._xXx_ key2_xXx_.'|'._data2_.'|'._xXx_   P   Q  \\\n0                              K0                              K0  P0  Q0   \n1                              K0                              K1  P1  Q1   \n2                              K1                              K0  P2  Q2   \n3                              K2                              K1  P3  Q3   \n\n  key1 key2   R   S  \n0   K0   K0  R0  S0  \n1   K1   K0  R1  S1  \n2   K1   K0  R2  S2  \n3   K2   K0  R3  S3  ",
      "text/html": "<div>\n<style scoped>\n    .dataframe tbody tr th:only-of-type {\n        vertical-align: middle;\n    }\n\n    .dataframe tbody tr th {\n        vertical-align: top;\n    }\n\n    .dataframe thead th {\n        text-align: right;\n    }\n</style>\n<table border=\"1\" class=\"dataframe\">\n  <thead>\n    <tr style=\"text-align: right;\">\n      <th></th>\n      <th>key1_xXx_.'|'._data2_.'|'._xXx_</th>\n      <th>key2_xXx_.'|'._data2_.'|'._xXx_</th>\n      <th>P</th>\n      <th>Q</th>\n      <th>key1</th>\n      <th>key2</th>\n      <th>R</th>\n      <th>S</th>\n    </tr>\n  </thead>\n  <tbody>\n    <tr>\n      <th>0</th>\n      <td>K0</td>\n      <td>K0</td>\n      <td>P0</td>\n      <td>Q0</td>\n      <td>K0</td>\n      <td>K0</td>\n      <td>R0</td>\n      <td>S0</td>\n    </tr>\n    <tr>\n      <th>1</th>\n      <td>K0</td>\n      <td>K1</td>\n      <td>P1</td>\n      <td>Q1</td>\n      <td>K1</td>\n      <td>K0</td>\n      <td>R1</td>\n      <td>S1</td>\n    </tr>\n    <tr>\n      <th>2</th>\n      <td>K1</td>\n      <td>K0</td>\n      <td>P2</td>\n      <td>Q2</td>\n      <td>K1</td>\n      <td>K0</td>\n      <td>R2</td>\n      <td>S2</td>\n    </tr>\n    <tr>\n      <th>3</th>\n      <td>K2</td>\n      <td>K1</td>\n      <td>P3</td>\n      <td>Q3</td>\n      <td>K2</td>\n      <td>K0</td>\n      <td>R3</td>\n      <td>S3</td>\n    </tr>\n  </tbody>\n</table>\n</div>"
     },
     "execution_count": 420,
     "metadata": {},
     "output_type": "execute_result"
    }
   ],
   "source": [
    "data1 = pd.DataFrame({'key1': ['K0', 'K0', 'K1', 'K2'],\n",
    "                     'key2': ['K0', 'K1', 'K0', 'K1'],\n",
    "                     'P': ['P0', 'P1', 'P2', 'P3'],\n",
    "                     'Q': ['Q0', 'Q1', 'Q2', 'Q3']}) \n",
    "data2 = pd.DataFrame({'key1': ['K0', 'K1', 'K1', 'K2'],\n",
    "                      'key2': ['K0', 'K0', 'K0', 'K0'],\n",
    "                      'R': ['R0', 'R1', 'R2', 'R3'],\n",
    "                      'S': ['S0', 'S1', 'S2', 'S3']})\n",
    "\n",
    "data1.join(data2, how='left', lsuffix=\"_xXx_.'|'._data2_.'|'._xXx_\")"
   ]
  },
  {
   "cell_type": "markdown",
   "metadata": {},
   "source": [
    "**51\\.** Соединить два датафрейма"
   ]
  },
  {
   "cell_type": "code",
   "execution_count": 421,
   "metadata": {
    "collapsed": true
   },
   "outputs": [
    {
     "data": {
      "text/plain": "      A    B    C    D\nK0   A0   B0   C0   D0\nK1   A1   B1  NaN  NaN\nK2   A2   B2   C2   D2\nK3  NaN  NaN   C3   D3",
      "text/html": "<div>\n<style scoped>\n    .dataframe tbody tr th:only-of-type {\n        vertical-align: middle;\n    }\n\n    .dataframe tbody tr th {\n        vertical-align: top;\n    }\n\n    .dataframe thead th {\n        text-align: right;\n    }\n</style>\n<table border=\"1\" class=\"dataframe\">\n  <thead>\n    <tr style=\"text-align: right;\">\n      <th></th>\n      <th>A</th>\n      <th>B</th>\n      <th>C</th>\n      <th>D</th>\n    </tr>\n  </thead>\n  <tbody>\n    <tr>\n      <th>K0</th>\n      <td>A0</td>\n      <td>B0</td>\n      <td>C0</td>\n      <td>D0</td>\n    </tr>\n    <tr>\n      <th>K1</th>\n      <td>A1</td>\n      <td>B1</td>\n      <td>NaN</td>\n      <td>NaN</td>\n    </tr>\n    <tr>\n      <th>K2</th>\n      <td>A2</td>\n      <td>B2</td>\n      <td>C2</td>\n      <td>D2</td>\n    </tr>\n    <tr>\n      <th>K3</th>\n      <td>NaN</td>\n      <td>NaN</td>\n      <td>C3</td>\n      <td>D3</td>\n    </tr>\n  </tbody>\n</table>\n</div>"
     },
     "execution_count": 421,
     "metadata": {},
     "output_type": "execute_result"
    }
   ],
   "source": [
    "data1 = pd.DataFrame({'A': ['A0', 'A1', 'A2'],\n",
    "                      'B': ['B0', 'B1', 'B2']},\n",
    "                     index=['K0', 'K1', 'K2'])\n",
    "\n",
    "data2 = pd.DataFrame({'C': ['C0', 'C2', 'C3'],\n",
    "                      'D': ['D0', 'D2', 'D3']},\n",
    "                     index=['K0', 'K2', 'K3'])\n",
    "\n",
    "pd.concat((data1, data2), 1)"
   ]
  },
  {
   "cell_type": "markdown",
   "metadata": {},
   "source": [
    "**52\\.** Сгруппировать датафрейм по полям 'customer_id' и 'salesman_id' и отсортировать по sum of purch_amt внутри каждой группы"
   ]
  },
  {
   "cell_type": "code",
   "execution_count": 422,
   "metadata": {
    "collapsed": true
   },
   "outputs": [
    {
     "data": {
      "text/plain": "customer_id  salesman_id\n3005         5007             75.29\n3001         5003            110.50\n             5005            270.65\n             5002            400.95\n3005         5002            948.50\n3001         5006           1983.43\n             5001           2400.60\n3005         5003           2480.40\n             5001           8870.86\nName: purch_amt, dtype: float64"
     },
     "execution_count": 422,
     "metadata": {},
     "output_type": "execute_result"
    }
   ],
   "source": [
    "df = pd.DataFrame({\n",
    "'ord_no':[70001,70009,70002,70004,70007,70005,70008,70010,70003,70012,70011,70013],\n",
    "'purch_amt':[150.5,270.65,65.26,110.5,948.5,2400.6,5760,1983.43,2480.4,250.45, 75.29,3045.6],\n",
    "'ord_date': ['2012-10-05','2012-09-10','2012-10-05','2012-08-17','2012-09-10','2012-07-27','2012-09-10','2012-10-10','2012-10-10','2012-06-27','2012-08-17','2012-04-25'],\n",
    "'customer_id':[3001,3001,3005,3001,3005,3001,3005,3001,3005,3001,3005,3005],\n",
    "'salesman_id': [5002,5005,5001,5003,5002,5001,5001,5006,5003,5002,5007,5001]})\n",
    "\n",
    "df.groupby(['customer_id', 'salesman_id']).purch_amt.sum().sort_values()"
   ]
  },
  {
   "cell_type": "markdown",
   "metadata": {},
   "source": [
    "**53\\.** Сгруппировать датафрейм по месяцу и году из даты ord_date и найти общее количество заказов по годам и по месяцам"
   ]
  },
  {
   "cell_type": "code",
   "execution_count": 423,
   "metadata": {
    "collapsed": true
   },
   "outputs": [
    {
     "data": {
      "text/plain": "month  year\n4      2012    1\n5      2012    1\n       2013    1\n6      2014    1\n7      2012    1\n       2014    1\n8      2013    1\n9      2012    1\n10     2012    3\n       2013    1\nName: ord_no, dtype: int64"
     },
     "execution_count": 423,
     "metadata": {},
     "output_type": "execute_result"
    }
   ],
   "source": [
    "df = pd.DataFrame({\n",
    "'ord_no':[70001,70009,70002,70004,70007,70005,70008,70010,70003,70012,70011,70013],\n",
    "'purch_amt':[150.5,270.65,65.26,110.5,948.5,2400.6,5760,1983.43,2480.4,250.45, 75.29,3045.6],\n",
    "'ord_date': ['05-10-2012','09-10-2012','05-10-2013','08-17-2013','10-09-2013','07-27-2014','10-09-2012','10-10-2012','10-10-2012','06-17-2014','07-08-2012','04-25-2012'],\n",
    "'customer_id':[3001,3001,3005,3001,3005,3001,3005,3001,3005,3001,3005,3005],\n",
    "'salesman_id': [5002,5005,5001,5003,5002,5001,5001,5006,5003,5002,5007,5001]})\n",
    "\n",
    "df['year'] = pd.to_datetime(df.ord_date).dt.year\n",
    "df['month'] = pd.to_datetime(df.ord_date).dt.month\n",
    "df.groupby(['month', 'year']).ord_no.count()"
   ]
  },
  {
   "cell_type": "markdown",
   "metadata": {},
   "source": [
    "# Regular expressions with Pandas"
   ]
  },
  {
   "cell_type": "markdown",
   "metadata": {},
   "source": [
    "**1\\.** Выделить в отдельную колонку event_id первую цифру в кавычках, во вторую колонку event_probability вероятность (★☆☆) "
   ]
  },
  {
   "cell_type": "code",
   "execution_count": 424,
   "metadata": {
    "collapsed": true
   },
   "outputs": [],
   "source": [
    "import re"
   ]
  },
  {
   "cell_type": "code",
   "execution_count": 425,
   "outputs": [
    {
     "data": {
      "text/plain": "                         col1 event_id    event_probability\n0  {'34': 0.9839372122311848}        3   0.9839372122311848\n1  {'77': 0.6724645988404411}        7   0.6724645988404411\n2  {'77': 0.6491011266207006}        7   0.6491011266207006\n3  {'77': 0.6123085784265466}        7   0.6123085784265466\n4                {'34': 0.87}        3                 0.87\n5  {'77': 0.6225699652019304}        7   0.6225699652019304\n6   {'3': 0.5470808226524633}        3   0.5470808226524633\n7  {'77': 0.6233849004135044}        7   0.6233849004135044\n8  {'77': 0.7050888998743866}        7   0.7050888998743866\n9  {'52': 0.8945052223205372}        5   0.8945052223205372",
      "text/html": "<div>\n<style scoped>\n    .dataframe tbody tr th:only-of-type {\n        vertical-align: middle;\n    }\n\n    .dataframe tbody tr th {\n        vertical-align: top;\n    }\n\n    .dataframe thead th {\n        text-align: right;\n    }\n</style>\n<table border=\"1\" class=\"dataframe\">\n  <thead>\n    <tr style=\"text-align: right;\">\n      <th></th>\n      <th>col1</th>\n      <th>event_id</th>\n      <th>event_probability</th>\n    </tr>\n  </thead>\n  <tbody>\n    <tr>\n      <th>0</th>\n      <td>{'34': 0.9839372122311848}</td>\n      <td>3</td>\n      <td>0.9839372122311848</td>\n    </tr>\n    <tr>\n      <th>1</th>\n      <td>{'77': 0.6724645988404411}</td>\n      <td>7</td>\n      <td>0.6724645988404411</td>\n    </tr>\n    <tr>\n      <th>2</th>\n      <td>{'77': 0.6491011266207006}</td>\n      <td>7</td>\n      <td>0.6491011266207006</td>\n    </tr>\n    <tr>\n      <th>3</th>\n      <td>{'77': 0.6123085784265466}</td>\n      <td>7</td>\n      <td>0.6123085784265466</td>\n    </tr>\n    <tr>\n      <th>4</th>\n      <td>{'34': 0.87}</td>\n      <td>3</td>\n      <td>0.87</td>\n    </tr>\n    <tr>\n      <th>5</th>\n      <td>{'77': 0.6225699652019304}</td>\n      <td>7</td>\n      <td>0.6225699652019304</td>\n    </tr>\n    <tr>\n      <th>6</th>\n      <td>{'3': 0.5470808226524633}</td>\n      <td>3</td>\n      <td>0.5470808226524633</td>\n    </tr>\n    <tr>\n      <th>7</th>\n      <td>{'77': 0.6233849004135044}</td>\n      <td>7</td>\n      <td>0.6233849004135044</td>\n    </tr>\n    <tr>\n      <th>8</th>\n      <td>{'77': 0.7050888998743866}</td>\n      <td>7</td>\n      <td>0.7050888998743866</td>\n    </tr>\n    <tr>\n      <th>9</th>\n      <td>{'52': 0.8945052223205372}</td>\n      <td>5</td>\n      <td>0.8945052223205372</td>\n    </tr>\n  </tbody>\n</table>\n</div>"
     },
     "execution_count": 425,
     "metadata": {},
     "output_type": "execute_result"
    }
   ],
   "source": [
    "df=pd.DataFrame({'col1':[\"{'34': 0.9839372122311848}\",\n",
    "                         \"{'77': 0.6724645988404411}\",\n",
    "                         \"{'77': 0.6491011266207006}\",\n",
    "                         \"{'77': 0.6123085784265466}\",\n",
    "                         \"{'34': 0.87}\",\n",
    "                         \"{'77': 0.6225699652019304}\",\n",
    "                         \"{'3': 0.5470808226524633}\",\n",
    "                         \"{'77': 0.6233849004135044}\",\n",
    "                         \"{'77': 0.7050888998743866}\",\n",
    "                         \"{'52': 0.8945052223205372}\"]})\n",
    "\n",
    "df['event_id'] = df['col1'].str[2]\n",
    "df['event_probability'] = df['col1'].str.strip(' }').str.split(':').str[1]\n",
    "df"
   ],
   "metadata": {
    "collapsed": false,
    "pycharm": {
     "name": "#%%\n"
    }
   }
  },
  {
   "cell_type": "markdown",
   "metadata": {},
   "source": [
    "**2\\.** Удалите все тэги, переносы строк из текстов новостей (★★★)\n",
    "\n",
    "(hint: df.column.str())"
   ]
  },
  {
   "cell_type": "code",
   "execution_count": 426,
   "metadata": {
    "collapsed": true
   },
   "outputs": [
    {
     "data": {
      "text/plain": "                                                 text\n0   <html>\\n <body>\\n  <p>\\n   Сообщение о существ...\n1   <html>\\n <body>\\n  <p>\\n   <mark-inn class=\"{5...\n2   <html>\\n <body>\\n  <p>\\n   <mark-sentence clas...\n3   <html>\\n <body>\\n  <h3 id=\"header\">\\n   Самарс...\n4   <html>\\n <body>\\n  <p>\\n   <mark-sentence clas...\n..                                                ...\n15  <html>\\n <body>\\n  <p>\\n   <span class=\"articl...\n16  <html>\\n <body>\\n  <p>\\n   дата: on источник:\\...\n17  <html>\\n <body>\\n  <p>\\n   <mark-inn>\\n    НУР...\n18  <html>\\n <body>\\n  <p>\\n   <mark-inn>\\n    Sam...\n19  <html>\\n <body>\\n  <p>\\n   В администрации Кра...\n\n[20 rows x 1 columns]",
      "text/html": "<div>\n<style scoped>\n    .dataframe tbody tr th:only-of-type {\n        vertical-align: middle;\n    }\n\n    .dataframe tbody tr th {\n        vertical-align: top;\n    }\n\n    .dataframe thead th {\n        text-align: right;\n    }\n</style>\n<table border=\"1\" class=\"dataframe\">\n  <thead>\n    <tr style=\"text-align: right;\">\n      <th></th>\n      <th>text</th>\n    </tr>\n  </thead>\n  <tbody>\n    <tr>\n      <th>0</th>\n      <td>&lt;html&gt;\\n &lt;body&gt;\\n  &lt;p&gt;\\n   Сообщение о существ...</td>\n    </tr>\n    <tr>\n      <th>1</th>\n      <td>&lt;html&gt;\\n &lt;body&gt;\\n  &lt;p&gt;\\n   &lt;mark-inn class=\"{5...</td>\n    </tr>\n    <tr>\n      <th>2</th>\n      <td>&lt;html&gt;\\n &lt;body&gt;\\n  &lt;p&gt;\\n   &lt;mark-sentence clas...</td>\n    </tr>\n    <tr>\n      <th>3</th>\n      <td>&lt;html&gt;\\n &lt;body&gt;\\n  &lt;h3 id=\"header\"&gt;\\n   Самарс...</td>\n    </tr>\n    <tr>\n      <th>4</th>\n      <td>&lt;html&gt;\\n &lt;body&gt;\\n  &lt;p&gt;\\n   &lt;mark-sentence clas...</td>\n    </tr>\n    <tr>\n      <th>...</th>\n      <td>...</td>\n    </tr>\n    <tr>\n      <th>15</th>\n      <td>&lt;html&gt;\\n &lt;body&gt;\\n  &lt;p&gt;\\n   &lt;span class=\"articl...</td>\n    </tr>\n    <tr>\n      <th>16</th>\n      <td>&lt;html&gt;\\n &lt;body&gt;\\n  &lt;p&gt;\\n   дата: on источник:\\...</td>\n    </tr>\n    <tr>\n      <th>17</th>\n      <td>&lt;html&gt;\\n &lt;body&gt;\\n  &lt;p&gt;\\n   &lt;mark-inn&gt;\\n    НУР...</td>\n    </tr>\n    <tr>\n      <th>18</th>\n      <td>&lt;html&gt;\\n &lt;body&gt;\\n  &lt;p&gt;\\n   &lt;mark-inn&gt;\\n    Sam...</td>\n    </tr>\n    <tr>\n      <th>19</th>\n      <td>&lt;html&gt;\\n &lt;body&gt;\\n  &lt;p&gt;\\n   В администрации Кра...</td>\n    </tr>\n  </tbody>\n</table>\n<p>20 rows × 1 columns</p>\n</div>"
     },
     "execution_count": 426,
     "metadata": {},
     "output_type": "execute_result"
    }
   ],
   "source": [
    "df = pd.read_excel('news.xlsx')\n",
    "\n",
    "df"
   ]
  },
  {
   "cell_type": "code",
   "execution_count": 427,
   "outputs": [
    {
     "name": "stderr",
     "output_type": "stream",
     "text": [
      "<ipython-input-427-03c87510ad12>:1: FutureWarning: The default value of regex will change from True to False in a future version.\n",
      "  df.text = df.text.str.replace(r'<.+>|\\n', '')\n"
     ]
    },
    {
     "data": {
      "text/plain": "                                                 text\n0         Сообщение о существенном факте         о...\n1             НИЖНИЙ      НОВГОРОД, 3 декабря 2019...\n2             УЛЬЯНОВСК, 3 декабря 2019, 11:38 - R...\n3         Самарская область признана одним из лиде...\n4             Окружная администрация Якутска подпи...\n..                                                ...\n15                 София        ,         4 декабр...\n16        дата: on источник:       Управление по с...\n17            НУР-СУЛТАН      .       КАЗИНФОРМ   ...\n18            Samsung Heavy Industries      постав...\n19        В администрации Краснодарского края подв...\n\n[20 rows x 1 columns]",
      "text/html": "<div>\n<style scoped>\n    .dataframe tbody tr th:only-of-type {\n        vertical-align: middle;\n    }\n\n    .dataframe tbody tr th {\n        vertical-align: top;\n    }\n\n    .dataframe thead th {\n        text-align: right;\n    }\n</style>\n<table border=\"1\" class=\"dataframe\">\n  <thead>\n    <tr style=\"text-align: right;\">\n      <th></th>\n      <th>text</th>\n    </tr>\n  </thead>\n  <tbody>\n    <tr>\n      <th>0</th>\n      <td>Сообщение о существенном факте         о...</td>\n    </tr>\n    <tr>\n      <th>1</th>\n      <td>НИЖНИЙ      НОВГОРОД, 3 декабря 2019...</td>\n    </tr>\n    <tr>\n      <th>2</th>\n      <td>УЛЬЯНОВСК, 3 декабря 2019, 11:38 - R...</td>\n    </tr>\n    <tr>\n      <th>3</th>\n      <td>Самарская область признана одним из лиде...</td>\n    </tr>\n    <tr>\n      <th>4</th>\n      <td>Окружная администрация Якутска подпи...</td>\n    </tr>\n    <tr>\n      <th>...</th>\n      <td>...</td>\n    </tr>\n    <tr>\n      <th>15</th>\n      <td>София        ,         4 декабр...</td>\n    </tr>\n    <tr>\n      <th>16</th>\n      <td>дата: on источник:       Управление по с...</td>\n    </tr>\n    <tr>\n      <th>17</th>\n      <td>НУР-СУЛТАН      .       КАЗИНФОРМ   ...</td>\n    </tr>\n    <tr>\n      <th>18</th>\n      <td>Samsung Heavy Industries      постав...</td>\n    </tr>\n    <tr>\n      <th>19</th>\n      <td>В администрации Краснодарского края подв...</td>\n    </tr>\n  </tbody>\n</table>\n<p>20 rows × 1 columns</p>\n</div>"
     },
     "execution_count": 427,
     "metadata": {},
     "output_type": "execute_result"
    }
   ],
   "source": [
    "df.text = df.text.str.replace(r'<.+>|\\n', '')\n",
    "df"
   ],
   "metadata": {
    "collapsed": false,
    "pycharm": {
     "name": "#%%\n"
    }
   }
  },
  {
   "cell_type": "markdown",
   "metadata": {},
   "source": [
    "**3\\.** Проставьте флаг в колонку source_ria если текст новости содержит: риа новости, тасс, коммерсант. Перед поиском переведите тексты в lower и удалите все кроме букв. Данные после чистки из предыдушего задания (★★★)\n",
    "\n",
    "(hint: df.column.str())"
   ]
  },
  {
   "cell_type": "code",
   "execution_count": 428,
   "metadata": {
    "collapsed": true
   },
   "outputs": [
    {
     "data": {
      "text/plain": "                                                 text  source_ria \n0         Сообщение о существенном факте         о...        False\n1             НИЖНИЙ      НОВГОРОД, 3 декабря 2019...        False\n2             УЛЬЯНОВСК, 3 декабря 2019, 11:38 - R...        False\n3         Самарская область признана одним из лиде...        False\n4             Окружная администрация Якутска подпи...        False\n..                                                ...          ...\n15                 София        ,         4 декабр...        False\n16        дата: on источник:       Управление по с...        False\n17            НУР-СУЛТАН      .       КАЗИНФОРМ   ...        False\n18            Samsung Heavy Industries      постав...         True\n19        В администрации Краснодарского края подв...        False\n\n[20 rows x 2 columns]",
      "text/html": "<div>\n<style scoped>\n    .dataframe tbody tr th:only-of-type {\n        vertical-align: middle;\n    }\n\n    .dataframe tbody tr th {\n        vertical-align: top;\n    }\n\n    .dataframe thead th {\n        text-align: right;\n    }\n</style>\n<table border=\"1\" class=\"dataframe\">\n  <thead>\n    <tr style=\"text-align: right;\">\n      <th></th>\n      <th>text</th>\n      <th>source_ria</th>\n    </tr>\n  </thead>\n  <tbody>\n    <tr>\n      <th>0</th>\n      <td>Сообщение о существенном факте         о...</td>\n      <td>False</td>\n    </tr>\n    <tr>\n      <th>1</th>\n      <td>НИЖНИЙ      НОВГОРОД, 3 декабря 2019...</td>\n      <td>False</td>\n    </tr>\n    <tr>\n      <th>2</th>\n      <td>УЛЬЯНОВСК, 3 декабря 2019, 11:38 - R...</td>\n      <td>False</td>\n    </tr>\n    <tr>\n      <th>3</th>\n      <td>Самарская область признана одним из лиде...</td>\n      <td>False</td>\n    </tr>\n    <tr>\n      <th>4</th>\n      <td>Окружная администрация Якутска подпи...</td>\n      <td>False</td>\n    </tr>\n    <tr>\n      <th>...</th>\n      <td>...</td>\n      <td>...</td>\n    </tr>\n    <tr>\n      <th>15</th>\n      <td>София        ,         4 декабр...</td>\n      <td>False</td>\n    </tr>\n    <tr>\n      <th>16</th>\n      <td>дата: on источник:       Управление по с...</td>\n      <td>False</td>\n    </tr>\n    <tr>\n      <th>17</th>\n      <td>НУР-СУЛТАН      .       КАЗИНФОРМ   ...</td>\n      <td>False</td>\n    </tr>\n    <tr>\n      <th>18</th>\n      <td>Samsung Heavy Industries      постав...</td>\n      <td>True</td>\n    </tr>\n    <tr>\n      <th>19</th>\n      <td>В администрации Краснодарского края подв...</td>\n      <td>False</td>\n    </tr>\n  </tbody>\n</table>\n<p>20 rows × 2 columns</p>\n</div>"
     },
     "execution_count": 428,
     "metadata": {},
     "output_type": "execute_result"
    }
   ],
   "source": [
    "txt = df['text']\n",
    "txt = txt.str.lower().replace('[\\d.!?\\-,:\"/—–]', '', regex=True)\n",
    "df['source_ria '] = txt.str.findall('(риа новости)|(тасс)|(коммерсант)').str.len() > 0\n",
    "df"
   ]
  },
  {
   "cell_type": "markdown",
   "metadata": {},
   "source": [
    "**4\\.** Отфильтруйте строки с валидными емейлами (★★★)"
   ]
  },
  {
   "cell_type": "code",
   "execution_count": 429,
   "metadata": {
    "collapsed": true
   },
   "outputs": [
    {
     "data": {
      "text/plain": "1    rameses@egypt.com\n2            matt@t.co\n3    narendra@modi.com\ndtype: object"
     },
     "execution_count": 429,
     "metadata": {},
     "output_type": "execute_result"
    }
   ],
   "source": [
    "emails = pd.Series(['buying books at amazom.com', 'rameses@egypt.com', 'matt@t.co', 'narendra@modi.com', 'kek lol@mail.ru'])\n",
    "\n",
    "emails[emails.apply(lambda x: bool(re.fullmatch(r'\\w{1,}@[a-z]{1,}\\.*(com|co|ru)', x)))]"
   ]
  },
  {
   "cell_type": "markdown",
   "metadata": {},
   "source": [
    "**5\\.** Напишите паттерн для поиска строки содержащей только буквы в верхнем и нижнем регистре, цифры и подчеркивание"
   ]
  },
  {
   "cell_type": "code",
   "execution_count": 430,
   "metadata": {
    "collapsed": true
   },
   "outputs": [
    {
     "name": "stdout",
     "output_type": "stream",
     "text": [
      "None\n",
      "<re.Match object; span=(0, 28), match='Жилбезстрахаиумер_без_страха'>\n"
     ]
    }
   ],
   "source": [
    "print(re.fullmatch('\\w+', 'Жил без страха и умер без страха'))\n",
    "print(re.fullmatch('\\w+', 'Жилбезстрахаиумер_без_страха'))"
   ]
  },
  {
   "cell_type": "markdown",
   "metadata": {},
   "source": [
    "**6\\.** Замените пробелы на подчеркивание и наоборот"
   ]
  },
  {
   "cell_type": "code",
   "execution_count": 431,
   "metadata": {
    "collapsed": true
   },
   "outputs": [
    {
     "data": {
      "text/plain": "'_a_s_ddff_d__'"
     },
     "execution_count": 431,
     "metadata": {},
     "output_type": "execute_result"
    }
   ],
   "source": [
    "s = \" a s ddff_d_ \"\n",
    "\n",
    "s.replace(r'_', ' ')\n",
    "s.replace(r' ', '_')"
   ]
  },
  {
   "cell_type": "markdown",
   "metadata": {},
   "source": [
    "**7\\.** Найдите слова длиной 3,4,5 "
   ]
  },
  {
   "cell_type": "code",
   "execution_count": 432,
   "metadata": {
    "collapsed": true
   },
   "outputs": [
    {
     "data": {
      "text/plain": "['Жил', 'без', 'траха', 'умер', 'без']"
     },
     "execution_count": 432,
     "metadata": {},
     "output_type": "execute_result"
    }
   ],
   "source": [
    "s = 'Жил без страха и умер без страха'\n",
    "re.findall(r'\\s*([a-zA-Zа-яА-ЯёЁ]{3,5})\\s{1,}', s)"
   ]
  },
  {
   "cell_type": "markdown",
   "metadata": {},
   "source": [
    "**8\\.** Сделайте регистронезависимую замену(replace) во входной строке"
   ]
  },
  {
   "cell_type": "code",
   "execution_count": 433,
   "outputs": [
    {
     "data": {
      "text/plain": "'ААААААААААААААААААААААААААА без страха и умер без страха'"
     },
     "execution_count": 433,
     "metadata": {},
     "output_type": "execute_result"
    }
   ],
   "source": [
    "re.sub('жил', 'ААААААААААААААААААААААААААА', s, flags=re.IGNORECASE)"
   ],
   "metadata": {
    "collapsed": false,
    "pycharm": {
     "name": "#%%\n"
    }
   }
  },
  {
   "cell_type": "code",
   "execution_count": null,
   "outputs": [],
   "source": [],
   "metadata": {
    "collapsed": false,
    "pycharm": {
     "name": "#%%\n"
    }
   }
  }
 ],
 "metadata": {
  "kernelspec": {
   "display_name": "Python 3",
   "language": "python",
   "name": "python3"
  },
  "language_info": {
   "codemirror_mode": {
    "name": "ipython",
    "version": 3
   },
   "file_extension": ".py",
   "mimetype": "text/x-python",
   "name": "python",
   "nbconvert_exporter": "python",
   "pygments_lexer": "ipython3",
   "version": "3.6.1"
  }
 },
 "nbformat": 4,
 "nbformat_minor": 2
}